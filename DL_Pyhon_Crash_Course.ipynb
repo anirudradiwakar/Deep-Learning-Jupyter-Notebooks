{
 "cells": [
  {
   "cell_type": "markdown",
   "metadata": {
    "id": "U7PCTnV2rPKc"
   },
   "source": [
    "**Basic Data Types in Python**\n",
    "\n",
    "\n",
    "1.   Numbers\n",
    "2.   String\n",
    "3.   Boolean\n",
    "\n"
   ]
  },
  {
   "cell_type": "code",
   "execution_count": null,
   "metadata": {
    "colab": {
     "base_uri": "https://localhost:8080/",
     "height": 35
    },
    "id": "lCm7yOuurTht",
    "outputId": "d7036bf6-b5bf-45b9-cfbe-3008b21ead0c"
   },
   "outputs": [
    {
     "name": "stdout",
     "output_type": "stream",
     "text": [
      "<class 'int'>\n"
     ]
    }
   ],
   "source": [
    "x = 3 # Type of data stored is Integer.\n",
    "print(type(x))"
   ]
  },
  {
   "cell_type": "code",
   "execution_count": null,
   "metadata": {
    "colab": {
     "base_uri": "https://localhost:8080/",
     "height": 35
    },
    "id": "_IoPKhifsMv5",
    "outputId": "35795187-cd8a-49b3-b27c-a34619229520"
   },
   "outputs": [
    {
     "name": "stdout",
     "output_type": "stream",
     "text": [
      "4\n"
     ]
    }
   ],
   "source": [
    "print(x+1)"
   ]
  },
  {
   "cell_type": "markdown",
   "metadata": {
    "id": "u1qX5-BNsjH3"
   },
   "source": [
    "Strings\n"
   ]
  },
  {
   "cell_type": "code",
   "execution_count": null,
   "metadata": {
    "colab": {
     "base_uri": "https://localhost:8080/",
     "height": 34
    },
    "id": "EdJQ2S8HskoT",
    "outputId": "68fe4576-e2f0-4468-c508-ea55cfe12fa5"
   },
   "outputs": [
    {
     "name": "stdout",
     "output_type": "stream",
     "text": [
      "Python Programming\n"
     ]
    }
   ],
   "source": [
    "name = \"Python Programming\"\n",
    "print(name)"
   ]
  },
  {
   "cell_type": "code",
   "execution_count": null,
   "metadata": {
    "colab": {
     "base_uri": "https://localhost:8080/",
     "height": 34
    },
    "id": "8tccq2qrs3R3",
    "outputId": "022465d6-a2ba-4b59-bd43-e3c261bdcb7f"
   },
   "outputs": [
    {
     "data": {
      "text/plain": [
       "18"
      ]
     },
     "execution_count": 3,
     "metadata": {
      "tags": []
     },
     "output_type": "execute_result"
    }
   ],
   "source": [
    "len(name) "
   ]
  },
  {
   "cell_type": "code",
   "execution_count": null,
   "metadata": {
    "colab": {
     "base_uri": "https://localhost:8080/",
     "height": 54
    },
    "id": "xk9YEr6Gs5oy",
    "outputId": "66ad6728-e3ae-407a-845c-413c1a92f0ab"
   },
   "outputs": [
    {
     "name": "stdout",
     "output_type": "stream",
     "text": [
      "Hello\n",
      "PYTHON PROGRAMMING\n"
     ]
    }
   ],
   "source": [
    "#String functions\n",
    "name1 = \"hello\"\n",
    "print(name1.capitalize())  #Capitalizes the first charcter\n",
    "print(name.upper())  #Converts all the characters to upper case"
   ]
  },
  {
   "cell_type": "markdown",
   "metadata": {
    "id": "bYl1LAWXt2tm"
   },
   "source": [
    "**Containers**\n",
    "\n",
    "\n",
    "1.   List\n",
    "2.   Tuple\n",
    "3.   Dictionary\n",
    "4.   Array\n",
    "5.   Sets\n",
    "\n"
   ]
  },
  {
   "cell_type": "code",
   "execution_count": null,
   "metadata": {
    "colab": {
     "base_uri": "https://localhost:8080/",
     "height": 35
    },
    "id": "bbm5hgxouKCW",
    "outputId": "3667e180-048a-4550-871b-d7b2fc12fa5a"
   },
   "outputs": [
    {
     "name": "stdout",
     "output_type": "stream",
     "text": [
      "['Python', 8, False, 99.05]\n"
     ]
    }
   ],
   "source": [
    "#List\n",
    "xs = [\"Python\", 8, 3>5, 99.05]\n",
    "print(xs)"
   ]
  },
  {
   "cell_type": "code",
   "execution_count": null,
   "metadata": {
    "colab": {
     "base_uri": "https://localhost:8080/",
     "height": 35
    },
    "id": "UwcJS1tauy3A",
    "outputId": "f9407acd-bc19-4e8f-dca0-4685757b3594"
   },
   "outputs": [
    {
     "name": "stdout",
     "output_type": "stream",
     "text": [
      "['Python', 8, 'ML', 99.05, 34]\n"
     ]
    }
   ],
   "source": [
    "xs[2] = \"ML\"\n",
    "xs.append(34)\n",
    "\n",
    "print(xs)"
   ]
  },
  {
   "cell_type": "code",
   "execution_count": null,
   "metadata": {
    "colab": {
     "base_uri": "https://localhost:8080/",
     "height": 35
    },
    "id": "savhuGsAu8K5",
    "outputId": "be93d9f2-831e-4776-b4ba-c68270121701"
   },
   "outputs": [
    {
     "data": {
      "text/plain": [
       "'Python'"
      ]
     },
     "execution_count": 14,
     "metadata": {
      "tags": []
     },
     "output_type": "execute_result"
    }
   ],
   "source": [
    "xs.pop()\n",
    "xs.pop(0)\n"
   ]
  },
  {
   "cell_type": "markdown",
   "metadata": {
    "id": "Ux7iU0Dhv9Ti"
   },
   "source": [
    "**Slicing**"
   ]
  },
  {
   "cell_type": "code",
   "execution_count": null,
   "metadata": {
    "colab": {
     "base_uri": "https://localhost:8080/",
     "height": 35
    },
    "id": "lphxOLiWwAas",
    "outputId": "fba9b9e6-0ead-4616-c054-59694a421308"
   },
   "outputs": [
    {
     "name": "stdout",
     "output_type": "stream",
     "text": [
      "[0, 1, 2, 3, 4]\n"
     ]
    }
   ],
   "source": [
    "num = list(range(5))\n",
    "#slicing syn: list[start: end-1]\n",
    "print(num)"
   ]
  },
  {
   "cell_type": "code",
   "execution_count": null,
   "metadata": {
    "colab": {
     "base_uri": "https://localhost:8080/",
     "height": 35
    },
    "id": "PlhP-7d2xRkB",
    "outputId": "cd0851ff-4603-470d-d2e8-2583bf71aa35"
   },
   "outputs": [
    {
     "name": "stdout",
     "output_type": "stream",
     "text": [
      "[2, 3, 4]\n"
     ]
    }
   ],
   "source": [
    "print(num[2:])"
   ]
  },
  {
   "cell_type": "code",
   "execution_count": null,
   "metadata": {
    "colab": {
     "base_uri": "https://localhost:8080/",
     "height": 35
    },
    "id": "n1DAGvg9xZER",
    "outputId": "c8d370ac-dd66-4ec6-a04f-79a303179d3a"
   },
   "outputs": [
    {
     "name": "stdout",
     "output_type": "stream",
     "text": [
      "Pto rgamn\n"
     ]
    }
   ],
   "source": [
    "#Slicing using Step\n",
    "#syn: list[start:end-1:step]\n",
    "print(name[::2])  #Python Programming"
   ]
  },
  {
   "cell_type": "code",
   "execution_count": null,
   "metadata": {
    "colab": {
     "base_uri": "https://localhost:8080/",
     "height": 35
    },
    "id": "L_ybyujdyrC_",
    "outputId": "26b1805d-0744-466e-ddbf-97b00ffaf0e7"
   },
   "outputs": [
    {
     "name": "stdout",
     "output_type": "stream",
     "text": [
      "gnimmargorP nohtyP\n"
     ]
    }
   ],
   "source": [
    "print (name [: : -1])\n"
   ]
  },
  {
   "cell_type": "code",
   "execution_count": null,
   "metadata": {
    "colab": {
     "base_uri": "https://localhost:8080/",
     "height": 90
    },
    "id": "K7U-ro4Ey8mR",
    "outputId": "f5c6e8e6-878f-41d7-8fe6-c131da02719f"
   },
   "outputs": [
    {
     "name": "stdout",
     "output_type": "stream",
     "text": [
      "cat\n",
      "dog\n",
      "monkey\n",
      "cow\n"
     ]
    }
   ],
   "source": [
    "#Looping through the list\n",
    "animals = [\"cat\", \"dog\", \"monkey\", \"cow\"]\n",
    "for animal in animals:\n",
    "  print(animal)"
   ]
  },
  {
   "cell_type": "code",
   "execution_count": null,
   "metadata": {
    "colab": {
     "base_uri": "https://localhost:8080/",
     "height": 35
    },
    "id": "OCH9NdZlzqcQ",
    "outputId": "7abd6896-3eec-4963-82e0-770bfcfb6d21"
   },
   "outputs": [
    {
     "name": "stdout",
     "output_type": "stream",
     "text": [
      "[1, 4, 9, 16]\n"
     ]
    }
   ],
   "source": [
    "nums = [1,2,3,4]\n",
    "squares = []  #empty list\n",
    "for x in nums:\n",
    "  squares.append(x**2)\n",
    "print(squares)"
   ]
  },
  {
   "cell_type": "markdown",
   "metadata": {
    "id": "-HyYuvJd0ewL"
   },
   "source": [
    "print only even squares"
   ]
  },
  {
   "cell_type": "code",
   "execution_count": null,
   "metadata": {
    "colab": {
     "base_uri": "https://localhost:8080/",
     "height": 35
    },
    "id": "ZlCyhSbR0iuG",
    "outputId": "ab855638-94af-484e-9052-e6a194faaa1b"
   },
   "outputs": [
    {
     "name": "stdout",
     "output_type": "stream",
     "text": [
      "[0, 4, 16, 36, 64]\n"
     ]
    }
   ],
   "source": [
    "new_num = list(range(10))\n",
    "even_squares = [x**2 for x in new_num if x % 2 == 0]\n",
    "print(even_squares)"
   ]
  },
  {
   "cell_type": "markdown",
   "metadata": {
    "id": "BtWZLXWo14ly"
   },
   "source": [
    "**Dictionaries**: \n",
    "Which is used to store data in a key value pair similar to map in Java."
   ]
  },
  {
   "cell_type": "code",
   "execution_count": null,
   "metadata": {
    "colab": {
     "base_uri": "https://localhost:8080/",
     "height": 35
    },
    "id": "LhmK2Hbs2ZEO",
    "outputId": "80f859c8-2822-49d8-df67-24d7b6d4527f"
   },
   "outputs": [
    {
     "name": "stdout",
     "output_type": "stream",
     "text": [
      "{'Name': 'Virat', 'Rank': 2, 'Role': 'Captain'}\n"
     ]
    }
   ],
   "source": [
    "d = {'Name': \"Virat\",\n",
    "     'Rank':2,\n",
    "     'Role':'Captain'}\n",
    "print(d)"
   ]
  },
  {
   "cell_type": "code",
   "execution_count": null,
   "metadata": {
    "colab": {
     "base_uri": "https://localhost:8080/",
     "height": 35
    },
    "id": "TWDJ5BsO2r09",
    "outputId": "fc9b0051-1cc2-4454-d006-a056695ade0d"
   },
   "outputs": [
    {
     "name": "stdout",
     "output_type": "stream",
     "text": [
      "Virat\n"
     ]
    }
   ],
   "source": [
    "print(d['Name'])"
   ]
  },
  {
   "cell_type": "code",
   "execution_count": null,
   "metadata": {
    "colab": {
     "base_uri": "https://localhost:8080/",
     "height": 35
    },
    "id": "5svc55Iv3JHV",
    "outputId": "85dadad5-a733-4781-e4bf-4c4ed4113188"
   },
   "outputs": [
    {
     "name": "stdout",
     "output_type": "stream",
     "text": [
      "{'Name': 'Virat', 'Rank': 2, 'Role': 'Captain', 'IPL_Frachise': 'Bengaluru'}\n"
     ]
    }
   ],
   "source": [
    "d['IPL_Frachise'] = \"Bengaluru\"\n",
    "print(d)"
   ]
  },
  {
   "cell_type": "code",
   "execution_count": null,
   "metadata": {
    "colab": {
     "base_uri": "https://localhost:8080/",
     "height": 35
    },
    "id": "zmjNW56S3iZv",
    "outputId": "cc4055b5-d685-49a3-cf83-eec9e7724ec4"
   },
   "outputs": [
    {
     "name": "stdout",
     "output_type": "stream",
     "text": [
      "dict_keys(['Name', 'Rank', 'Role', 'IPL_Frachise']) dict_values(['Virat', 2, 'Captain', 'Bengaluru'])\n"
     ]
    }
   ],
   "source": [
    "print(d.keys(), d.values())\n"
   ]
  },
  {
   "cell_type": "markdown",
   "metadata": {
    "id": "5RqPlhmp6_07"
   },
   "source": [
    "**Tuples**"
   ]
  },
  {
   "cell_type": "code",
   "execution_count": null,
   "metadata": {
    "colab": {
     "base_uri": "https://localhost:8080/",
     "height": 54
    },
    "id": "_80nGDxq7E57",
    "outputId": "ea5ee56c-cae7-485e-e6e0-e62fe21e2c25"
   },
   "outputs": [
    {
     "name": "stdout",
     "output_type": "stream",
     "text": [
      "<class 'tuple'>\n",
      "(1, 2, 3, 'Python', True, 94.2)\n"
     ]
    }
   ],
   "source": [
    "t = (1,2,3, \"Python\", 3>2, 94.20)\n",
    "print(type(t))\n",
    "print(t)"
   ]
  },
  {
   "cell_type": "code",
   "execution_count": null,
   "metadata": {
    "colab": {
     "base_uri": "https://localhost:8080/",
     "height": 35
    },
    "id": "zI4eOpYL70T8",
    "outputId": "0de19687-f556-48bf-d999-ad6cabff5437"
   },
   "outputs": [
    {
     "name": "stdout",
     "output_type": "stream",
     "text": [
      "True\n"
     ]
    }
   ],
   "source": [
    "print(t[4])"
   ]
  },
  {
   "cell_type": "code",
   "execution_count": null,
   "metadata": {
    "colab": {
     "base_uri": "https://localhost:8080/",
     "height": 54
    },
    "id": "LOTosi5b713p",
    "outputId": "5fc7e2db-b6c7-4824-cf75-26516eb1a3c1"
   },
   "outputs": [
    {
     "name": "stdout",
     "output_type": "stream",
     "text": [
      "{(0, 1): 0, (1, 2): 1, (2, 3): 2, (3, 4): 3, (4, 5): 4, (5, 6): 5, (6, 7): 6, (7, 8): 7, (8, 9): 8, (9, 10): 9}\n",
      "<class 'dict'>\n"
     ]
    }
   ],
   "source": [
    "d2 = {(x,x+1): x for x in range(10)}\n",
    "print(d2)\n",
    "print(type(d2))"
   ]
  },
  {
   "cell_type": "markdown",
   "metadata": {
    "id": "Qvp72AE19BZO"
   },
   "source": [
    "**Functions**\n",
    "\n",
    "Block of Statements to achieve a task\n",
    "\n",
    "syn: def f_name:\n",
    "  statements\n",
    "  "
   ]
  },
  {
   "cell_type": "code",
   "execution_count": null,
   "metadata": {
    "colab": {
     "base_uri": "https://localhost:8080/",
     "height": 54
    },
    "id": "3QiegKAC97Pe",
    "outputId": "7f49a201-24b1-443c-fba4-15c15fcfbbbe"
   },
   "outputs": [
    {
     "name": "stdout",
     "output_type": "stream",
     "text": [
      "Enter the number0\n",
      "Zero\n"
     ]
    }
   ],
   "source": [
    "def sign(x):\n",
    "  if(x>0):\n",
    "    return(\"Positive\")\n",
    "  elif(x<0):\n",
    "    return(\"Negative\")\n",
    "  else:\n",
    "    return(\"Zero\")\n",
    "x = int(input(\"Enter the number\"))\n",
    "print(sign(x))"
   ]
  },
  {
   "cell_type": "markdown",
   "metadata": {
    "id": "IIkAIepkAkjU"
   },
   "source": [
    "**Classes**"
   ]
  },
  {
   "cell_type": "code",
   "execution_count": null,
   "metadata": {
    "colab": {
     "base_uri": "https://localhost:8080/",
     "height": 54
    },
    "id": "xLa4LmnAAyl9",
    "outputId": "4de49439-764d-4c70-9d35-90a54895e643"
   },
   "outputs": [
    {
     "name": "stdout",
     "output_type": "stream",
     "text": [
      "Hello Nawaz\n",
      "Hello PYTHON PROGRAMMING\n"
     ]
    }
   ],
   "source": [
    "class Greeter(object):\n",
    "  #Constructor\n",
    "  def __init__(self, name):\n",
    "    self.name = name  #it creates an instance variable\n",
    "  \n",
    "  #instance method\n",
    "  def greet(self, loud=False):\n",
    "    if(loud):\n",
    "      print(\"Hello\", name.upper())\n",
    "    else:\n",
    "      print(\"Hello\", self.name)\n",
    "    \n",
    "g = Greeter(\"Nawaz\")\n",
    "g.greet()\n",
    "g.greet(loud = True)"
   ]
  },
  {
   "cell_type": "code",
   "execution_count": null,
   "metadata": {
    "colab": {
     "base_uri": "https://localhost:8080/",
     "height": 54
    },
    "id": "eVjqQ1MBJm2B",
    "outputId": "1bd3cc78-bde4-49bb-9589-aebd9e37a229"
   },
   "outputs": [
    {
     "name": "stdout",
     "output_type": "stream",
     "text": [
      "Hello Nawaz\n",
      "Hello NAWAZ\n"
     ]
    }
   ],
   "source": [
    "class Greeter():\n",
    "  #Constructor\n",
    "  def __init__(self, name):\n",
    "    self.name = name\n",
    "    #it creates an instance variable\n",
    "  \n",
    "  #instance method\n",
    "  def greet(self, loud=False):\n",
    "    if(loud):\n",
    "      print(\"Hello\", self.name.upper())\n",
    "    else:\n",
    "      print(\"Hello\", self.name)\n",
    "    \n",
    "g = Greeter(\"Nawaz\")\n",
    "g.greet()\n",
    "g.greet(loud = True)\n"
   ]
  }
 ],
 "metadata": {
  "colab": {
   "collapsed_sections": [],
   "name": "DL_Pyhon_Crash_Course",
   "provenance": []
  },
  "kernelspec": {
   "display_name": "Python 3",
   "language": "python",
   "name": "python3"
  },
  "language_info": {
   "codemirror_mode": {
    "name": "ipython",
    "version": 3
   },
   "file_extension": ".py",
   "mimetype": "text/x-python",
   "name": "python",
   "nbconvert_exporter": "python",
   "pygments_lexer": "ipython3",
   "version": "3.8.5"
  }
 },
 "nbformat": 4,
 "nbformat_minor": 1
}
