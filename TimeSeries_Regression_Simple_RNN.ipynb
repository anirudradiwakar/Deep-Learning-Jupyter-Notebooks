{
 "cells": [
  {
   "cell_type": "code",
   "execution_count": 1,
   "metadata": {},
   "outputs": [],
   "source": [
    "import pandas as pd\n",
    "import numpy as np\n",
    "import matplotlib.pyplot as plt\n",
    "from tensorflow.keras.models import Sequential\n",
    "from tensorflow.keras.layers import Dense, SimpleRNN"
   ]
  },
  {
   "cell_type": "code",
   "execution_count": 2,
   "metadata": {},
   "outputs": [
    {
     "data": {
      "text/html": [
       "<div>\n",
       "<style scoped>\n",
       "    .dataframe tbody tr th:only-of-type {\n",
       "        vertical-align: middle;\n",
       "    }\n",
       "\n",
       "    .dataframe tbody tr th {\n",
       "        vertical-align: top;\n",
       "    }\n",
       "\n",
       "    .dataframe thead th {\n",
       "        text-align: right;\n",
       "    }\n",
       "</style>\n",
       "<table border=\"1\" class=\"dataframe\">\n",
       "  <thead>\n",
       "    <tr style=\"text-align: right;\">\n",
       "      <th></th>\n",
       "      <th>0</th>\n",
       "    </tr>\n",
       "  </thead>\n",
       "  <tbody>\n",
       "    <tr>\n",
       "      <th>0</th>\n",
       "      <td>1.168213</td>\n",
       "    </tr>\n",
       "    <tr>\n",
       "      <th>1</th>\n",
       "      <td>1.727798</td>\n",
       "    </tr>\n",
       "    <tr>\n",
       "      <th>2</th>\n",
       "      <td>0.907261</td>\n",
       "    </tr>\n",
       "    <tr>\n",
       "      <th>3</th>\n",
       "      <td>0.504691</td>\n",
       "    </tr>\n",
       "    <tr>\n",
       "      <th>4</th>\n",
       "      <td>0.375917</td>\n",
       "    </tr>\n",
       "  </tbody>\n",
       "</table>\n",
       "</div>"
      ],
      "text/plain": [
       "          0\n",
       "0  1.168213\n",
       "1  1.727798\n",
       "2  0.907261\n",
       "3  0.504691\n",
       "4  0.375917"
      ]
     },
     "execution_count": 2,
     "metadata": {},
     "output_type": "execute_result"
    }
   ],
   "source": [
    "N = 1000\n",
    "Tp = 800    \n",
    "\n",
    "t=np.arange(0,N)\n",
    "x=np.sin(0.02*t)+2*np.random.rand(N)\n",
    "df = pd.DataFrame(x)\n",
    "df.head()"
   ]
  },
  {
   "cell_type": "code",
   "execution_count": 3,
   "metadata": {},
   "outputs": [
    {
     "data": {
      "image/png": "[encoded data removed]",
      "text/plain": [
       "<Figure size 432x288 with 1 Axes>"
      ]
     },
     "metadata": {
      "needs_background": "light"
     },
     "output_type": "display_data"
    }
   ],
   "source": [
    "plt.plot(df)\n",
    "plt.show()"
   ]
  },
  {
   "cell_type": "code",
   "execution_count": 4,
   "metadata": {},
   "outputs": [],
   "source": [
    "values=df.values\n",
    "train,test = values[0:Tp,:], values[Tp:N,:]"
   ]
  },
  {
   "cell_type": "markdown",
   "metadata": {},
   "source": [
    "Preparing data (reshaping)\n",
    "\n",
    "RNN model requires a step value that contains n number of elements as an input sequence. \n",
    "\n",
    "Here, we define it as a 'step'. \n",
    "\n",
    "x has the following sequence data.\n",
    "x = [1,2,3,4,5,6,7,8,9,10]\n",
    "\n",
    "for step=1, x input  and its y prediction become:\n",
    "x  y\n",
    "1  2\n",
    "2  3\n",
    "3  4\n",
    "4  5\n",
    "..\n",
    "9  10\n",
    "\n",
    "\n",
    "for step=3, x and y contain:\n",
    "x         y\n",
    "1,2,3   4\n",
    "2,3,4   5\n",
    "3,4,5   6\n",
    "4,5,6   7\n",
    "...\n",
    "7,8,9   10\n",
    "\n",
    "As you have noticed the sizes of x input and y output become different. \n",
    "\n",
    "We'll fix it by adding step size into the training and test data."
   ]
  },
  {
   "cell_type": "code",
   "execution_count": 5,
   "metadata": {},
   "outputs": [],
   "source": [
    "step = 4\n",
    "# add step elements into train and test\n",
    "test = np.append(test,np.repeat(test[-1,],step))\n",
    "train = np.append(train,np.repeat(train[-1,],step))"
   ]
  },
  {
   "cell_type": "code",
   "execution_count": 6,
   "metadata": {},
   "outputs": [
    {
     "data": {
      "text/plain": [
       "0.8096573360649577"
      ]
     },
     "execution_count": 6,
     "metadata": {},
     "output_type": "execute_result"
    }
   ],
   "source": [
    "train[-1,]"
   ]
  },
  {
   "cell_type": "code",
   "execution_count": 7,
   "metadata": {},
   "outputs": [],
   "source": [
    "def convertToMatrix(data, step):\n",
    " X, Y =[], []\n",
    " for i in range(len(data)-step):\n",
    "  d=i+step  \n",
    "  X.append(data[i:d,])\n",
    "  Y.append(data[d,])\n",
    " return np.array(X), np.array(Y)\n"
   ]
  },
  {
   "cell_type": "code",
   "execution_count": 8,
   "metadata": {},
   "outputs": [],
   "source": [
    "trainX,trainY =convertToMatrix(train,step)\n",
    "testX,testY =convertToMatrix(test,step)"
   ]
  },
  {
   "cell_type": "code",
   "execution_count": 9,
   "metadata": {},
   "outputs": [
    {
     "data": {
      "text/plain": [
       "array([1.1682127 , 1.72779829, 0.90726062, 0.50469125])"
      ]
     },
     "execution_count": 9,
     "metadata": {},
     "output_type": "execute_result"
    }
   ],
   "source": [
    "trainX[0]"
   ]
  },
  {
   "cell_type": "code",
   "execution_count": 10,
   "metadata": {},
   "outputs": [
    {
     "data": {
      "text/plain": [
       "0.37591718545172326"
      ]
     },
     "execution_count": 10,
     "metadata": {},
     "output_type": "execute_result"
    }
   ],
   "source": [
    "trainY[0]"
   ]
  },
  {
   "cell_type": "markdown",
   "metadata": {},
   "source": [
    "Finally, we'll reshape trainX and testX to fit with the Keras model. \n",
    "\n",
    "RNN model requires three-dimensional input data.\n",
    "You can see the shape of testX below."
   ]
  },
  {
   "cell_type": "code",
   "execution_count": 11,
   "metadata": {},
   "outputs": [],
   "source": [
    "trainX = np.reshape(trainX, (trainX.shape[0], 1, trainX.shape[1]))\n",
    "testX = np.reshape(testX, (testX.shape[0], 1, testX.shape[1]))\n",
    "\n"
   ]
  },
  {
   "cell_type": "code",
   "execution_count": 12,
   "metadata": {},
   "outputs": [
    {
     "data": {
      "text/plain": [
       "(200, 1, 4)"
      ]
     },
     "execution_count": 12,
     "metadata": {},
     "output_type": "execute_result"
    }
   ],
   "source": [
    "testX.shape"
   ]
  },
  {
   "cell_type": "code",
   "execution_count": 13,
   "metadata": {},
   "outputs": [
    {
     "name": "stdout",
     "output_type": "stream",
     "text": [
      "Model: \"sequential\"\n",
      "_________________________________________________________________\n",
      "Layer (type)                 Output Shape              Param #   \n",
      "=================================================================\n",
      "simple_rnn (SimpleRNN)       (None, 32)                1184      \n",
      "_________________________________________________________________\n",
      "dense (Dense)                (None, 8)                 264       \n",
      "_________________________________________________________________\n",
      "dense_1 (Dense)              (None, 1)                 9         \n",
      "=================================================================\n",
      "Total params: 1,457\n",
      "Trainable params: 1,457\n",
      "Non-trainable params: 0\n",
      "_________________________________________________________________\n"
     ]
    }
   ],
   "source": [
    "# SimpleRNN model\n",
    "model = Sequential()\n",
    "model.add(SimpleRNN(units=32, input_shape=(1,step), activation=\"relu\"))\n",
    "model.add(Dense(8, activation=\"relu\")) \n",
    "model.add(Dense(1))\n",
    "model.compile(loss='mean_squared_error', optimizer='rmsprop')\n",
    "model.summary()"
   ]
  },
  {
   "cell_type": "code",
   "execution_count": 14,
   "metadata": {},
   "outputs": [
    {
     "name": "stdout",
     "output_type": "stream",
     "text": [
      "Epoch 1/50\n",
      "50/50 - 1s - loss: 0.8673\n",
      "Epoch 2/50\n",
      "50/50 - 0s - loss: 0.4558\n",
      "Epoch 3/50\n",
      "50/50 - 0s - loss: 0.4411\n",
      "Epoch 4/50\n",
      "50/50 - 0s - loss: 0.4374\n",
      "Epoch 5/50\n",
      "50/50 - 0s - loss: 0.4329\n",
      "Epoch 6/50\n",
      "50/50 - 0s - loss: 0.4321\n",
      "Epoch 7/50\n",
      "50/50 - 0s - loss: 0.4301\n",
      "Epoch 8/50\n",
      "50/50 - 0s - loss: 0.4303\n",
      "Epoch 9/50\n",
      "50/50 - 0s - loss: 0.4282\n",
      "Epoch 10/50\n",
      "50/50 - 0s - loss: 0.4276\n",
      "Epoch 11/50\n",
      "50/50 - 0s - loss: 0.4257\n",
      "Epoch 12/50\n",
      "50/50 - 0s - loss: 0.4259\n",
      "Epoch 13/50\n",
      "50/50 - 0s - loss: 0.4227\n",
      "Epoch 14/50\n",
      "50/50 - 0s - loss: 0.4222\n",
      "Epoch 15/50\n",
      "50/50 - 0s - loss: 0.4231\n",
      "Epoch 16/50\n",
      "50/50 - 0s - loss: 0.4223\n",
      "Epoch 17/50\n",
      "50/50 - 0s - loss: 0.4202\n",
      "Epoch 18/50\n",
      "50/50 - 0s - loss: 0.4193\n",
      "Epoch 19/50\n",
      "50/50 - 0s - loss: 0.4190\n",
      "Epoch 20/50\n",
      "50/50 - 0s - loss: 0.4173\n",
      "Epoch 21/50\n",
      "50/50 - 0s - loss: 0.4169\n",
      "Epoch 22/50\n",
      "50/50 - 0s - loss: 0.4153\n",
      "Epoch 23/50\n",
      "50/50 - 0s - loss: 0.4160\n",
      "Epoch 24/50\n",
      "50/50 - 0s - loss: 0.4136\n",
      "Epoch 25/50\n",
      "50/50 - 0s - loss: 0.4136\n",
      "Epoch 26/50\n",
      "50/50 - 0s - loss: 0.4116\n",
      "Epoch 27/50\n",
      "50/50 - 0s - loss: 0.4125\n",
      "Epoch 28/50\n",
      "50/50 - 0s - loss: 0.4121\n",
      "Epoch 29/50\n",
      "50/50 - 0s - loss: 0.4113\n",
      "Epoch 30/50\n",
      "50/50 - 0s - loss: 0.4108\n",
      "Epoch 31/50\n",
      "50/50 - 0s - loss: 0.4081\n",
      "Epoch 32/50\n",
      "50/50 - 0s - loss: 0.4101\n",
      "Epoch 33/50\n",
      "50/50 - 0s - loss: 0.4086\n",
      "Epoch 34/50\n",
      "50/50 - 0s - loss: 0.4096\n",
      "Epoch 35/50\n",
      "50/50 - 0s - loss: 0.4094\n",
      "Epoch 36/50\n",
      "50/50 - 0s - loss: 0.4069\n",
      "Epoch 37/50\n",
      "50/50 - 0s - loss: 0.4060\n",
      "Epoch 38/50\n",
      "50/50 - 0s - loss: 0.4059\n",
      "Epoch 39/50\n",
      "50/50 - 0s - loss: 0.4064\n",
      "Epoch 40/50\n",
      "50/50 - 0s - loss: 0.4061\n",
      "Epoch 41/50\n",
      "50/50 - 0s - loss: 0.4047\n",
      "Epoch 42/50\n",
      "50/50 - 0s - loss: 0.4038\n",
      "Epoch 43/50\n",
      "50/50 - 0s - loss: 0.4023\n",
      "Epoch 44/50\n",
      "50/50 - 0s - loss: 0.4050\n",
      "Epoch 45/50\n",
      "50/50 - 0s - loss: 0.4030\n",
      "Epoch 46/50\n",
      "50/50 - 0s - loss: 0.4015\n",
      "Epoch 47/50\n",
      "50/50 - 0s - loss: 0.4018\n",
      "Epoch 48/50\n",
      "50/50 - 0s - loss: 0.4012\n",
      "Epoch 49/50\n",
      "50/50 - 0s - loss: 0.4015\n",
      "Epoch 50/50\n",
      "50/50 - 0s - loss: 0.3994\n"
     ]
    }
   ],
   "source": [
    "model.fit(trainX,trainY, epochs=50, batch_size=16, verbose=2)\n",
    "trainPredict = model.predict(trainX)\n",
    "testPredict= model.predict(testX)\n",
    "predicted=np.concatenate((trainPredict,testPredict),axis=0)"
   ]
  },
  {
   "cell_type": "code",
   "execution_count": 15,
   "metadata": {},
   "outputs": [
    {
     "name": "stdout",
     "output_type": "stream",
     "text": [
      "0.3971352279186249\n"
     ]
    }
   ],
   "source": [
    "trainScore = model.evaluate(trainX, trainY, verbose=0)\n",
    "print(trainScore)"
   ]
  },
  {
   "cell_type": "code",
   "execution_count": 16,
   "metadata": {},
   "outputs": [
    {
     "name": "stdout",
     "output_type": "stream",
     "text": [
      "0.4677281081676483\n"
     ]
    }
   ],
   "source": [
    "testScore = model.evaluate(testX, testY, verbose=0)\n",
    "print(testScore)"
   ]
  },
  {
   "cell_type": "code",
   "execution_count": 17,
   "metadata": {},
   "outputs": [],
   "source": [
    "#index = df.index.to_numpy(copy=True)\n"
   ]
  },
  {
   "cell_type": "code",
   "execution_count": 18,
   "metadata": {},
   "outputs": [],
   "source": [
    "#index\n"
   ]
  },
  {
   "cell_type": "code",
   "execution_count": 19,
   "metadata": {},
   "outputs": [
    {
     "data": {
      "image/png": "[encoded data removed]",
      "text/plain": [
       "<Figure size 432x288 with 1 Axes>"
      ]
     },
     "metadata": {
      "needs_background": "light"
     },
     "output_type": "display_data"
    }
   ],
   "source": [
    "plt.plot(df)\n",
    "plt.plot(predicted)\n",
    "plt.axvline(df.index[Tp], c=\"r\")\n",
    "plt.show() "
   ]
  },
  {
   "cell_type": "code",
   "execution_count": null,
   "metadata": {},
   "outputs": [],
   "source": []
  },
  {
   "cell_type": "code",
   "execution_count": null,
   "metadata": {},
   "outputs": [],
   "source": []
  }
 ],
 "metadata": {
  "kernelspec": {
   "display_name": "Python 3",
   "language": "python",
   "name": "python3"
  },
  "language_info": {
   "codemirror_mode": {
    "name": "ipython",
    "version": 3
   },
   "file_extension": ".py",
   "mimetype": "text/x-python",
   "name": "python",
   "nbconvert_exporter": "python",
   "pygments_lexer": "ipython3",
   "version": "3.6.12"
  }
 },
 "nbformat": 4,
 "nbformat_minor": 4
}
