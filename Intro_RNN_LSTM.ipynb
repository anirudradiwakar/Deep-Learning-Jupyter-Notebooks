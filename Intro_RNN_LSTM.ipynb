{
 "cells": [
  {
   "cell_type": "markdown",
   "metadata": {
    "id": "n4dNIlHtzJa6"
   },
   "source": [
    "# Basic RNN\n",
    "- Objective: to understand basics of RNN & LSTM"
   ]
  },
  {
   "cell_type": "markdown",
   "metadata": {
    "id": "2XjGSyD0zJa8"
   },
   "source": [
    "## Recurrent Neural Networks\n",
    "- Feedforward neural networks (e.g. MLPs and CNNs) are powerful, but they are not optimized to handle \"sequential\" data\n",
    "- In other words, they do not possess \"memory\" of previous inputs\n",
    "- For instance, consider the case of translating a corpus. You need to consider the **\"context\"** to guess the next word to come forward\n",
    "\n",
    "\n",
    "<br>\n",
    "- RNNs are suitable for dealing with sequential format data since they have **\"recurrent\"** structure\n",
    "- To put it differently, they keep the **\"memory\"** of earlier inputs in the sequence\n",
    "</br>\n",
    "\n",
    "<img src=\"http://www.wildml.com/wp-content/uploads/2015/09/rnn.jpg\" style=\"width: 600px\"/>\n",
    "<br>\n",
    "- However, in order to reduce the number of parameters, every layer of different time steps shares same parameters\n",
    "</br>\n",
    "\n",
    "<img src=\"http://colah.github.io/posts/2015-08-Understanding-LSTMs/img/RNN-unrolled.png\" style=\"width: 600px\"/>"
   ]
  },
  {
   "cell_type": "markdown",
   "metadata": {
    "id": "_2SD0BuyzJa8"
   },
   "source": [
    "## Load Dataset"
   ]
  },
  {
   "cell_type": "code",
   "execution_count": 80,
   "metadata": {
    "executionInfo": {
     "elapsed": 2959,
     "status": "ok",
     "timestamp": 1604888360129,
     "user": {
      "displayName": "Buomsoo Kim",
      "photoUrl": "",
      "userId": "18268696804115368229"
     },
     "user_tz": 420
    },
    "id": "g_rD7drqzJa9"
   },
   "outputs": [],
   "source": [
    "import numpy as np\n",
    "\n",
    "from sklearn.metrics import accuracy_score\n",
    "from tensorflow.keras.datasets import reuters\n",
    "from tensorflow.keras.preprocessing.sequence import pad_sequences\n",
    "from tensorflow.keras.utils import to_categorical\n",
    "\n",
    "import matplotlib.pyplot as plt"
   ]
  },
  {
   "cell_type": "code",
   "execution_count": 89,
   "metadata": {
    "executionInfo": {
     "elapsed": 695,
     "status": "ok",
     "timestamp": 1604888361955,
     "user": {
      "displayName": "Buomsoo Kim",
      "photoUrl": "",
      "userId": "18268696804115368229"
     },
     "user_tz": 420
    },
    "id": "4hZppYUzzJbA"
   },
   "outputs": [],
   "source": [
    "# parameters for data load\n",
    "num_words = 30000\n",
    "maxlen = 50\n",
    "test_split = 0.3"
   ]
  },
  {
   "cell_type": "code",
   "execution_count": 90,
   "metadata": {
    "colab": {
     "base_uri": "https://localhost:8080/"
    },
    "executionInfo": {
     "elapsed": 1143,
     "status": "ok",
     "timestamp": 1604888362996,
     "user": {
      "displayName": "Buomsoo Kim",
      "photoUrl": "",
      "userId": "18268696804115368229"
     },
     "user_tz": 420
    },
    "id": "AmS9LN4TzJbD",
    "outputId": "487a0cea-c552-4750-a06b-f2da9e4c5719"
   },
   "outputs": [],
   "source": [
    "(X_train, y_train), (X_test, y_test) = reuters.load_data(num_words = num_words, maxlen = maxlen, test_split = test_split)"
   ]
  },
  {
   "cell_type": "code",
   "execution_count": 91,
   "metadata": {},
   "outputs": [
    {
     "data": {
      "text/plain": [
       "(1395,)"
      ]
     },
     "execution_count": 91,
     "metadata": {},
     "output_type": "execute_result"
    }
   ],
   "source": [
    "X_train.shape"
   ]
  },
  {
   "cell_type": "code",
   "execution_count": 93,
   "metadata": {},
   "outputs": [
    {
     "data": {
      "text/plain": [
       "[1, 486, 341, 785, 26, 14, 482, 26, 255, 606, 252, 83, 146, 91, 102, 17, 12]"
      ]
     },
     "execution_count": 93,
     "metadata": {},
     "output_type": "execute_result"
    }
   ],
   "source": [
    "X_train[1]"
   ]
  },
  {
   "cell_type": "code",
   "execution_count": 94,
   "metadata": {},
   "outputs": [
    {
     "data": {
      "text/plain": [
       "array([3, 3, 3, ..., 3, 3, 3], dtype=int64)"
      ]
     },
     "execution_count": 94,
     "metadata": {},
     "output_type": "execute_result"
    }
   ],
   "source": [
    "y_train"
   ]
  },
  {
   "cell_type": "code",
   "execution_count": 95,
   "metadata": {},
   "outputs": [
    {
     "data": {
      "text/plain": [
       "array([ 0,  1,  2,  3,  4,  6,  8,  9, 10, 11, 12, 13, 14, 16, 17, 18, 19,\n",
       "       20, 21, 23, 24, 25, 28, 30, 32, 34, 36, 37, 38, 39, 45],\n",
       "      dtype=int64)"
      ]
     },
     "execution_count": 95,
     "metadata": {},
     "output_type": "execute_result"
    }
   ],
   "source": [
    "np.unique(y_train)"
   ]
  },
  {
   "cell_type": "code",
   "execution_count": 96,
   "metadata": {},
   "outputs": [
    {
     "data": {
      "text/plain": [
       "array([ 0,  1,  2,  3,  4,  5,  6,  8, 10, 11, 12, 13, 16, 17, 18, 19, 20,\n",
       "       23, 24, 25, 26, 32, 40, 42], dtype=int64)"
      ]
     },
     "execution_count": 96,
     "metadata": {},
     "output_type": "execute_result"
    }
   ],
   "source": [
    "np.unique(y_test)"
   ]
  },
  {
   "cell_type": "code",
   "execution_count": 97,
   "metadata": {
    "executionInfo": {
     "elapsed": 598,
     "status": "ok",
     "timestamp": 1604888364309,
     "user": {
      "displayName": "Buomsoo Kim",
      "photoUrl": "",
      "userId": "18268696804115368229"
     },
     "user_tz": 420
    },
    "id": "0e843OUOzJbF"
   },
   "outputs": [],
   "source": [
    "# pad the sequences with zeros \n",
    "# padding parameter is set to 'post' => 0's are appended to end of sequences\n",
    "X_train = pad_sequences(X_train, padding = 'post')\n",
    "X_test = pad_sequences(X_test, padding = 'post')"
   ]
  },
  {
   "cell_type": "code",
   "execution_count": 98,
   "metadata": {},
   "outputs": [
    {
     "data": {
      "text/plain": [
       "array([   1,  245,  273,  207,  156,   53,   74,  160,   26,   14,   46,\n",
       "        296,   26,   39,   74, 2979, 3554,   14,   46, 4689, 4329,   86,\n",
       "         61, 3499, 4795,   14,   61,  451, 4329,   17,   12,    0,    0,\n",
       "          0,    0,    0,    0,    0,    0,    0,    0,    0,    0,    0,\n",
       "          0,    0,    0,    0,    0])"
      ]
     },
     "execution_count": 98,
     "metadata": {},
     "output_type": "execute_result"
    }
   ],
   "source": [
    "X_train[0]"
   ]
  },
  {
   "cell_type": "code",
   "execution_count": 99,
   "metadata": {
    "executionInfo": {
     "elapsed": 474,
     "status": "ok",
     "timestamp": 1604888365085,
     "user": {
      "displayName": "Buomsoo Kim",
      "photoUrl": "",
      "userId": "18268696804115368229"
     },
     "user_tz": 420
    },
    "id": "gDw_7bOjzJbI"
   },
   "outputs": [],
   "source": [
    "X_train = np.array(X_train).reshape((X_train.shape[0], X_train.shape[1], 1))\n",
    "X_test = np.array(X_test).reshape((X_test.shape[0], X_test.shape[1], 1))"
   ]
  },
  {
   "cell_type": "code",
   "execution_count": 100,
   "metadata": {
    "executionInfo": {
     "elapsed": 466,
     "status": "ok",
     "timestamp": 1604888365768,
     "user": {
      "displayName": "Buomsoo Kim",
      "photoUrl": "",
      "userId": "18268696804115368229"
     },
     "user_tz": 420
    },
    "id": "lhN_j4F-zJbL"
   },
   "outputs": [],
   "source": [
    "y_data = np.concatenate((y_train, y_test))\n",
    "y_data = to_categorical(y_data)"
   ]
  },
  {
   "cell_type": "code",
   "execution_count": 101,
   "metadata": {
    "executionInfo": {
     "elapsed": 220,
     "status": "ok",
     "timestamp": 1604888366527,
     "user": {
      "displayName": "Buomsoo Kim",
      "photoUrl": "",
      "userId": "18268696804115368229"
     },
     "user_tz": 420
    },
    "id": "9aziJ943zJbP"
   },
   "outputs": [],
   "source": [
    "y_train = y_data[:1395]\n",
    "y_test = y_data[1395:]"
   ]
  },
  {
   "cell_type": "code",
   "execution_count": 102,
   "metadata": {
    "colab": {
     "base_uri": "https://localhost:8080/"
    },
    "executionInfo": {
     "elapsed": 345,
     "status": "ok",
     "timestamp": 1604888367214,
     "user": {
      "displayName": "Buomsoo Kim",
      "photoUrl": "",
      "userId": "18268696804115368229"
     },
     "user_tz": 420
    },
    "id": "HinpbuzHzJbR",
    "outputId": "70ac55c5-cb5c-4ed4-efca-8bfc6a400318"
   },
   "outputs": [
    {
     "name": "stdout",
     "output_type": "stream",
     "text": [
      "(1395, 49, 1)\n",
      "(599, 49, 1)\n",
      "(1395, 46)\n",
      "(599, 46)\n"
     ]
    }
   ],
   "source": [
    "print(X_train.shape)\n",
    "print(X_test.shape)\n",
    "print(y_train.shape)\n",
    "print(y_test.shape)"
   ]
  },
  {
   "cell_type": "markdown",
   "metadata": {
    "id": "W5-mzgBozJbU"
   },
   "source": [
    "## 1. Vanilla RNN\n",
    "- Vanilla RNNs have a simple structure\n",
    "- However, they suffer from the problem of \"long-term dependencies\"\n",
    "- Hence, they are not able to keep the **sequential memory\" for long\n",
    "\n",
    "<img src=\"http://colah.github.io/posts/2015-08-Understanding-LSTMs/img/LSTM3-SimpleRNN.png\" style=\"width: 600px\"/>"
   ]
  },
  {
   "cell_type": "code",
   "execution_count": 103,
   "metadata": {
    "executionInfo": {
     "elapsed": 325,
     "status": "ok",
     "timestamp": 1604888374023,
     "user": {
      "displayName": "Buomsoo Kim",
      "photoUrl": "",
      "userId": "18268696804115368229"
     },
     "user_tz": 420
    },
    "id": "po2XO6q6zJbV"
   },
   "outputs": [],
   "source": [
    "from tensorflow.keras.models import Sequential\n",
    "from tensorflow.keras.layers import Dense, SimpleRNN, Activation\n",
    "from tensorflow.keras import optimizers\n"
   ]
  },
  {
   "cell_type": "code",
   "execution_count": 104,
   "metadata": {
    "executionInfo": {
     "elapsed": 447,
     "status": "ok",
     "timestamp": 1604888375121,
     "user": {
      "displayName": "Buomsoo Kim",
      "photoUrl": "",
      "userId": "18268696804115368229"
     },
     "user_tz": 420
    },
    "id": "P1hZj7eDzJbX"
   },
   "outputs": [],
   "source": [
    "def vanilla_rnn():\n",
    "    model = Sequential()\n",
    "    model.add(SimpleRNN(50, input_shape = (49,1), return_sequences = False))\n",
    "    model.add(Dense(46))\n",
    "    model.add(Activation('softmax'))\n",
    "    \n",
    "    adam = optimizers.Adam(learning_rate = 0.001)\n",
    "    model.compile(loss = 'categorical_crossentropy', optimizer = adam, metrics = ['accuracy'])\n",
    "    \n",
    "    return model"
   ]
  },
  {
   "cell_type": "code",
   "execution_count": 106,
   "metadata": {
    "executionInfo": {
     "elapsed": 408,
     "status": "ok",
     "timestamp": 1604888376431,
     "user": {
      "displayName": "Buomsoo Kim",
      "photoUrl": "",
      "userId": "18268696804115368229"
     },
     "user_tz": 420
    },
    "id": "ui3Zl90ozJba"
   },
   "outputs": [],
   "source": [
    "#model = KerasClassifier(build_fn = vanilla_rnn, epochs = 200, batch_size = 50, verbose = 1)\n",
    "model = vanilla_rnn()"
   ]
  },
  {
   "cell_type": "code",
   "execution_count": 107,
   "metadata": {
    "colab": {
     "base_uri": "https://localhost:8080/"
    },
    "executionInfo": {
     "elapsed": 55122,
     "status": "ok",
     "timestamp": 1604888431594,
     "user": {
      "displayName": "Buomsoo Kim",
      "photoUrl": "",
      "userId": "18268696804115368229"
     },
     "user_tz": 420
    },
    "id": "t4oHmOUSzJbc",
    "outputId": "afbaf548-97a3-4d3e-a962-74d9a31dad88"
   },
   "outputs": [
    {
     "name": "stdout",
     "output_type": "stream",
     "text": [
      "Epoch 1/200\n",
      "23/23 [==============================] - 2s 28ms/step - loss: 3.2470 - accuracy: 0.4489 - val_loss: 2.2806 - val_accuracy: 0.6918\n",
      "Epoch 2/200\n",
      "23/23 [==============================] - 0s 14ms/step - loss: 1.8041 - accuracy: 0.6837 - val_loss: 1.4463 - val_accuracy: 0.7240\n",
      "Epoch 3/200\n",
      "23/23 [==============================] - 0s 14ms/step - loss: 1.3737 - accuracy: 0.7124 - val_loss: 1.2085 - val_accuracy: 0.7240\n",
      "Epoch 4/200\n",
      "23/23 [==============================] - 0s 14ms/step - loss: 1.2350 - accuracy: 0.7124 - val_loss: 1.1388 - val_accuracy: 0.7240\n",
      "Epoch 5/200\n",
      "23/23 [==============================] - 0s 14ms/step - loss: 1.1994 - accuracy: 0.7124 - val_loss: 1.1194 - val_accuracy: 0.7240\n",
      "Epoch 6/200\n",
      "23/23 [==============================] - 0s 14ms/step - loss: 1.1858 - accuracy: 0.7124 - val_loss: 1.1134 - val_accuracy: 0.7240\n",
      "Epoch 7/200\n",
      "23/23 [==============================] - 0s 14ms/step - loss: 1.1800 - accuracy: 0.7124 - val_loss: 1.1105 - val_accuracy: 0.7240\n",
      "Epoch 8/200\n",
      "23/23 [==============================] - 0s 15ms/step - loss: 1.1765 - accuracy: 0.7124 - val_loss: 1.1120 - val_accuracy: 0.7240\n",
      "Epoch 9/200\n",
      "23/23 [==============================] - 0s 13ms/step - loss: 1.1765 - accuracy: 0.7124 - val_loss: 1.1073 - val_accuracy: 0.7240\n",
      "Epoch 10/200\n",
      "23/23 [==============================] - 0s 13ms/step - loss: 1.1721 - accuracy: 0.7124 - val_loss: 1.1051 - val_accuracy: 0.7240\n",
      "Epoch 11/200\n",
      "23/23 [==============================] - 0s 15ms/step - loss: 1.1694 - accuracy: 0.7124 - val_loss: 1.1035 - val_accuracy: 0.7240\n",
      "Epoch 12/200\n",
      "23/23 [==============================] - 0s 16ms/step - loss: 1.1657 - accuracy: 0.7124 - val_loss: 1.1066 - val_accuracy: 0.7240\n",
      "Epoch 13/200\n",
      "23/23 [==============================] - 0s 13ms/step - loss: 1.1654 - accuracy: 0.7124 - val_loss: 1.1040 - val_accuracy: 0.7240\n",
      "Epoch 14/200\n",
      "23/23 [==============================] - 0s 13ms/step - loss: 1.1634 - accuracy: 0.7124 - val_loss: 1.1055 - val_accuracy: 0.7240\n",
      "Epoch 15/200\n",
      "23/23 [==============================] - ETA: 0s - loss: 1.1649 - accuracy: 0.71 - 0s 14ms/step - loss: 1.1625 - accuracy: 0.7124 - val_loss: 1.1031 - val_accuracy: 0.7240\n",
      "Epoch 16/200\n",
      "23/23 [==============================] - 0s 14ms/step - loss: 1.1621 - accuracy: 0.7124 - val_loss: 1.1058 - val_accuracy: 0.7240\n",
      "Epoch 17/200\n",
      "23/23 [==============================] - 0s 14ms/step - loss: 1.1602 - accuracy: 0.7124 - val_loss: 1.1034 - val_accuracy: 0.7240\n",
      "Epoch 18/200\n",
      "23/23 [==============================] - 0s 14ms/step - loss: 1.1599 - accuracy: 0.7124 - val_loss: 1.1052 - val_accuracy: 0.7240\n",
      "Epoch 19/200\n",
      "23/23 [==============================] - 0s 14ms/step - loss: 1.1618 - accuracy: 0.7124 - val_loss: 1.1068 - val_accuracy: 0.7240\n",
      "Epoch 20/200\n",
      "23/23 [==============================] - 0s 14ms/step - loss: 1.1578 - accuracy: 0.7124 - val_loss: 1.1056 - val_accuracy: 0.7240\n",
      "Epoch 21/200\n",
      "23/23 [==============================] - 0s 15ms/step - loss: 1.1590 - accuracy: 0.7124 - val_loss: 1.1020 - val_accuracy: 0.7240\n",
      "Epoch 22/200\n",
      "23/23 [==============================] - 0s 14ms/step - loss: 1.1579 - accuracy: 0.7124 - val_loss: 1.1114 - val_accuracy: 0.7240\n",
      "Epoch 23/200\n",
      "23/23 [==============================] - 0s 14ms/step - loss: 1.1553 - accuracy: 0.7124 - val_loss: 1.1037 - val_accuracy: 0.7240\n",
      "Epoch 24/200\n",
      "23/23 [==============================] - 0s 15ms/step - loss: 1.1575 - accuracy: 0.7124 - val_loss: 1.1051 - val_accuracy: 0.7240\n",
      "Epoch 25/200\n",
      "23/23 [==============================] - 0s 15ms/step - loss: 1.1537 - accuracy: 0.7124 - val_loss: 1.1029 - val_accuracy: 0.7240\n",
      "Epoch 26/200\n",
      "23/23 [==============================] - 0s 14ms/step - loss: 1.1532 - accuracy: 0.7124 - val_loss: 1.1029 - val_accuracy: 0.7240\n",
      "Epoch 27/200\n",
      "23/23 [==============================] - 0s 15ms/step - loss: 1.1535 - accuracy: 0.7124 - val_loss: 1.1030 - val_accuracy: 0.7240\n",
      "Epoch 28/200\n",
      "23/23 [==============================] - 0s 14ms/step - loss: 1.1528 - accuracy: 0.7124 - val_loss: 1.1042 - val_accuracy: 0.7240\n",
      "Epoch 29/200\n",
      "23/23 [==============================] - 0s 15ms/step - loss: 1.1509 - accuracy: 0.7124 - val_loss: 1.1064 - val_accuracy: 0.7240\n",
      "Epoch 30/200\n",
      "23/23 [==============================] - 0s 15ms/step - loss: 1.1515 - accuracy: 0.7124 - val_loss: 1.1071 - val_accuracy: 0.7240\n",
      "Epoch 31/200\n",
      "23/23 [==============================] - 0s 15ms/step - loss: 1.1513 - accuracy: 0.7124 - val_loss: 1.1019 - val_accuracy: 0.7240\n",
      "Epoch 32/200\n",
      "23/23 [==============================] - 0s 14ms/step - loss: 1.1507 - accuracy: 0.7124 - val_loss: 1.1049 - val_accuracy: 0.7240\n",
      "Epoch 33/200\n",
      "23/23 [==============================] - 0s 14ms/step - loss: 1.1511 - accuracy: 0.7124 - val_loss: 1.1052 - val_accuracy: 0.7240\n",
      "Epoch 34/200\n",
      "23/23 [==============================] - 0s 13ms/step - loss: 1.1476 - accuracy: 0.7124 - val_loss: 1.1069 - val_accuracy: 0.7240\n",
      "Epoch 35/200\n",
      "23/23 [==============================] - 0s 14ms/step - loss: 1.1470 - accuracy: 0.7124 - val_loss: 1.1067 - val_accuracy: 0.7240\n",
      "Epoch 36/200\n",
      "23/23 [==============================] - 0s 13ms/step - loss: 1.1461 - accuracy: 0.7124 - val_loss: 1.1014 - val_accuracy: 0.7240\n",
      "Epoch 37/200\n",
      "23/23 [==============================] - 0s 14ms/step - loss: 1.1443 - accuracy: 0.7124 - val_loss: 1.1051 - val_accuracy: 0.7240\n",
      "Epoch 38/200\n",
      "23/23 [==============================] - 0s 14ms/step - loss: 1.1433 - accuracy: 0.7124 - val_loss: 1.1047 - val_accuracy: 0.7240\n",
      "Epoch 39/200\n",
      "23/23 [==============================] - 0s 16ms/step - loss: 1.1417 - accuracy: 0.7124 - val_loss: 1.1077 - val_accuracy: 0.7240\n",
      "Epoch 40/200\n",
      "23/23 [==============================] - 0s 15ms/step - loss: 1.1469 - accuracy: 0.7124 - val_loss: 1.1056 - val_accuracy: 0.7348\n",
      "Epoch 41/200\n",
      "23/23 [==============================] - 0s 14ms/step - loss: 1.1421 - accuracy: 0.7133 - val_loss: 1.1104 - val_accuracy: 0.7348\n",
      "Epoch 42/200\n",
      "23/23 [==============================] - 0s 14ms/step - loss: 1.1396 - accuracy: 0.7142 - val_loss: 1.1005 - val_accuracy: 0.7240\n",
      "Epoch 43/200\n",
      "23/23 [==============================] - 0s 15ms/step - loss: 1.1329 - accuracy: 0.7106 - val_loss: 1.0915 - val_accuracy: 0.7240\n",
      "Epoch 44/200\n",
      "23/23 [==============================] - 0s 14ms/step - loss: 1.1224 - accuracy: 0.7124 - val_loss: 1.0885 - val_accuracy: 0.7348\n",
      "Epoch 45/200\n",
      "23/23 [==============================] - 0s 15ms/step - loss: 1.1361 - accuracy: 0.7133 - val_loss: 1.1045 - val_accuracy: 0.7276\n",
      "Epoch 46/200\n",
      "23/23 [==============================] - 0s 15ms/step - loss: 1.1336 - accuracy: 0.7159 - val_loss: 1.1069 - val_accuracy: 0.7276\n",
      "Epoch 47/200\n",
      "23/23 [==============================] - 0s 14ms/step - loss: 1.1280 - accuracy: 0.7195 - val_loss: 1.0986 - val_accuracy: 0.7348\n",
      "Epoch 48/200\n",
      "23/23 [==============================] - 0s 15ms/step - loss: 1.1188 - accuracy: 0.7168 - val_loss: 1.0833 - val_accuracy: 0.7276\n",
      "Epoch 49/200\n",
      "23/23 [==============================] - 0s 15ms/step - loss: 1.1059 - accuracy: 0.7124 - val_loss: 1.1070 - val_accuracy: 0.7204\n",
      "Epoch 50/200\n",
      "23/23 [==============================] - 0s 14ms/step - loss: 1.1351 - accuracy: 0.7151 - val_loss: 1.0914 - val_accuracy: 0.7276\n",
      "Epoch 51/200\n",
      "23/23 [==============================] - 0s 14ms/step - loss: 1.1041 - accuracy: 0.7133 - val_loss: 1.0534 - val_accuracy: 0.7204\n",
      "Epoch 52/200\n",
      "23/23 [==============================] - 0s 14ms/step - loss: 1.0738 - accuracy: 0.7124 - val_loss: 1.0691 - val_accuracy: 0.7240\n",
      "Epoch 53/200\n",
      "23/23 [==============================] - 0s 15ms/step - loss: 1.0535 - accuracy: 0.7133 - val_loss: 1.0472 - val_accuracy: 0.7204\n",
      "Epoch 54/200\n",
      "23/23 [==============================] - 0s 14ms/step - loss: 1.0456 - accuracy: 0.7186 - val_loss: 1.1233 - val_accuracy: 0.7240\n",
      "Epoch 55/200\n",
      "23/23 [==============================] - 0s 14ms/step - loss: 1.0880 - accuracy: 0.7115 - val_loss: 1.0709 - val_accuracy: 0.7276\n",
      "Epoch 56/200\n",
      "23/23 [==============================] - 0s 15ms/step - loss: 1.0790 - accuracy: 0.7195 - val_loss: 1.0622 - val_accuracy: 0.7384\n",
      "Epoch 57/200\n",
      "23/23 [==============================] - 0s 13ms/step - loss: 1.0509 - accuracy: 0.7195 - val_loss: 1.0327 - val_accuracy: 0.7204\n",
      "Epoch 58/200\n"
     ]
    },
    {
     "name": "stdout",
     "output_type": "stream",
     "text": [
      "23/23 [==============================] - 0s 14ms/step - loss: 1.0240 - accuracy: 0.7312 - val_loss: 1.0248 - val_accuracy: 0.7312\n",
      "Epoch 59/200\n",
      "23/23 [==============================] - 0s 14ms/step - loss: 1.0114 - accuracy: 0.7258 - val_loss: 1.0240 - val_accuracy: 0.7312\n",
      "Epoch 60/200\n",
      "23/23 [==============================] - 0s 13ms/step - loss: 1.0698 - accuracy: 0.6900 - val_loss: 1.2474 - val_accuracy: 0.7097\n",
      "Epoch 61/200\n",
      "23/23 [==============================] - 0s 15ms/step - loss: 1.1075 - accuracy: 0.7177 - val_loss: 1.0663 - val_accuracy: 0.7276\n",
      "Epoch 62/200\n",
      "23/23 [==============================] - 0s 14ms/step - loss: 1.0446 - accuracy: 0.7195 - val_loss: 1.0304 - val_accuracy: 0.7276\n",
      "Epoch 63/200\n",
      "23/23 [==============================] - 0s 13ms/step - loss: 1.0081 - accuracy: 0.7240 - val_loss: 1.0217 - val_accuracy: 0.7384\n",
      "Epoch 64/200\n",
      "23/23 [==============================] - 0s 14ms/step - loss: 1.0277 - accuracy: 0.7177 - val_loss: 1.0244 - val_accuracy: 0.7348\n",
      "Epoch 65/200\n",
      "23/23 [==============================] - 0s 13ms/step - loss: 1.0197 - accuracy: 0.7294 - val_loss: 1.0254 - val_accuracy: 0.7204\n",
      "Epoch 66/200\n",
      "23/23 [==============================] - 0s 14ms/step - loss: 0.9912 - accuracy: 0.7312 - val_loss: 1.0116 - val_accuracy: 0.7312\n",
      "Epoch 67/200\n",
      "23/23 [==============================] - 0s 14ms/step - loss: 0.9908 - accuracy: 0.7258 - val_loss: 1.0682 - val_accuracy: 0.7061\n",
      "Epoch 68/200\n",
      "23/23 [==============================] - 0s 13ms/step - loss: 1.0061 - accuracy: 0.7231 - val_loss: 1.0294 - val_accuracy: 0.7348\n",
      "Epoch 69/200\n",
      "23/23 [==============================] - 0s 14ms/step - loss: 0.9885 - accuracy: 0.7267 - val_loss: 1.0327 - val_accuracy: 0.7097\n",
      "Epoch 70/200\n",
      "23/23 [==============================] - 0s 14ms/step - loss: 1.0065 - accuracy: 0.7267 - val_loss: 1.0270 - val_accuracy: 0.7204\n",
      "Epoch 71/200\n",
      "23/23 [==============================] - 0s 14ms/step - loss: 0.9844 - accuracy: 0.7285 - val_loss: 1.0162 - val_accuracy: 0.7276\n",
      "Epoch 72/200\n",
      "23/23 [==============================] - 0s 15ms/step - loss: 0.9901 - accuracy: 0.7321 - val_loss: 1.0204 - val_accuracy: 0.7384\n",
      "Epoch 73/200\n",
      "23/23 [==============================] - 0s 14ms/step - loss: 0.9895 - accuracy: 0.7285 - val_loss: 1.0119 - val_accuracy: 0.7312\n",
      "Epoch 74/200\n",
      "23/23 [==============================] - 0s 14ms/step - loss: 0.9752 - accuracy: 0.7321 - val_loss: 1.0334 - val_accuracy: 0.7312\n",
      "Epoch 75/200\n",
      "23/23 [==============================] - 0s 13ms/step - loss: 0.9988 - accuracy: 0.7276 - val_loss: 1.0296 - val_accuracy: 0.7312\n",
      "Epoch 76/200\n",
      "23/23 [==============================] - 0s 13ms/step - loss: 0.9866 - accuracy: 0.7267 - val_loss: 1.0144 - val_accuracy: 0.7312\n",
      "Epoch 77/200\n",
      "23/23 [==============================] - 0s 14ms/step - loss: 0.9799 - accuracy: 0.7330 - val_loss: 1.0309 - val_accuracy: 0.7384\n",
      "Epoch 78/200\n",
      "23/23 [==============================] - 0s 14ms/step - loss: 0.9610 - accuracy: 0.7303 - val_loss: 1.0115 - val_accuracy: 0.7384\n",
      "Epoch 79/200\n",
      "23/23 [==============================] - 0s 14ms/step - loss: 0.9600 - accuracy: 0.7330 - val_loss: 1.0273 - val_accuracy: 0.7204\n",
      "Epoch 80/200\n",
      "23/23 [==============================] - 0s 14ms/step - loss: 0.9551 - accuracy: 0.7312 - val_loss: 1.0172 - val_accuracy: 0.7312\n",
      "Epoch 81/200\n",
      "23/23 [==============================] - 0s 13ms/step - loss: 0.9527 - accuracy: 0.7357 - val_loss: 1.0118 - val_accuracy: 0.7312\n",
      "Epoch 82/200\n",
      "23/23 [==============================] - 0s 13ms/step - loss: 0.9583 - accuracy: 0.7294 - val_loss: 1.0258 - val_accuracy: 0.7384\n",
      "Epoch 83/200\n",
      "23/23 [==============================] - 0s 13ms/step - loss: 0.9579 - accuracy: 0.7348 - val_loss: 1.0113 - val_accuracy: 0.7384\n",
      "Epoch 84/200\n",
      "23/23 [==============================] - 0s 15ms/step - loss: 0.9578 - accuracy: 0.7375 - val_loss: 1.0295 - val_accuracy: 0.7276\n",
      "Epoch 85/200\n",
      "23/23 [==============================] - 0s 13ms/step - loss: 0.9423 - accuracy: 0.7339 - val_loss: 1.0108 - val_accuracy: 0.7312\n",
      "Epoch 86/200\n",
      "23/23 [==============================] - 0s 15ms/step - loss: 0.9400 - accuracy: 0.7357 - val_loss: 1.0272 - val_accuracy: 0.7204\n",
      "Epoch 87/200\n",
      "23/23 [==============================] - 0s 14ms/step - loss: 0.9323 - accuracy: 0.7348 - val_loss: 1.0081 - val_accuracy: 0.7348\n",
      "Epoch 88/200\n",
      "23/23 [==============================] - 0s 13ms/step - loss: 0.9393 - accuracy: 0.7348 - val_loss: 1.0137 - val_accuracy: 0.7348\n",
      "Epoch 89/200\n",
      "23/23 [==============================] - 0s 13ms/step - loss: 0.9323 - accuracy: 0.7357 - val_loss: 1.0084 - val_accuracy: 0.7312\n",
      "Epoch 90/200\n",
      "23/23 [==============================] - 0s 13ms/step - loss: 0.9307 - accuracy: 0.7384 - val_loss: 1.0035 - val_accuracy: 0.7348\n",
      "Epoch 91/200\n",
      "23/23 [==============================] - 0s 14ms/step - loss: 0.9447 - accuracy: 0.7375 - val_loss: 1.0009 - val_accuracy: 0.7348\n",
      "Epoch 92/200\n",
      "23/23 [==============================] - 0s 13ms/step - loss: 0.9224 - accuracy: 0.7357 - val_loss: 1.0018 - val_accuracy: 0.7348\n",
      "Epoch 93/200\n",
      "23/23 [==============================] - 0s 14ms/step - loss: 0.9214 - accuracy: 0.7410 - val_loss: 1.0095 - val_accuracy: 0.7348\n",
      "Epoch 94/200\n",
      "23/23 [==============================] - 0s 13ms/step - loss: 0.9208 - accuracy: 0.7366 - val_loss: 1.0037 - val_accuracy: 0.7312\n",
      "Epoch 95/200\n",
      "23/23 [==============================] - 0s 13ms/step - loss: 0.9126 - accuracy: 0.7375 - val_loss: 1.0227 - val_accuracy: 0.7204\n",
      "Epoch 96/200\n",
      "23/23 [==============================] - 0s 15ms/step - loss: 0.9287 - accuracy: 0.7348 - val_loss: 0.9995 - val_accuracy: 0.7312\n",
      "Epoch 97/200\n",
      "23/23 [==============================] - 0s 15ms/step - loss: 0.9330 - accuracy: 0.7410 - val_loss: 1.0048 - val_accuracy: 0.7348\n",
      "Epoch 98/200\n",
      "23/23 [==============================] - 0s 14ms/step - loss: 0.9140 - accuracy: 0.7384 - val_loss: 1.0138 - val_accuracy: 0.7312\n",
      "Epoch 99/200\n",
      "23/23 [==============================] - 0s 14ms/step - loss: 0.9175 - accuracy: 0.7437 - val_loss: 0.9996 - val_accuracy: 0.7348\n",
      "Epoch 100/200\n",
      "23/23 [==============================] - 0s 13ms/step - loss: 0.9120 - accuracy: 0.7339 - val_loss: 1.0080 - val_accuracy: 0.7312\n",
      "Epoch 101/200\n",
      "23/23 [==============================] - 0s 13ms/step - loss: 0.9081 - accuracy: 0.7366 - val_loss: 1.0112 - val_accuracy: 0.7312\n",
      "Epoch 102/200\n",
      "23/23 [==============================] - 0s 14ms/step - loss: 0.9117 - accuracy: 0.7375 - val_loss: 1.0239 - val_accuracy: 0.7276\n",
      "Epoch 103/200\n",
      "23/23 [==============================] - 0s 14ms/step - loss: 0.9075 - accuracy: 0.7357 - val_loss: 1.0300 - val_accuracy: 0.7276\n",
      "Epoch 104/200\n",
      "23/23 [==============================] - 0s 15ms/step - loss: 0.9011 - accuracy: 0.7392 - val_loss: 0.9885 - val_accuracy: 0.7348\n",
      "Epoch 105/200\n",
      "23/23 [==============================] - 0s 14ms/step - loss: 0.8943 - accuracy: 0.7366 - val_loss: 1.0036 - val_accuracy: 0.7348\n",
      "Epoch 106/200\n",
      "23/23 [==============================] - 0s 14ms/step - loss: 0.8935 - accuracy: 0.7384 - val_loss: 0.9875 - val_accuracy: 0.7384\n",
      "Epoch 107/200\n",
      "23/23 [==============================] - 0s 14ms/step - loss: 0.8916 - accuracy: 0.7384 - val_loss: 1.0205 - val_accuracy: 0.7312\n",
      "Epoch 108/200\n",
      "23/23 [==============================] - 0s 14ms/step - loss: 0.8939 - accuracy: 0.7366 - val_loss: 0.9844 - val_accuracy: 0.7348\n",
      "Epoch 109/200\n",
      "23/23 [==============================] - 0s 14ms/step - loss: 0.8857 - accuracy: 0.7401 - val_loss: 0.9989 - val_accuracy: 0.7419\n",
      "Epoch 110/200\n",
      "23/23 [==============================] - 0s 14ms/step - loss: 0.8787 - accuracy: 0.7446 - val_loss: 0.9998 - val_accuracy: 0.7312\n",
      "Epoch 111/200\n",
      "23/23 [==============================] - 0s 14ms/step - loss: 0.8870 - accuracy: 0.7401 - val_loss: 0.9958 - val_accuracy: 0.7240\n",
      "Epoch 112/200\n",
      "23/23 [==============================] - 0s 13ms/step - loss: 0.8889 - accuracy: 0.7419 - val_loss: 0.9778 - val_accuracy: 0.7419\n",
      "Epoch 113/200\n",
      "23/23 [==============================] - 0s 14ms/step - loss: 0.8679 - accuracy: 0.7437 - val_loss: 0.9839 - val_accuracy: 0.7419\n",
      "Epoch 114/200\n",
      "23/23 [==============================] - 0s 14ms/step - loss: 0.8801 - accuracy: 0.7410 - val_loss: 1.0005 - val_accuracy: 0.7455\n",
      "Epoch 115/200\n"
     ]
    },
    {
     "name": "stdout",
     "output_type": "stream",
     "text": [
      "23/23 [==============================] - 0s 13ms/step - loss: 0.8858 - accuracy: 0.7384 - val_loss: 0.9956 - val_accuracy: 0.7419\n",
      "Epoch 116/200\n",
      "23/23 [==============================] - 0s 13ms/step - loss: 0.8647 - accuracy: 0.7455 - val_loss: 0.9843 - val_accuracy: 0.7455\n",
      "Epoch 117/200\n",
      "23/23 [==============================] - 0s 13ms/step - loss: 0.8629 - accuracy: 0.7473 - val_loss: 0.9904 - val_accuracy: 0.7312\n",
      "Epoch 118/200\n",
      "23/23 [==============================] - 0s 14ms/step - loss: 0.8720 - accuracy: 0.7384 - val_loss: 0.9803 - val_accuracy: 0.7348\n",
      "Epoch 119/200\n",
      "23/23 [==============================] - 0s 13ms/step - loss: 0.8789 - accuracy: 0.7410 - val_loss: 0.9769 - val_accuracy: 0.7419\n",
      "Epoch 120/200\n",
      "23/23 [==============================] - 0s 14ms/step - loss: 0.8559 - accuracy: 0.7428 - val_loss: 0.9776 - val_accuracy: 0.7491\n",
      "Epoch 121/200\n",
      "23/23 [==============================] - 0s 14ms/step - loss: 0.8639 - accuracy: 0.7455 - val_loss: 0.9803 - val_accuracy: 0.7384\n",
      "Epoch 122/200\n",
      "23/23 [==============================] - 0s 14ms/step - loss: 0.8657 - accuracy: 0.7419 - val_loss: 0.9843 - val_accuracy: 0.7419\n",
      "Epoch 123/200\n",
      "23/23 [==============================] - 0s 13ms/step - loss: 0.8689 - accuracy: 0.7410 - val_loss: 0.9778 - val_accuracy: 0.7348\n",
      "Epoch 124/200\n",
      "23/23 [==============================] - 0s 14ms/step - loss: 0.8578 - accuracy: 0.7419 - val_loss: 0.9777 - val_accuracy: 0.7419\n",
      "Epoch 125/200\n",
      "23/23 [==============================] - 0s 13ms/step - loss: 0.8508 - accuracy: 0.7455 - val_loss: 0.9722 - val_accuracy: 0.7419\n",
      "Epoch 126/200\n",
      "23/23 [==============================] - 0s 14ms/step - loss: 0.8541 - accuracy: 0.7455 - val_loss: 0.9907 - val_accuracy: 0.7276\n",
      "Epoch 127/200\n",
      "23/23 [==============================] - 0s 14ms/step - loss: 0.8417 - accuracy: 0.7518 - val_loss: 0.9707 - val_accuracy: 0.7384\n",
      "Epoch 128/200\n",
      "23/23 [==============================] - 0s 13ms/step - loss: 0.8549 - accuracy: 0.7419 - val_loss: 0.9865 - val_accuracy: 0.7419\n",
      "Epoch 129/200\n",
      "23/23 [==============================] - 0s 15ms/step - loss: 0.8448 - accuracy: 0.7527 - val_loss: 0.9706 - val_accuracy: 0.7419\n",
      "Epoch 130/200\n",
      "23/23 [==============================] - 0s 13ms/step - loss: 0.8426 - accuracy: 0.7473 - val_loss: 0.9811 - val_accuracy: 0.7384\n",
      "Epoch 131/200\n",
      "23/23 [==============================] - 0s 14ms/step - loss: 0.8422 - accuracy: 0.7419 - val_loss: 0.9862 - val_accuracy: 0.7312\n",
      "Epoch 132/200\n",
      "23/23 [==============================] - 0s 13ms/step - loss: 0.8755 - accuracy: 0.7410 - val_loss: 0.9916 - val_accuracy: 0.7384\n",
      "Epoch 133/200\n",
      "23/23 [==============================] - 0s 14ms/step - loss: 0.8644 - accuracy: 0.7428 - val_loss: 0.9981 - val_accuracy: 0.7312\n",
      "Epoch 134/200\n",
      "23/23 [==============================] - 0s 13ms/step - loss: 0.8470 - accuracy: 0.7455 - val_loss: 0.9810 - val_accuracy: 0.7455\n",
      "Epoch 135/200\n",
      "23/23 [==============================] - 0s 14ms/step - loss: 0.8379 - accuracy: 0.7446 - val_loss: 0.9680 - val_accuracy: 0.7384\n",
      "Epoch 136/200\n",
      "23/23 [==============================] - 0s 13ms/step - loss: 0.8304 - accuracy: 0.7491 - val_loss: 0.9664 - val_accuracy: 0.7419\n",
      "Epoch 137/200\n",
      "23/23 [==============================] - 0s 13ms/step - loss: 0.8345 - accuracy: 0.7464 - val_loss: 0.9655 - val_accuracy: 0.7384\n",
      "Epoch 138/200\n",
      "23/23 [==============================] - 0s 14ms/step - loss: 0.8411 - accuracy: 0.7473 - val_loss: 0.9823 - val_accuracy: 0.7240\n",
      "Epoch 139/200\n",
      "23/23 [==============================] - 0s 13ms/step - loss: 0.8318 - accuracy: 0.7491 - val_loss: 1.0029 - val_accuracy: 0.7133\n",
      "Epoch 140/200\n",
      "23/23 [==============================] - 0s 13ms/step - loss: 0.8494 - accuracy: 0.7392 - val_loss: 0.9927 - val_accuracy: 0.7455\n",
      "Epoch 141/200\n",
      "23/23 [==============================] - 0s 13ms/step - loss: 0.8390 - accuracy: 0.7482 - val_loss: 0.9745 - val_accuracy: 0.7384\n",
      "Epoch 142/200\n",
      "23/23 [==============================] - 0s 13ms/step - loss: 0.8207 - accuracy: 0.7455 - val_loss: 0.9704 - val_accuracy: 0.7455\n",
      "Epoch 143/200\n",
      "23/23 [==============================] - 0s 14ms/step - loss: 0.8091 - accuracy: 0.7554 - val_loss: 0.9716 - val_accuracy: 0.7384\n",
      "Epoch 144/200\n",
      "23/23 [==============================] - 0s 14ms/step - loss: 0.8117 - accuracy: 0.7527 - val_loss: 0.9686 - val_accuracy: 0.7455\n",
      "Epoch 145/200\n",
      "23/23 [==============================] - 0s 14ms/step - loss: 0.8202 - accuracy: 0.7473 - val_loss: 0.9833 - val_accuracy: 0.7312\n",
      "Epoch 146/200\n",
      "23/23 [==============================] - 0s 14ms/step - loss: 0.8116 - accuracy: 0.7509 - val_loss: 0.9748 - val_accuracy: 0.7276\n",
      "Epoch 147/200\n",
      "23/23 [==============================] - 0s 14ms/step - loss: 0.8023 - accuracy: 0.7545 - val_loss: 0.9762 - val_accuracy: 0.7276\n",
      "Epoch 148/200\n",
      "23/23 [==============================] - 0s 14ms/step - loss: 0.8076 - accuracy: 0.7563 - val_loss: 0.9777 - val_accuracy: 0.7384\n",
      "Epoch 149/200\n",
      "23/23 [==============================] - 0s 14ms/step - loss: 0.8168 - accuracy: 0.7500 - val_loss: 0.9767 - val_accuracy: 0.7491\n",
      "Epoch 150/200\n",
      "23/23 [==============================] - 0s 13ms/step - loss: 0.8033 - accuracy: 0.7536 - val_loss: 0.9746 - val_accuracy: 0.7312\n",
      "Epoch 151/200\n",
      "23/23 [==============================] - 0s 14ms/step - loss: 0.8177 - accuracy: 0.7428 - val_loss: 0.9738 - val_accuracy: 0.7348\n",
      "Epoch 152/200\n",
      "23/23 [==============================] - 0s 14ms/step - loss: 0.8058 - accuracy: 0.7545 - val_loss: 0.9709 - val_accuracy: 0.7419\n",
      "Epoch 153/200\n",
      "23/23 [==============================] - 0s 14ms/step - loss: 0.8140 - accuracy: 0.7491 - val_loss: 0.9706 - val_accuracy: 0.7276\n",
      "Epoch 154/200\n",
      "23/23 [==============================] - 0s 14ms/step - loss: 0.7997 - accuracy: 0.7599 - val_loss: 0.9751 - val_accuracy: 0.7384\n",
      "Epoch 155/200\n",
      "23/23 [==============================] - 0s 13ms/step - loss: 0.8014 - accuracy: 0.7536 - val_loss: 0.9740 - val_accuracy: 0.7240\n",
      "Epoch 156/200\n",
      "23/23 [==============================] - 0s 13ms/step - loss: 0.8143 - accuracy: 0.7473 - val_loss: 0.9871 - val_accuracy: 0.7384\n",
      "Epoch 157/200\n",
      "23/23 [==============================] - 0s 13ms/step - loss: 0.8033 - accuracy: 0.7554 - val_loss: 0.9882 - val_accuracy: 0.7455\n",
      "Epoch 158/200\n",
      "23/23 [==============================] - 0s 14ms/step - loss: 0.7963 - accuracy: 0.7536 - val_loss: 0.9836 - val_accuracy: 0.7384\n",
      "Epoch 159/200\n",
      "23/23 [==============================] - 0s 14ms/step - loss: 0.8303 - accuracy: 0.7464 - val_loss: 0.9960 - val_accuracy: 0.7384\n",
      "Epoch 160/200\n",
      "23/23 [==============================] - 0s 14ms/step - loss: 0.8208 - accuracy: 0.7366 - val_loss: 0.9676 - val_accuracy: 0.7348\n",
      "Epoch 161/200\n",
      "23/23 [==============================] - 0s 13ms/step - loss: 0.7873 - accuracy: 0.7563 - val_loss: 0.9668 - val_accuracy: 0.7419\n",
      "Epoch 162/200\n",
      "23/23 [==============================] - 0s 14ms/step - loss: 0.7911 - accuracy: 0.7572 - val_loss: 0.9847 - val_accuracy: 0.7419\n",
      "Epoch 163/200\n",
      "23/23 [==============================] - 0s 14ms/step - loss: 0.7958 - accuracy: 0.7500 - val_loss: 0.9784 - val_accuracy: 0.7455\n",
      "Epoch 164/200\n",
      "23/23 [==============================] - 0s 14ms/step - loss: 0.7902 - accuracy: 0.7500 - val_loss: 0.9723 - val_accuracy: 0.7348\n",
      "Epoch 165/200\n",
      "23/23 [==============================] - 0s 13ms/step - loss: 0.7804 - accuracy: 0.7536 - val_loss: 0.9869 - val_accuracy: 0.7240\n",
      "Epoch 166/200\n",
      "23/23 [==============================] - 0s 13ms/step - loss: 0.7985 - accuracy: 0.7473 - val_loss: 0.9929 - val_accuracy: 0.7455\n",
      "Epoch 167/200\n",
      "23/23 [==============================] - 0s 14ms/step - loss: 0.7923 - accuracy: 0.7482 - val_loss: 0.9880 - val_accuracy: 0.7384\n",
      "Epoch 168/200\n",
      "23/23 [==============================] - 0s 14ms/step - loss: 0.7773 - accuracy: 0.7527 - val_loss: 0.9878 - val_accuracy: 0.7419\n",
      "Epoch 169/200\n",
      "23/23 [==============================] - 0s 15ms/step - loss: 0.7775 - accuracy: 0.7625 - val_loss: 0.9743 - val_accuracy: 0.7419\n",
      "Epoch 170/200\n",
      "23/23 [==============================] - 0s 14ms/step - loss: 0.7895 - accuracy: 0.7527 - val_loss: 0.9975 - val_accuracy: 0.7168\n",
      "Epoch 171/200\n",
      "23/23 [==============================] - 0s 13ms/step - loss: 0.7970 - accuracy: 0.7536 - val_loss: 1.0703 - val_accuracy: 0.7240\n"
     ]
    },
    {
     "name": "stdout",
     "output_type": "stream",
     "text": [
      "Epoch 172/200\n",
      "23/23 [==============================] - 0s 13ms/step - loss: 0.8321 - accuracy: 0.7437 - val_loss: 0.9802 - val_accuracy: 0.7455\n",
      "Epoch 173/200\n",
      "23/23 [==============================] - 0s 13ms/step - loss: 0.7785 - accuracy: 0.7581 - val_loss: 0.9863 - val_accuracy: 0.7312\n",
      "Epoch 174/200\n",
      "23/23 [==============================] - 0s 14ms/step - loss: 0.7735 - accuracy: 0.7572 - val_loss: 0.9889 - val_accuracy: 0.7384\n",
      "Epoch 175/200\n",
      "23/23 [==============================] - 0s 14ms/step - loss: 0.7823 - accuracy: 0.7554 - val_loss: 0.9815 - val_accuracy: 0.7491\n",
      "Epoch 176/200\n",
      "23/23 [==============================] - 0s 13ms/step - loss: 0.7801 - accuracy: 0.7536 - val_loss: 0.9925 - val_accuracy: 0.7419\n",
      "Epoch 177/200\n",
      "23/23 [==============================] - 0s 14ms/step - loss: 0.7899 - accuracy: 0.7554 - val_loss: 0.9876 - val_accuracy: 0.7455\n",
      "Epoch 178/200\n",
      "23/23 [==============================] - 0s 13ms/step - loss: 0.7689 - accuracy: 0.7652 - val_loss: 0.9880 - val_accuracy: 0.7312\n",
      "Epoch 179/200\n",
      "23/23 [==============================] - 0s 13ms/step - loss: 0.7805 - accuracy: 0.7616 - val_loss: 1.0188 - val_accuracy: 0.7240\n",
      "Epoch 180/200\n",
      "23/23 [==============================] - 0s 13ms/step - loss: 0.8624 - accuracy: 0.7446 - val_loss: 1.0493 - val_accuracy: 0.7527\n",
      "Epoch 181/200\n",
      "23/23 [==============================] - 0s 14ms/step - loss: 0.7972 - accuracy: 0.7527 - val_loss: 1.0038 - val_accuracy: 0.7455\n",
      "Epoch 182/200\n",
      "23/23 [==============================] - 0s 14ms/step - loss: 0.7893 - accuracy: 0.7554 - val_loss: 1.0001 - val_accuracy: 0.7419\n",
      "Epoch 183/200\n",
      "23/23 [==============================] - 0s 13ms/step - loss: 0.7684 - accuracy: 0.7581 - val_loss: 0.9871 - val_accuracy: 0.7419\n",
      "Epoch 184/200\n",
      "23/23 [==============================] - 0s 13ms/step - loss: 0.7760 - accuracy: 0.7518 - val_loss: 0.9910 - val_accuracy: 0.7419\n",
      "Epoch 185/200\n",
      "23/23 [==============================] - 0s 13ms/step - loss: 0.7599 - accuracy: 0.7634 - val_loss: 0.9779 - val_accuracy: 0.7419\n",
      "Epoch 186/200\n",
      "23/23 [==============================] - 0s 13ms/step - loss: 0.7519 - accuracy: 0.7625 - val_loss: 0.9853 - val_accuracy: 0.7384\n",
      "Epoch 187/200\n",
      "23/23 [==============================] - 0s 13ms/step - loss: 0.7584 - accuracy: 0.7643 - val_loss: 1.0169 - val_accuracy: 0.7419\n",
      "Epoch 188/200\n",
      "23/23 [==============================] - 0s 13ms/step - loss: 0.7671 - accuracy: 0.7590 - val_loss: 1.0035 - val_accuracy: 0.7384\n",
      "Epoch 189/200\n",
      "23/23 [==============================] - 0s 13ms/step - loss: 0.7626 - accuracy: 0.7599 - val_loss: 0.9879 - val_accuracy: 0.7419\n",
      "Epoch 190/200\n",
      "23/23 [==============================] - 0s 13ms/step - loss: 0.7610 - accuracy: 0.7590 - val_loss: 0.9836 - val_accuracy: 0.7384\n",
      "Epoch 191/200\n",
      "23/23 [==============================] - 0s 15ms/step - loss: 0.7847 - accuracy: 0.7500 - val_loss: 1.0206 - val_accuracy: 0.7204\n",
      "Epoch 192/200\n",
      "23/23 [==============================] - 0s 13ms/step - loss: 0.7709 - accuracy: 0.7625 - val_loss: 0.9996 - val_accuracy: 0.7455\n",
      "Epoch 193/200\n",
      "23/23 [==============================] - 0s 13ms/step - loss: 0.7785 - accuracy: 0.7545 - val_loss: 1.0085 - val_accuracy: 0.7312\n",
      "Epoch 194/200\n",
      "23/23 [==============================] - 0s 13ms/step - loss: 0.7596 - accuracy: 0.7509 - val_loss: 1.0164 - val_accuracy: 0.7348\n",
      "Epoch 195/200\n",
      "23/23 [==============================] - 0s 14ms/step - loss: 0.7623 - accuracy: 0.7554 - val_loss: 1.0096 - val_accuracy: 0.7312\n",
      "Epoch 196/200\n",
      "23/23 [==============================] - 0s 14ms/step - loss: 0.7548 - accuracy: 0.7572 - val_loss: 1.0025 - val_accuracy: 0.7419\n",
      "Epoch 197/200\n",
      "23/23 [==============================] - 0s 15ms/step - loss: 0.7534 - accuracy: 0.7625 - val_loss: 1.0034 - val_accuracy: 0.7491\n",
      "Epoch 198/200\n",
      "23/23 [==============================] - 0s 14ms/step - loss: 0.7420 - accuracy: 0.7590 - val_loss: 1.0036 - val_accuracy: 0.7455\n",
      "Epoch 199/200\n",
      "23/23 [==============================] - 0s 14ms/step - loss: 0.7484 - accuracy: 0.7581 - val_loss: 0.9988 - val_accuracy: 0.7419\n",
      "Epoch 200/200\n",
      "23/23 [==============================] - 0s 14ms/step - loss: 0.7439 - accuracy: 0.7625 - val_loss: 1.0075 - val_accuracy: 0.7384\n"
     ]
    }
   ],
   "source": [
    "history = model.fit(X_train, y_train, validation_split=0.2, epochs = 200, batch_size = 50, verbose = 1)"
   ]
  },
  {
   "cell_type": "code",
   "execution_count": 108,
   "metadata": {},
   "outputs": [
    {
     "data": {
      "text/plain": [
       "<matplotlib.legend.Legend at 0x2968e5e26a0>"
      ]
     },
     "execution_count": 108,
     "metadata": {},
     "output_type": "execute_result"
    },
    {
     "data": {
      "image/png": "[encoded data removed]",
      "text/plain": [
       "<Figure size 432x288 with 1 Axes>"
      ]
     },
     "metadata": {
      "needs_background": "light"
     },
     "output_type": "display_data"
    }
   ],
   "source": [
    "plt.plot(history.history['accuracy'], label='accuracy')\n",
    "plt.plot(history.history['val_accuracy'], label = 'val_accuracy')\n",
    "plt.legend(loc='lower right')"
   ]
  },
  {
   "cell_type": "code",
   "execution_count": 109,
   "metadata": {},
   "outputs": [
    {
     "data": {
      "text/plain": [
       "<matplotlib.legend.Legend at 0x296976142e8>"
      ]
     },
     "execution_count": 109,
     "metadata": {},
     "output_type": "execute_result"
    },
    {
     "data": {
      "image/png": "[encoded data removed]",
      "text/plain": [
       "<Figure size 432x288 with 1 Axes>"
      ]
     },
     "metadata": {
      "needs_background": "light"
     },
     "output_type": "display_data"
    }
   ],
   "source": [
    "plt.plot(history.history['loss'], label='loss')\n",
    "plt.plot(history.history['val_loss'], label = 'val_loss')\n",
    "plt.legend(loc='lower right')"
   ]
  },
  {
   "cell_type": "code",
   "execution_count": 37,
   "metadata": {
    "colab": {
     "base_uri": "https://localhost:8080/"
    },
    "executionInfo": {
     "elapsed": 54835,
     "status": "ok",
     "timestamp": 1604888431766,
     "user": {
      "displayName": "Buomsoo Kim",
      "photoUrl": "",
      "userId": "18268696804115368229"
     },
     "user_tz": 420
    },
    "id": "39bP0HQzzJbf",
    "outputId": "93cab192-0e92-48d1-d78c-f59f76f1835f"
   },
   "outputs": [],
   "source": [
    "y_pred = model.predict(X_test)"
   ]
  },
  {
   "cell_type": "code",
   "execution_count": 40,
   "metadata": {},
   "outputs": [
    {
     "data": {
      "text/plain": [
       "array([[2.8721311e-06, 8.8159234e-04, 7.9878055e-07, ..., 4.7793674e-07,\n",
       "        6.1769265e-07, 8.2245842e-06],\n",
       "       [3.5926125e-05, 1.6117811e-02, 1.2273658e-03, ..., 6.8090810e-07,\n",
       "        3.1833579e-07, 3.4675270e-03],\n",
       "       [7.0419878e-06, 3.2684298e-03, 3.8720427e-06, ..., 9.4257427e-07,\n",
       "        4.9799945e-07, 2.3770497e-05],\n",
       "       ...,\n",
       "       [7.3333267e-06, 9.4855286e-04, 9.8435237e-07, ..., 6.9649229e-07,\n",
       "        9.9143153e-07, 7.9398715e-06],\n",
       "       [3.3345154e-06, 3.8634434e-02, 2.8258230e-04, ..., 1.9638981e-06,\n",
       "        3.2772803e-07, 4.7435714e-03],\n",
       "       [9.4505276e-06, 3.8117208e-03, 3.4671655e-06, ..., 4.6258637e-07,\n",
       "        2.5469913e-07, 3.5043486e-05]], dtype=float32)"
      ]
     },
     "execution_count": 40,
     "metadata": {},
     "output_type": "execute_result"
    }
   ],
   "source": [
    "y_pred"
   ]
  },
  {
   "cell_type": "code",
   "execution_count": 44,
   "metadata": {},
   "outputs": [],
   "source": [
    "y_pred_ = np.argmax(y_pred, axis = 1)"
   ]
  },
  {
   "cell_type": "code",
   "execution_count": 45,
   "metadata": {},
   "outputs": [
    {
     "data": {
      "text/plain": [
       "array([ 3,  3,  3,  3,  3,  4,  4,  4,  3,  3,  3,  3,  3,  3,  3,  3,  3,\n",
       "        3,  3,  3,  3,  4,  3,  3,  3,  4,  3,  3,  3,  3,  3,  3,  3,  3,\n",
       "        3,  3,  3,  3,  3,  3,  3,  4,  3,  3,  3,  4,  3,  3,  4,  3,  3,\n",
       "        3,  3,  3,  3,  3,  3,  3,  3,  3,  3,  4,  3,  3,  4,  3,  4,  3,\n",
       "        3,  3,  2,  3,  3,  3,  3,  4,  4,  4,  3,  3,  3,  3,  3,  3,  3,\n",
       "        2,  3,  4,  3,  3,  3,  3,  3,  3,  3,  3,  3,  3,  3,  3, 17,  3,\n",
       "        3,  3,  4,  3,  3,  4,  3,  3,  3,  3,  3,  3,  3,  3,  3,  3,  3,\n",
       "        3,  3,  3,  3,  3, 24,  3,  3,  3,  3,  3,  3,  3,  4,  3,  3,  3,\n",
       "        4,  3,  3,  3,  3,  3,  3,  3,  3,  3,  3,  3,  3,  3, 24,  3,  3,\n",
       "        3,  3,  3,  4,  4,  3,  3,  3,  3,  3,  3,  3,  3,  3,  3,  4,  3,\n",
       "        3,  3,  3,  3,  4,  3,  3,  3,  3,  3,  3,  3,  3,  3,  4,  3,  4,\n",
       "        3,  3,  3,  3,  3,  3,  3,  3,  3,  3,  3,  3,  3,  3,  3,  3,  3,\n",
       "        3,  4,  3,  3,  4,  3,  3,  3,  3,  3,  4,  4,  3,  3,  3,  3,  3,\n",
       "        3,  3,  3,  3,  3,  3,  3,  3,  3,  3,  3,  3,  3,  3,  3,  3,  3,\n",
       "        3,  3,  3,  3,  3,  3,  3,  3,  3,  3,  3,  3,  3,  3,  3,  3,  3,\n",
       "        3,  3,  3,  3,  3,  3,  3,  3,  3,  3,  3,  3,  3,  4,  3,  4,  3,\n",
       "        3,  3,  3,  3,  3,  3,  3,  3,  3,  3,  3,  3,  3,  3,  4,  3,  4,\n",
       "        3,  3,  3,  3,  3,  4,  3,  3,  3,  3,  3,  3,  3,  3,  3,  3,  3,\n",
       "        4,  3,  3,  3,  4,  3,  3,  3,  3,  3,  3,  3,  3,  3,  3,  3,  3,\n",
       "        3,  4,  3,  4,  3,  3,  3,  3,  3,  3,  3,  3,  3,  3,  4,  3,  3,\n",
       "        3,  3,  3,  3,  3,  3,  3,  3,  3,  3,  3,  4,  3,  3,  3,  3,  3,\n",
       "        3,  3,  3,  3,  3,  3,  3,  3,  3,  3,  4,  1,  3,  4,  3,  4,  3,\n",
       "        4,  4,  3, 10,  4,  3,  3,  3,  3,  3,  3,  3,  3,  3,  3,  3,  3,\n",
       "        4,  3,  3,  3,  4,  3,  3,  3,  3,  3, 10,  3,  3,  3,  3,  3,  3,\n",
       "        3,  3,  3,  3,  3,  3,  3,  3, 10,  3,  4,  3,  4,  3,  3,  3,  3,\n",
       "        3,  3,  3,  3,  3,  3,  4,  3,  3,  3,  3,  4,  3,  3,  3,  4,  3,\n",
       "        3,  4,  4,  4,  3,  3,  3,  3,  3,  4,  3,  3,  3,  3,  3,  3,  1,\n",
       "        3,  3,  3,  3,  3,  3,  3,  4,  3,  3,  3,  3,  3,  3,  3,  3,  3,\n",
       "        4,  3,  3,  3,  3,  3,  3,  3,  3,  3,  3,  3,  3,  3,  4,  3,  4,\n",
       "        4,  3,  4,  3, 10,  4,  3,  3,  3,  4,  3,  3,  2,  3,  3,  3,  3,\n",
       "        3,  3,  3,  3,  3,  4,  3,  3,  3,  3,  3,  3,  3,  3,  4,  3,  3,\n",
       "        3,  3,  3,  3,  3,  3,  3,  3,  3,  3,  3,  3,  3,  3,  3,  3,  3,\n",
       "        3,  3,  3,  4,  3,  3,  4,  3,  3,  3,  3,  3,  3,  3,  4,  3,  3,\n",
       "        3,  3,  4,  3,  3,  4,  3,  3,  3,  4,  4,  3,  3,  3,  3,  3,  3,\n",
       "        3,  3,  3,  3,  3,  3,  3,  3,  3,  3,  3,  3,  3,  3,  3,  3,  3,\n",
       "        4,  3,  3,  3], dtype=int64)"
      ]
     },
     "execution_count": 45,
     "metadata": {},
     "output_type": "execute_result"
    }
   ],
   "source": [
    "y_pred_"
   ]
  },
  {
   "cell_type": "code",
   "execution_count": 41,
   "metadata": {
    "executionInfo": {
     "elapsed": 54207,
     "status": "ok",
     "timestamp": 1604888431768,
     "user": {
      "displayName": "Buomsoo Kim",
      "photoUrl": "",
      "userId": "18268696804115368229"
     },
     "user_tz": 420
    },
    "id": "rT5wCslSzJbh"
   },
   "outputs": [],
   "source": [
    "y_test_ = np.argmax(y_test, axis = 1)"
   ]
  },
  {
   "cell_type": "code",
   "execution_count": 42,
   "metadata": {},
   "outputs": [
    {
     "data": {
      "text/plain": [
       "array([ 3,  4,  3,  3,  3,  3, 42,  3,  3,  3,  3,  3,  3,  3,  3,  3,  3,\n",
       "        4,  3,  6,  3,  3,  3,  3,  3, 19,  4, 19,  3,  3,  3,  3,  3,  3,\n",
       "        3,  3,  3,  3,  3,  3,  3,  4,  4,  3,  3,  3,  3,  3,  3,  3,  3,\n",
       "        3,  3,  3,  3,  3,  3,  3,  3,  3,  4,  4,  3,  3,  3,  3,  4,  3,\n",
       "        3,  3, 13,  3,  3,  3, 16, 20,  4,  1,  4,  3,  4,  3,  3,  4, 19,\n",
       "        1,  3, 10,  3,  3,  3,  3,  3,  3,  3,  3,  3,  4,  3,  3, 17,  3,\n",
       "        3,  3, 24,  3,  3,  5,  3,  3,  3,  3,  3,  3,  3,  3,  3,  3,  3,\n",
       "        3,  3,  3,  3,  3, 24,  3,  3,  4,  3,  3,  3,  3,  1,  3,  6,  3,\n",
       "        4,  3,  3,  3,  3,  3,  3,  3,  3,  1,  4,  3,  1,  3,  1,  3,  8,\n",
       "        4,  3,  3,  3,  4,  3,  4,  3,  3, 24,  4,  4,  3,  3,  3,  3,  3,\n",
       "        3,  3,  3,  8,  3,  3, 19,  3,  3,  4,  3,  3,  3,  3,  4,  3,  3,\n",
       "        2,  3,  4,  3,  3,  3,  3,  3, 23,  3,  3,  3,  3,  3, 40,  3,  4,\n",
       "        3, 20,  3,  3, 16,  3,  3,  3,  3,  3,  4,  3,  3,  3,  1,  3,  3,\n",
       "       18,  3,  3,  3,  3,  3, 11,  3,  3,  3,  3,  3, 18,  3,  3,  3,  3,\n",
       "        3,  4,  3,  3,  3,  3,  3,  1,  3,  3,  3,  3, 20,  3,  3,  3,  3,\n",
       "        6,  3,  3,  3,  3,  3,  3,  3, 26,  4,  3,  3,  3,  3,  3,  3,  3,\n",
       "        3,  3,  3,  3,  3,  3,  3,  3,  3,  3,  3,  3,  3,  3,  4,  3,  4,\n",
       "        3,  3,  3,  4,  3,  4,  3,  3,  4,  3,  3,  3,  3,  3,  3,  3,  3,\n",
       "        3,  3,  3, 20,  0,  3,  3,  4,  3,  3,  3,  3,  3,  4,  3,  3,  3,\n",
       "        4,  4,  4, 12,  3,  3,  3,  3,  1,  3,  4,  3,  3,  3,  3,  3,  3,\n",
       "        3,  3,  3,  4, 20, 32,  3,  3,  3,  3,  3,  4,  3,  3,  3,  4,  3,\n",
       "        3,  3,  3,  3,  3,  3,  3,  3,  3,  3,  4, 24,  3,  3,  3,  4,  3,\n",
       "        6, 12,  3,  4,  0,  3,  3,  4,  3,  3,  3,  4,  3,  4,  3,  3, 25,\n",
       "        3,  3,  4,  4, 40,  3,  2,  3,  3,  4,  4,  3,  3,  4,  3,  3,  3,\n",
       "        3,  3,  4,  3,  3,  3,  6, 20,  8,  3,  3,  3,  4,  3,  3, 19,  3,\n",
       "        3,  3,  8,  3,  3,  3,  3,  3, 16,  4,  3,  3,  3,  3,  3,  4, 20,\n",
       "        3, 19, 13,  4, 24,  3,  3,  3,  3,  4,  3,  3,  3,  3,  3,  3, 24,\n",
       "        3,  3,  4,  3,  3,  3,  3,  4,  3,  1,  3,  3,  3,  3,  3,  3,  4,\n",
       "        3,  3,  3,  4,  4,  3,  3,  3,  4,  3,  3,  3,  3,  3, 10,  4,  3,\n",
       "        1,  4, 20,  3,  1,  3,  3,  3,  3,  3,  3,  3,  4,  3,  3,  3,  3,\n",
       "        3,  3,  3,  3,  3,  3,  3,  3,  3,  3,  3,  3,  3,  3,  3, 19, 13,\n",
       "        3,  3,  3,  3, 16,  4,  3,  3,  3,  3,  3,  3,  3,  3,  3,  3,  3,\n",
       "        3,  3,  3,  3,  3,  3,  4,  4,  3,  3,  3,  3,  3,  3,  4,  3,  3,\n",
       "        3,  3,  3,  3,  3,  3,  3,  3,  3,  4, 23,  3,  3,  3,  3,  4,  3,\n",
       "        3,  3,  3,  3, 24,  3,  3,  4,  4,  3, 19,  3,  3, 10, 16,  3,  3,\n",
       "        2,  3,  3,  3], dtype=int64)"
      ]
     },
     "execution_count": 42,
     "metadata": {},
     "output_type": "execute_result"
    }
   ],
   "source": [
    "y_test_"
   ]
  },
  {
   "cell_type": "code",
   "execution_count": 110,
   "metadata": {
    "colab": {
     "base_uri": "https://localhost:8080/"
    },
    "executionInfo": {
     "elapsed": 53698,
     "status": "ok",
     "timestamp": 1604888431769,
     "user": {
      "displayName": "Buomsoo Kim",
      "photoUrl": "",
      "userId": "18268696804115368229"
     },
     "user_tz": 420
    },
    "id": "i7Ec0NjMzJbk",
    "outputId": "b7c63640-9425-46ea-805b-b5fe11ef21a7"
   },
   "outputs": [
    {
     "name": "stdout",
     "output_type": "stream",
     "text": [
      "0.8297161936560935\n"
     ]
    }
   ],
   "source": [
    "print(accuracy_score(y_pred_, y_test_))"
   ]
  },
  {
   "cell_type": "markdown",
   "metadata": {
    "id": "H_2mWjLlzJbm"
   },
   "source": [
    "## 2. Stacked Vanilla RNN\n",
    "- RNN layers can be stacked to form a deeper network\n",
    "\n",
    "<img src=\"https://lh6.googleusercontent.com/rC1DSgjlmobtRxMPFi14hkMdDqSkEkuOX7EW_QrLFSymjasIM95Za2Wf-VwSC1Tq1sjJlOPLJ92q7PTKJh2hjBoXQawM6MQC27east67GFDklTalljlt0cFLZnPMdhp8erzO\" style=\"width: 500px\"/>"
   ]
  },
  {
   "cell_type": "code",
   "execution_count": 111,
   "metadata": {
    "executionInfo": {
     "elapsed": 472,
     "status": "ok",
     "timestamp": 1604888432243,
     "user": {
      "displayName": "Buomsoo Kim",
      "photoUrl": "",
      "userId": "18268696804115368229"
     },
     "user_tz": 420
    },
    "id": "0L8o9VESzJbm"
   },
   "outputs": [],
   "source": [
    "def stacked_vanilla_rnn():\n",
    "    model = Sequential()\n",
    "    model.add(SimpleRNN(50, input_shape = (49,1), return_sequences = True))   # return_sequences parameter has to be set True to stack\n",
    "    model.add(SimpleRNN(50, return_sequences = False))\n",
    "    model.add(Dense(46))\n",
    "    model.add(Activation('softmax'))\n",
    "    \n",
    "    adam = optimizers.Adam(learning_rate = 0.001)\n",
    "    model.compile(loss = 'categorical_crossentropy', optimizer = adam, metrics = ['accuracy'])\n",
    "    \n",
    "    return model"
   ]
  },
  {
   "cell_type": "code",
   "execution_count": 112,
   "metadata": {
    "executionInfo": {
     "elapsed": 430,
     "status": "ok",
     "timestamp": 1604888432246,
     "user": {
      "displayName": "Buomsoo Kim",
      "photoUrl": "",
      "userId": "18268696804115368229"
     },
     "user_tz": 420
    },
    "id": "AXyC_tPfzJbp"
   },
   "outputs": [],
   "source": [
    "model = stacked_vanilla_rnn()"
   ]
  },
  {
   "cell_type": "code",
   "execution_count": 113,
   "metadata": {
    "colab": {
     "base_uri": "https://localhost:8080/"
    },
    "executionInfo": {
     "elapsed": 113884,
     "status": "ok",
     "timestamp": 1604888545704,
     "user": {
      "displayName": "Buomsoo Kim",
      "photoUrl": "",
      "userId": "18268696804115368229"
     },
     "user_tz": 420
    },
    "id": "vCqeckrgzJbr",
    "outputId": "eae1a33b-6974-4082-f186-6f32c285951f"
   },
   "outputs": [
    {
     "name": "stdout",
     "output_type": "stream",
     "text": [
      "Epoch 1/200\n",
      "23/23 [==============================] - 3s 47ms/step - loss: 2.1923 - accuracy: 0.5905 - val_loss: 1.2743 - val_accuracy: 0.7240\n",
      "Epoch 2/200\n",
      "23/23 [==============================] - 1s 27ms/step - loss: 1.2647 - accuracy: 0.7124 - val_loss: 1.1501 - val_accuracy: 0.7240\n",
      "Epoch 3/200\n",
      "23/23 [==============================] - 1s 25ms/step - loss: 1.2011 - accuracy: 0.7124 - val_loss: 1.1221 - val_accuracy: 0.7240\n",
      "Epoch 4/200\n",
      "23/23 [==============================] - 1s 26ms/step - loss: 1.1797 - accuracy: 0.7124 - val_loss: 1.1088 - val_accuracy: 0.7240\n",
      "Epoch 5/200\n",
      "23/23 [==============================] - 1s 27ms/step - loss: 1.1626 - accuracy: 0.7124 - val_loss: 1.0924 - val_accuracy: 0.7240\n",
      "Epoch 6/200\n",
      "23/23 [==============================] - 1s 26ms/step - loss: 1.1430 - accuracy: 0.7124 - val_loss: 1.0673 - val_accuracy: 0.7240\n",
      "Epoch 7/200\n",
      "23/23 [==============================] - 1s 29ms/step - loss: 1.1239 - accuracy: 0.7124 - val_loss: 1.0537 - val_accuracy: 0.7240\n",
      "Epoch 8/200\n",
      "23/23 [==============================] - 1s 25ms/step - loss: 1.1227 - accuracy: 0.7124 - val_loss: 1.0570 - val_accuracy: 0.7240\n",
      "Epoch 9/200\n",
      "23/23 [==============================] - 1s 25ms/step - loss: 1.1168 - accuracy: 0.7124 - val_loss: 1.0504 - val_accuracy: 0.7240\n",
      "Epoch 10/200\n",
      "23/23 [==============================] - 1s 26ms/step - loss: 1.1191 - accuracy: 0.7124 - val_loss: 1.0473 - val_accuracy: 0.7240\n",
      "Epoch 11/200\n",
      "23/23 [==============================] - 1s 26ms/step - loss: 1.1094 - accuracy: 0.7115 - val_loss: 1.0446 - val_accuracy: 0.7240\n",
      "Epoch 12/200\n",
      "23/23 [==============================] - 1s 26ms/step - loss: 1.0916 - accuracy: 0.7124 - val_loss: 1.0395 - val_accuracy: 0.7240\n",
      "Epoch 13/200\n",
      "23/23 [==============================] - 1s 27ms/step - loss: 1.0863 - accuracy: 0.7133 - val_loss: 1.0408 - val_accuracy: 0.7240\n",
      "Epoch 14/200\n",
      "23/23 [==============================] - 1s 26ms/step - loss: 1.0823 - accuracy: 0.7124 - val_loss: 1.0334 - val_accuracy: 0.7240\n",
      "Epoch 15/200\n",
      "23/23 [==============================] - 1s 25ms/step - loss: 1.0739 - accuracy: 0.7142 - val_loss: 1.0406 - val_accuracy: 0.7240\n",
      "Epoch 16/200\n",
      "23/23 [==============================] - 1s 25ms/step - loss: 1.0663 - accuracy: 0.7151 - val_loss: 1.0431 - val_accuracy: 0.7276\n",
      "Epoch 17/200\n",
      "23/23 [==============================] - 1s 26ms/step - loss: 1.0792 - accuracy: 0.7133 - val_loss: 1.0409 - val_accuracy: 0.7240\n",
      "Epoch 18/200\n",
      "23/23 [==============================] - 1s 26ms/step - loss: 1.0701 - accuracy: 0.7142 - val_loss: 1.0327 - val_accuracy: 0.7240\n",
      "Epoch 19/200\n",
      "23/23 [==============================] - 1s 25ms/step - loss: 1.0663 - accuracy: 0.7142 - val_loss: 1.0319 - val_accuracy: 0.7240\n",
      "Epoch 20/200\n",
      "23/23 [==============================] - 1s 25ms/step - loss: 1.0624 - accuracy: 0.7168 - val_loss: 1.0357 - val_accuracy: 0.7276\n",
      "Epoch 21/200\n",
      "23/23 [==============================] - 1s 25ms/step - loss: 1.0646 - accuracy: 0.7106 - val_loss: 1.0364 - val_accuracy: 0.7204\n",
      "Epoch 22/200\n",
      "23/23 [==============================] - 1s 25ms/step - loss: 1.0493 - accuracy: 0.7115 - val_loss: 1.0564 - val_accuracy: 0.7419\n",
      "Epoch 23/200\n",
      "23/23 [==============================] - 1s 26ms/step - loss: 1.0584 - accuracy: 0.7124 - val_loss: 1.0202 - val_accuracy: 0.7240\n",
      "Epoch 24/200\n",
      "23/23 [==============================] - 1s 26ms/step - loss: 1.0383 - accuracy: 0.7213 - val_loss: 1.0265 - val_accuracy: 0.7419\n",
      "Epoch 25/200\n",
      "23/23 [==============================] - 1s 26ms/step - loss: 1.0389 - accuracy: 0.7186 - val_loss: 1.0430 - val_accuracy: 0.7384\n",
      "Epoch 26/200\n",
      "23/23 [==============================] - 1s 26ms/step - loss: 1.0393 - accuracy: 0.7151 - val_loss: 1.0483 - val_accuracy: 0.7240\n",
      "Epoch 27/200\n",
      "23/23 [==============================] - 1s 26ms/step - loss: 1.0337 - accuracy: 0.7079 - val_loss: 1.0394 - val_accuracy: 0.7276\n",
      "Epoch 28/200\n",
      "23/23 [==============================] - 1s 26ms/step - loss: 1.0236 - accuracy: 0.7267 - val_loss: 1.0312 - val_accuracy: 0.7276\n",
      "Epoch 29/200\n",
      "23/23 [==============================] - 1s 26ms/step - loss: 1.0306 - accuracy: 0.7204 - val_loss: 1.0241 - val_accuracy: 0.7276\n",
      "Epoch 30/200\n",
      "23/23 [==============================] - 1s 26ms/step - loss: 1.0218 - accuracy: 0.7276 - val_loss: 1.0407 - val_accuracy: 0.7384\n",
      "Epoch 31/200\n",
      "23/23 [==============================] - 1s 25ms/step - loss: 1.0195 - accuracy: 0.7240 - val_loss: 1.0202 - val_accuracy: 0.7419\n",
      "Epoch 32/200\n",
      "23/23 [==============================] - 1s 26ms/step - loss: 1.0046 - accuracy: 0.7258 - val_loss: 1.0509 - val_accuracy: 0.7204\n",
      "Epoch 33/200\n",
      "23/23 [==============================] - 1s 25ms/step - loss: 1.0032 - accuracy: 0.7177 - val_loss: 1.0248 - val_accuracy: 0.7419\n",
      "Epoch 34/200\n",
      "23/23 [==============================] - 1s 26ms/step - loss: 0.9891 - accuracy: 0.7276 - val_loss: 1.0248 - val_accuracy: 0.7312\n",
      "Epoch 35/200\n",
      "23/23 [==============================] - 1s 26ms/step - loss: 0.9808 - accuracy: 0.7303 - val_loss: 1.0259 - val_accuracy: 0.7240\n",
      "Epoch 36/200\n",
      "23/23 [==============================] - 1s 25ms/step - loss: 1.0257 - accuracy: 0.7151 - val_loss: 1.0403 - val_accuracy: 0.7276\n",
      "Epoch 37/200\n",
      "23/23 [==============================] - 1s 26ms/step - loss: 1.0009 - accuracy: 0.7258 - val_loss: 1.0263 - val_accuracy: 0.7276\n",
      "Epoch 38/200\n",
      "23/23 [==============================] - 1s 27ms/step - loss: 0.9794 - accuracy: 0.7285 - val_loss: 1.0324 - val_accuracy: 0.7240\n",
      "Epoch 39/200\n",
      "23/23 [==============================] - 1s 26ms/step - loss: 0.9704 - accuracy: 0.7213 - val_loss: 1.0333 - val_accuracy: 0.7025\n",
      "Epoch 40/200\n",
      "23/23 [==============================] - 1s 25ms/step - loss: 0.9673 - accuracy: 0.7285 - val_loss: 1.0173 - val_accuracy: 0.7312\n",
      "Epoch 41/200\n",
      "23/23 [==============================] - 1s 27ms/step - loss: 0.9566 - accuracy: 0.7312 - val_loss: 1.0177 - val_accuracy: 0.7312\n",
      "Epoch 42/200\n",
      "23/23 [==============================] - 1s 26ms/step - loss: 0.9461 - accuracy: 0.7366 - val_loss: 1.0072 - val_accuracy: 0.7204\n",
      "Epoch 43/200\n",
      "23/23 [==============================] - 1s 27ms/step - loss: 0.9489 - accuracy: 0.7276 - val_loss: 1.0104 - val_accuracy: 0.7133\n",
      "Epoch 44/200\n",
      "23/23 [==============================] - 1s 27ms/step - loss: 0.9333 - accuracy: 0.7312 - val_loss: 1.0137 - val_accuracy: 0.7276\n",
      "Epoch 45/200\n",
      "23/23 [==============================] - 1s 27ms/step - loss: 0.9458 - accuracy: 0.7267 - val_loss: 1.0180 - val_accuracy: 0.7240\n",
      "Epoch 46/200\n",
      "23/23 [==============================] - 1s 27ms/step - loss: 0.9206 - accuracy: 0.7357 - val_loss: 1.0044 - val_accuracy: 0.7204\n",
      "Epoch 47/200\n",
      "23/23 [==============================] - 1s 26ms/step - loss: 0.9099 - accuracy: 0.7357 - val_loss: 0.9985 - val_accuracy: 0.7348\n",
      "Epoch 48/200\n",
      "23/23 [==============================] - 1s 25ms/step - loss: 0.8939 - accuracy: 0.7392 - val_loss: 0.9733 - val_accuracy: 0.7312\n",
      "Epoch 49/200\n",
      "23/23 [==============================] - 1s 25ms/step - loss: 0.8886 - accuracy: 0.7401 - val_loss: 0.9847 - val_accuracy: 0.7276\n",
      "Epoch 50/200\n",
      "23/23 [==============================] - 1s 25ms/step - loss: 0.8868 - accuracy: 0.7375 - val_loss: 0.9831 - val_accuracy: 0.7204\n",
      "Epoch 51/200\n",
      "23/23 [==============================] - 1s 26ms/step - loss: 0.9212 - accuracy: 0.7294 - val_loss: 0.9754 - val_accuracy: 0.7276\n",
      "Epoch 52/200\n",
      "23/23 [==============================] - 1s 26ms/step - loss: 0.8963 - accuracy: 0.7392 - val_loss: 0.9662 - val_accuracy: 0.7384\n",
      "Epoch 53/200\n",
      "23/23 [==============================] - 1s 26ms/step - loss: 0.9731 - accuracy: 0.7222 - val_loss: 1.0178 - val_accuracy: 0.7384\n",
      "Epoch 54/200\n",
      "23/23 [==============================] - 1s 25ms/step - loss: 0.9258 - accuracy: 0.7321 - val_loss: 0.9903 - val_accuracy: 0.7348\n",
      "Epoch 55/200\n",
      "23/23 [==============================] - 1s 28ms/step - loss: 0.9000 - accuracy: 0.7276 - val_loss: 0.9912 - val_accuracy: 0.7240\n",
      "Epoch 56/200\n",
      "23/23 [==============================] - 1s 27ms/step - loss: 0.9014 - accuracy: 0.7204 - val_loss: 0.9699 - val_accuracy: 0.7348\n",
      "Epoch 57/200\n",
      "23/23 [==============================] - 1s 27ms/step - loss: 0.8725 - accuracy: 0.7401 - val_loss: 0.9711 - val_accuracy: 0.7384\n",
      "Epoch 58/200\n"
     ]
    },
    {
     "name": "stdout",
     "output_type": "stream",
     "text": [
      "23/23 [==============================] - 1s 27ms/step - loss: 0.8628 - accuracy: 0.7339 - val_loss: 0.9678 - val_accuracy: 0.7348\n",
      "Epoch 59/200\n",
      "23/23 [==============================] - 1s 26ms/step - loss: 0.8541 - accuracy: 0.7357 - val_loss: 0.9798 - val_accuracy: 0.7348\n",
      "Epoch 60/200\n",
      "23/23 [==============================] - 1s 28ms/step - loss: 0.8458 - accuracy: 0.7437 - val_loss: 0.9665 - val_accuracy: 0.7348\n",
      "Epoch 61/200\n",
      "23/23 [==============================] - 1s 27ms/step - loss: 0.8471 - accuracy: 0.7473 - val_loss: 0.9706 - val_accuracy: 0.7312\n",
      "Epoch 62/200\n",
      "23/23 [==============================] - 1s 26ms/step - loss: 0.8447 - accuracy: 0.7348 - val_loss: 0.9716 - val_accuracy: 0.7384\n",
      "Epoch 63/200\n",
      "23/23 [==============================] - 1s 26ms/step - loss: 0.8403 - accuracy: 0.7491 - val_loss: 0.9724 - val_accuracy: 0.7348\n",
      "Epoch 64/200\n",
      "23/23 [==============================] - 1s 27ms/step - loss: 0.8569 - accuracy: 0.7464 - val_loss: 1.0245 - val_accuracy: 0.7204\n",
      "Epoch 65/200\n",
      "23/23 [==============================] - 1s 28ms/step - loss: 0.8457 - accuracy: 0.7366 - val_loss: 0.9760 - val_accuracy: 0.7419\n",
      "Epoch 66/200\n",
      "23/23 [==============================] - 1s 26ms/step - loss: 0.8294 - accuracy: 0.7473 - val_loss: 0.9980 - val_accuracy: 0.7348\n",
      "Epoch 67/200\n",
      "23/23 [==============================] - 1s 27ms/step - loss: 0.8257 - accuracy: 0.7428 - val_loss: 0.9994 - val_accuracy: 0.7455\n",
      "Epoch 68/200\n",
      "23/23 [==============================] - 1s 27ms/step - loss: 0.8150 - accuracy: 0.7491 - val_loss: 0.9957 - val_accuracy: 0.7384\n",
      "Epoch 69/200\n",
      "23/23 [==============================] - 1s 27ms/step - loss: 0.8047 - accuracy: 0.7527 - val_loss: 0.9743 - val_accuracy: 0.7384\n",
      "Epoch 70/200\n",
      "23/23 [==============================] - 1s 26ms/step - loss: 0.8058 - accuracy: 0.7518 - val_loss: 0.9867 - val_accuracy: 0.7384\n",
      "Epoch 71/200\n",
      "23/23 [==============================] - 1s 26ms/step - loss: 0.8126 - accuracy: 0.7491 - val_loss: 0.9823 - val_accuracy: 0.7419\n",
      "Epoch 72/200\n",
      "23/23 [==============================] - 1s 28ms/step - loss: 0.7995 - accuracy: 0.7599 - val_loss: 0.9697 - val_accuracy: 0.7419\n",
      "Epoch 73/200\n",
      "23/23 [==============================] - 1s 26ms/step - loss: 0.7850 - accuracy: 0.7554 - val_loss: 0.9679 - val_accuracy: 0.7384\n",
      "Epoch 74/200\n",
      "23/23 [==============================] - 1s 25ms/step - loss: 0.7879 - accuracy: 0.7608 - val_loss: 0.9869 - val_accuracy: 0.7491\n",
      "Epoch 75/200\n",
      "23/23 [==============================] - 1s 26ms/step - loss: 0.8033 - accuracy: 0.7518 - val_loss: 0.9749 - val_accuracy: 0.7491\n",
      "Epoch 76/200\n",
      "23/23 [==============================] - 1s 26ms/step - loss: 0.8057 - accuracy: 0.7536 - val_loss: 0.9920 - val_accuracy: 0.7276\n",
      "Epoch 77/200\n",
      "23/23 [==============================] - 1s 24ms/step - loss: 0.8051 - accuracy: 0.7392 - val_loss: 0.9745 - val_accuracy: 0.7527\n",
      "Epoch 78/200\n",
      "23/23 [==============================] - 1s 27ms/step - loss: 0.7801 - accuracy: 0.7554 - val_loss: 0.9766 - val_accuracy: 0.7419\n",
      "Epoch 79/200\n",
      "23/23 [==============================] - 1s 25ms/step - loss: 0.7815 - accuracy: 0.7464 - val_loss: 0.9898 - val_accuracy: 0.7419\n",
      "Epoch 80/200\n",
      "23/23 [==============================] - 1s 26ms/step - loss: 0.7705 - accuracy: 0.7536 - val_loss: 0.9770 - val_accuracy: 0.7419\n",
      "Epoch 81/200\n",
      "23/23 [==============================] - 1s 26ms/step - loss: 0.7619 - accuracy: 0.7590 - val_loss: 0.9727 - val_accuracy: 0.7491\n",
      "Epoch 82/200\n",
      "23/23 [==============================] - 1s 25ms/step - loss: 0.7484 - accuracy: 0.7625 - val_loss: 0.9845 - val_accuracy: 0.7419\n",
      "Epoch 83/200\n",
      "23/23 [==============================] - 1s 26ms/step - loss: 0.7485 - accuracy: 0.7608 - val_loss: 0.9830 - val_accuracy: 0.7419\n",
      "Epoch 84/200\n",
      "23/23 [==============================] - 1s 26ms/step - loss: 0.7468 - accuracy: 0.7599 - val_loss: 0.9830 - val_accuracy: 0.7563\n",
      "Epoch 85/200\n",
      "23/23 [==============================] - 1s 26ms/step - loss: 0.7545 - accuracy: 0.7527 - val_loss: 0.9856 - val_accuracy: 0.7312\n",
      "Epoch 86/200\n",
      "23/23 [==============================] - 1s 26ms/step - loss: 0.7368 - accuracy: 0.7652 - val_loss: 0.9838 - val_accuracy: 0.7491\n",
      "Epoch 87/200\n",
      "23/23 [==============================] - 1s 25ms/step - loss: 0.7446 - accuracy: 0.7643 - val_loss: 0.9909 - val_accuracy: 0.7419\n",
      "Epoch 88/200\n",
      "23/23 [==============================] - 1s 27ms/step - loss: 0.7350 - accuracy: 0.7590 - val_loss: 0.9856 - val_accuracy: 0.7384\n",
      "Epoch 89/200\n",
      "23/23 [==============================] - 1s 26ms/step - loss: 0.7261 - accuracy: 0.7581 - val_loss: 0.9855 - val_accuracy: 0.7384\n",
      "Epoch 90/200\n",
      "23/23 [==============================] - 1s 27ms/step - loss: 0.7350 - accuracy: 0.7661 - val_loss: 0.9796 - val_accuracy: 0.7455\n",
      "Epoch 91/200\n",
      "23/23 [==============================] - 1s 25ms/step - loss: 0.7297 - accuracy: 0.7670 - val_loss: 1.0004 - val_accuracy: 0.7348\n",
      "Epoch 92/200\n",
      "23/23 [==============================] - 1s 26ms/step - loss: 0.7179 - accuracy: 0.7661 - val_loss: 0.9917 - val_accuracy: 0.7419\n",
      "Epoch 93/200\n",
      "23/23 [==============================] - 1s 26ms/step - loss: 0.7157 - accuracy: 0.7715 - val_loss: 0.9978 - val_accuracy: 0.7384\n",
      "Epoch 94/200\n",
      "23/23 [==============================] - 1s 26ms/step - loss: 0.7031 - accuracy: 0.7706 - val_loss: 0.9975 - val_accuracy: 0.7419\n",
      "Epoch 95/200\n",
      "23/23 [==============================] - 1s 26ms/step - loss: 0.6979 - accuracy: 0.7715 - val_loss: 0.9985 - val_accuracy: 0.7455\n",
      "Epoch 96/200\n",
      "23/23 [==============================] - 1s 26ms/step - loss: 0.6916 - accuracy: 0.7688 - val_loss: 0.9941 - val_accuracy: 0.7276\n",
      "Epoch 97/200\n",
      "23/23 [==============================] - 1s 26ms/step - loss: 0.6913 - accuracy: 0.7733 - val_loss: 0.9999 - val_accuracy: 0.7384\n",
      "Epoch 98/200\n",
      "23/23 [==============================] - 1s 26ms/step - loss: 0.6844 - accuracy: 0.7778 - val_loss: 1.0069 - val_accuracy: 0.7419\n",
      "Epoch 99/200\n",
      "23/23 [==============================] - 1s 25ms/step - loss: 0.6760 - accuracy: 0.7769 - val_loss: 0.9923 - val_accuracy: 0.7491\n",
      "Epoch 100/200\n",
      "23/23 [==============================] - 1s 25ms/step - loss: 0.6828 - accuracy: 0.7751 - val_loss: 1.0072 - val_accuracy: 0.7312\n",
      "Epoch 101/200\n",
      "23/23 [==============================] - 1s 26ms/step - loss: 0.6800 - accuracy: 0.7715 - val_loss: 1.0045 - val_accuracy: 0.7419\n",
      "Epoch 102/200\n",
      "23/23 [==============================] - 1s 28ms/step - loss: 0.6707 - accuracy: 0.7778 - val_loss: 1.0105 - val_accuracy: 0.7384\n",
      "Epoch 103/200\n",
      "23/23 [==============================] - 1s 25ms/step - loss: 0.6917 - accuracy: 0.7688 - val_loss: 1.0063 - val_accuracy: 0.7455\n",
      "Epoch 104/200\n",
      "23/23 [==============================] - 1s 25ms/step - loss: 0.6646 - accuracy: 0.7796 - val_loss: 1.0151 - val_accuracy: 0.7455\n",
      "Epoch 105/200\n",
      "23/23 [==============================] - 1s 26ms/step - loss: 0.6544 - accuracy: 0.7769 - val_loss: 1.0179 - val_accuracy: 0.7384\n",
      "Epoch 106/200\n",
      "23/23 [==============================] - 1s 26ms/step - loss: 0.6516 - accuracy: 0.7787 - val_loss: 1.0206 - val_accuracy: 0.7455\n",
      "Epoch 107/200\n",
      "23/23 [==============================] - 1s 26ms/step - loss: 0.6488 - accuracy: 0.7876 - val_loss: 1.0358 - val_accuracy: 0.7419\n",
      "Epoch 108/200\n",
      "23/23 [==============================] - 1s 24ms/step - loss: 0.6507 - accuracy: 0.7823 - val_loss: 1.0253 - val_accuracy: 0.7419\n",
      "Epoch 109/200\n",
      "23/23 [==============================] - 1s 27ms/step - loss: 0.6403 - accuracy: 0.7814 - val_loss: 1.0409 - val_accuracy: 0.7348\n",
      "Epoch 110/200\n",
      "23/23 [==============================] - 1s 26ms/step - loss: 0.6308 - accuracy: 0.7876 - val_loss: 1.0381 - val_accuracy: 0.7348\n",
      "Epoch 111/200\n",
      "23/23 [==============================] - 1s 26ms/step - loss: 0.6317 - accuracy: 0.7921 - val_loss: 1.0472 - val_accuracy: 0.7348\n",
      "Epoch 112/200\n",
      "23/23 [==============================] - 1s 25ms/step - loss: 0.6221 - accuracy: 0.7876 - val_loss: 1.0375 - val_accuracy: 0.7527\n",
      "Epoch 113/200\n",
      "23/23 [==============================] - 1s 26ms/step - loss: 0.6079 - accuracy: 0.7912 - val_loss: 1.0546 - val_accuracy: 0.7240\n",
      "Epoch 114/200\n",
      "23/23 [==============================] - 1s 25ms/step - loss: 0.6298 - accuracy: 0.7841 - val_loss: 1.0378 - val_accuracy: 0.7348\n",
      "Epoch 115/200\n"
     ]
    },
    {
     "name": "stdout",
     "output_type": "stream",
     "text": [
      "23/23 [==============================] - 1s 26ms/step - loss: 0.6484 - accuracy: 0.7760 - val_loss: 1.0354 - val_accuracy: 0.7419\n",
      "Epoch 116/200\n",
      "23/23 [==============================] - 1s 24ms/step - loss: 0.6256 - accuracy: 0.7849 - val_loss: 1.0483 - val_accuracy: 0.7419\n",
      "Epoch 117/200\n",
      "23/23 [==============================] - 1s 25ms/step - loss: 0.6099 - accuracy: 0.7894 - val_loss: 1.0669 - val_accuracy: 0.7348\n",
      "Epoch 118/200\n",
      "23/23 [==============================] - 1s 26ms/step - loss: 0.6047 - accuracy: 0.7966 - val_loss: 1.0516 - val_accuracy: 0.7276\n",
      "Epoch 119/200\n",
      "23/23 [==============================] - 1s 27ms/step - loss: 0.5978 - accuracy: 0.8002 - val_loss: 1.0546 - val_accuracy: 0.7312\n",
      "Epoch 120/200\n",
      "23/23 [==============================] - 1s 26ms/step - loss: 0.5851 - accuracy: 0.7975 - val_loss: 1.0648 - val_accuracy: 0.7312\n",
      "Epoch 121/200\n",
      "23/23 [==============================] - 1s 25ms/step - loss: 0.5918 - accuracy: 0.8011 - val_loss: 1.0701 - val_accuracy: 0.7384\n",
      "Epoch 122/200\n",
      "23/23 [==============================] - 1s 25ms/step - loss: 0.5903 - accuracy: 0.7984 - val_loss: 1.0654 - val_accuracy: 0.7348\n",
      "Epoch 123/200\n",
      "23/23 [==============================] - 1s 25ms/step - loss: 0.5747 - accuracy: 0.8047 - val_loss: 1.0766 - val_accuracy: 0.7419\n",
      "Epoch 124/200\n",
      "23/23 [==============================] - 1s 26ms/step - loss: 0.5964 - accuracy: 0.7948 - val_loss: 1.0884 - val_accuracy: 0.7312\n",
      "Epoch 125/200\n",
      "23/23 [==============================] - 1s 26ms/step - loss: 0.6813 - accuracy: 0.7733 - val_loss: 1.0783 - val_accuracy: 0.7384\n",
      "Epoch 126/200\n",
      "23/23 [==============================] - 1s 27ms/step - loss: 0.6491 - accuracy: 0.7670 - val_loss: 1.0892 - val_accuracy: 0.7240\n",
      "Epoch 127/200\n",
      "23/23 [==============================] - 1s 26ms/step - loss: 0.6110 - accuracy: 0.7894 - val_loss: 1.0656 - val_accuracy: 0.7348\n",
      "Epoch 128/200\n",
      "23/23 [==============================] - 1s 27ms/step - loss: 0.5930 - accuracy: 0.7885 - val_loss: 1.0859 - val_accuracy: 0.7240\n",
      "Epoch 129/200\n",
      "23/23 [==============================] - 1s 26ms/step - loss: 0.5853 - accuracy: 0.7885 - val_loss: 1.0922 - val_accuracy: 0.7276\n",
      "Epoch 130/200\n",
      "23/23 [==============================] - 1s 26ms/step - loss: 0.5734 - accuracy: 0.8002 - val_loss: 1.0761 - val_accuracy: 0.7312\n",
      "Epoch 131/200\n",
      "23/23 [==============================] - 1s 26ms/step - loss: 0.5854 - accuracy: 0.7921 - val_loss: 1.0748 - val_accuracy: 0.7348\n",
      "Epoch 132/200\n",
      "23/23 [==============================] - 1s 26ms/step - loss: 0.5669 - accuracy: 0.7957 - val_loss: 1.0985 - val_accuracy: 0.7312\n",
      "Epoch 133/200\n",
      "23/23 [==============================] - 1s 27ms/step - loss: 0.5724 - accuracy: 0.8011 - val_loss: 1.0676 - val_accuracy: 0.7455\n",
      "Epoch 134/200\n",
      "23/23 [==============================] - 1s 26ms/step - loss: 0.5537 - accuracy: 0.8065 - val_loss: 1.1013 - val_accuracy: 0.7491\n",
      "Epoch 135/200\n",
      "23/23 [==============================] - 1s 25ms/step - loss: 0.5448 - accuracy: 0.8181 - val_loss: 1.0926 - val_accuracy: 0.7419\n",
      "Epoch 136/200\n",
      "23/23 [==============================] - 1s 27ms/step - loss: 0.5305 - accuracy: 0.8145 - val_loss: 1.1024 - val_accuracy: 0.7419\n",
      "Epoch 137/200\n",
      "23/23 [==============================] - 1s 25ms/step - loss: 0.5277 - accuracy: 0.8181 - val_loss: 1.0852 - val_accuracy: 0.7419\n",
      "Epoch 138/200\n",
      "23/23 [==============================] - 1s 25ms/step - loss: 0.5214 - accuracy: 0.8181 - val_loss: 1.0925 - val_accuracy: 0.7491\n",
      "Epoch 139/200\n",
      "23/23 [==============================] - 1s 26ms/step - loss: 0.5273 - accuracy: 0.8208 - val_loss: 1.0782 - val_accuracy: 0.7491\n",
      "Epoch 140/200\n",
      "23/23 [==============================] - 1s 26ms/step - loss: 0.5257 - accuracy: 0.8181 - val_loss: 1.0964 - val_accuracy: 0.7384\n",
      "Epoch 141/200\n",
      "23/23 [==============================] - 1s 26ms/step - loss: 0.5256 - accuracy: 0.8217 - val_loss: 1.0903 - val_accuracy: 0.7527\n",
      "Epoch 142/200\n",
      "23/23 [==============================] - 1s 27ms/step - loss: 0.5390 - accuracy: 0.8118 - val_loss: 1.1127 - val_accuracy: 0.7419\n",
      "Epoch 143/200\n",
      "23/23 [==============================] - 1s 25ms/step - loss: 0.5310 - accuracy: 0.8154 - val_loss: 1.1043 - val_accuracy: 0.7527\n",
      "Epoch 144/200\n",
      "23/23 [==============================] - 1s 26ms/step - loss: 0.5081 - accuracy: 0.8172 - val_loss: 1.1067 - val_accuracy: 0.7348\n",
      "Epoch 145/200\n",
      "23/23 [==============================] - 1s 26ms/step - loss: 0.5113 - accuracy: 0.8208 - val_loss: 1.1116 - val_accuracy: 0.7599\n",
      "Epoch 146/200\n",
      "23/23 [==============================] - 1s 25ms/step - loss: 0.5151 - accuracy: 0.8199 - val_loss: 1.1184 - val_accuracy: 0.7527\n",
      "Epoch 147/200\n",
      "23/23 [==============================] - 1s 26ms/step - loss: 0.5006 - accuracy: 0.8217 - val_loss: 1.1282 - val_accuracy: 0.7455\n",
      "Epoch 148/200\n",
      "23/23 [==============================] - 1s 26ms/step - loss: 0.5002 - accuracy: 0.8244 - val_loss: 1.1553 - val_accuracy: 0.7348\n",
      "Epoch 149/200\n",
      "23/23 [==============================] - 1s 27ms/step - loss: 0.5004 - accuracy: 0.8190 - val_loss: 1.1441 - val_accuracy: 0.7384\n",
      "Epoch 150/200\n",
      "23/23 [==============================] - 1s 26ms/step - loss: 0.4852 - accuracy: 0.8324 - val_loss: 1.1555 - val_accuracy: 0.7204\n",
      "Epoch 151/200\n",
      "23/23 [==============================] - 1s 26ms/step - loss: 0.5000 - accuracy: 0.8262 - val_loss: 1.1412 - val_accuracy: 0.7168\n",
      "Epoch 152/200\n",
      "23/23 [==============================] - 1s 25ms/step - loss: 0.4991 - accuracy: 0.8226 - val_loss: 1.1597 - val_accuracy: 0.7276\n",
      "Epoch 153/200\n",
      "23/23 [==============================] - 1s 25ms/step - loss: 0.4804 - accuracy: 0.8360 - val_loss: 1.1512 - val_accuracy: 0.7348\n",
      "Epoch 154/200\n",
      "23/23 [==============================] - 1s 26ms/step - loss: 0.4776 - accuracy: 0.8324 - val_loss: 1.1580 - val_accuracy: 0.7240\n",
      "Epoch 155/200\n",
      "23/23 [==============================] - 1s 26ms/step - loss: 0.4622 - accuracy: 0.8396 - val_loss: 1.1667 - val_accuracy: 0.7312\n",
      "Epoch 156/200\n",
      "23/23 [==============================] - 1s 25ms/step - loss: 0.4970 - accuracy: 0.8333 - val_loss: 1.1507 - val_accuracy: 0.7133\n",
      "Epoch 157/200\n",
      "23/23 [==============================] - 1s 26ms/step - loss: 0.5075 - accuracy: 0.8190 - val_loss: 1.1682 - val_accuracy: 0.7634\n",
      "Epoch 158/200\n",
      "23/23 [==============================] - 1s 25ms/step - loss: 0.4803 - accuracy: 0.8351 - val_loss: 1.1507 - val_accuracy: 0.7455\n",
      "Epoch 159/200\n",
      "23/23 [==============================] - 1s 27ms/step - loss: 0.4760 - accuracy: 0.8360 - val_loss: 1.1604 - val_accuracy: 0.7204\n",
      "Epoch 160/200\n",
      "23/23 [==============================] - 1s 26ms/step - loss: 0.4658 - accuracy: 0.8387 - val_loss: 1.1618 - val_accuracy: 0.7491\n",
      "Epoch 161/200\n",
      "23/23 [==============================] - 1s 25ms/step - loss: 0.4590 - accuracy: 0.8450 - val_loss: 1.1793 - val_accuracy: 0.7455\n",
      "Epoch 162/200\n",
      "23/23 [==============================] - 1s 26ms/step - loss: 0.4473 - accuracy: 0.8459 - val_loss: 1.1848 - val_accuracy: 0.7419\n",
      "Epoch 163/200\n",
      "23/23 [==============================] - 1s 26ms/step - loss: 0.4438 - accuracy: 0.8414 - val_loss: 1.1951 - val_accuracy: 0.7276\n",
      "Epoch 164/200\n",
      "23/23 [==============================] - 1s 25ms/step - loss: 0.4359 - accuracy: 0.8548 - val_loss: 1.1839 - val_accuracy: 0.7312\n",
      "Epoch 165/200\n",
      "23/23 [==============================] - 1s 26ms/step - loss: 0.4491 - accuracy: 0.8414 - val_loss: 1.1864 - val_accuracy: 0.7133\n",
      "Epoch 166/200\n",
      "23/23 [==============================] - 1s 24ms/step - loss: 0.4454 - accuracy: 0.8495 - val_loss: 1.1832 - val_accuracy: 0.7348\n",
      "Epoch 167/200\n",
      "23/23 [==============================] - 1s 26ms/step - loss: 0.4351 - accuracy: 0.8575 - val_loss: 1.1968 - val_accuracy: 0.7312\n",
      "Epoch 168/200\n",
      "23/23 [==============================] - 1s 25ms/step - loss: 0.4232 - accuracy: 0.8575 - val_loss: 1.2021 - val_accuracy: 0.7312\n",
      "Epoch 169/200\n",
      "23/23 [==============================] - 1s 26ms/step - loss: 0.4159 - accuracy: 0.8593 - val_loss: 1.2099 - val_accuracy: 0.7348\n",
      "Epoch 170/200\n",
      "23/23 [==============================] - 1s 25ms/step - loss: 0.4107 - accuracy: 0.8584 - val_loss: 1.2092 - val_accuracy: 0.7348\n",
      "Epoch 171/200\n",
      "23/23 [==============================] - 1s 26ms/step - loss: 0.4155 - accuracy: 0.8629 - val_loss: 1.2284 - val_accuracy: 0.7384\n"
     ]
    },
    {
     "name": "stdout",
     "output_type": "stream",
     "text": [
      "Epoch 172/200\n",
      "23/23 [==============================] - 1s 27ms/step - loss: 0.4190 - accuracy: 0.8548 - val_loss: 1.2278 - val_accuracy: 0.7348\n",
      "Epoch 173/200\n",
      "23/23 [==============================] - 1s 26ms/step - loss: 0.4206 - accuracy: 0.8468 - val_loss: 1.2211 - val_accuracy: 0.7168\n",
      "Epoch 174/200\n",
      "23/23 [==============================] - 1s 26ms/step - loss: 0.4409 - accuracy: 0.8486 - val_loss: 1.2434 - val_accuracy: 0.7204\n",
      "Epoch 175/200\n",
      "23/23 [==============================] - 1s 25ms/step - loss: 0.4469 - accuracy: 0.8477 - val_loss: 1.2474 - val_accuracy: 0.7168\n",
      "Epoch 176/200\n",
      "23/23 [==============================] - 1s 25ms/step - loss: 0.4410 - accuracy: 0.8369 - val_loss: 1.2302 - val_accuracy: 0.7168\n",
      "Epoch 177/200\n",
      "23/23 [==============================] - 1s 25ms/step - loss: 0.4138 - accuracy: 0.8575 - val_loss: 1.2243 - val_accuracy: 0.7348\n",
      "Epoch 178/200\n",
      "23/23 [==============================] - 1s 27ms/step - loss: 0.3992 - accuracy: 0.8665 - val_loss: 1.2705 - val_accuracy: 0.7133\n",
      "Epoch 179/200\n",
      "23/23 [==============================] - 1s 26ms/step - loss: 0.4070 - accuracy: 0.8647 - val_loss: 1.2883 - val_accuracy: 0.7240\n",
      "Epoch 180/200\n",
      "23/23 [==============================] - 1s 26ms/step - loss: 0.4351 - accuracy: 0.8432 - val_loss: 1.2718 - val_accuracy: 0.7276\n",
      "Epoch 181/200\n",
      "23/23 [==============================] - 1s 25ms/step - loss: 0.4173 - accuracy: 0.8504 - val_loss: 1.2578 - val_accuracy: 0.7527\n",
      "Epoch 182/200\n",
      "23/23 [==============================] - 1s 26ms/step - loss: 0.4657 - accuracy: 0.8360 - val_loss: 1.2533 - val_accuracy: 0.7097\n",
      "Epoch 183/200\n",
      "23/23 [==============================] - 1s 26ms/step - loss: 0.4666 - accuracy: 0.8405 - val_loss: 1.2475 - val_accuracy: 0.7348\n",
      "Epoch 184/200\n",
      "23/23 [==============================] - 1s 25ms/step - loss: 0.4345 - accuracy: 0.8450 - val_loss: 1.2709 - val_accuracy: 0.7168\n",
      "Epoch 185/200\n",
      "23/23 [==============================] - 1s 25ms/step - loss: 0.4183 - accuracy: 0.8602 - val_loss: 1.2782 - val_accuracy: 0.7204\n",
      "Epoch 186/200\n",
      "23/23 [==============================] - 1s 26ms/step - loss: 0.3918 - accuracy: 0.8674 - val_loss: 1.2579 - val_accuracy: 0.7276\n",
      "Epoch 187/200\n",
      "23/23 [==============================] - 1s 26ms/step - loss: 0.3833 - accuracy: 0.8737 - val_loss: 1.2710 - val_accuracy: 0.7204\n",
      "Epoch 188/200\n",
      "23/23 [==============================] - 1s 26ms/step - loss: 0.3691 - accuracy: 0.8737 - val_loss: 1.3090 - val_accuracy: 0.7204\n",
      "Epoch 189/200\n",
      "23/23 [==============================] - 1s 25ms/step - loss: 0.4352 - accuracy: 0.8414 - val_loss: 1.2929 - val_accuracy: 0.7312\n",
      "Epoch 190/200\n",
      "23/23 [==============================] - 1s 25ms/step - loss: 0.4188 - accuracy: 0.8638 - val_loss: 1.2185 - val_accuracy: 0.7276\n",
      "Epoch 191/200\n",
      "23/23 [==============================] - 1s 27ms/step - loss: 0.4027 - accuracy: 0.8620 - val_loss: 1.2678 - val_accuracy: 0.7312\n",
      "Epoch 192/200\n",
      "23/23 [==============================] - 1s 26ms/step - loss: 0.3800 - accuracy: 0.8665 - val_loss: 1.2706 - val_accuracy: 0.7204\n",
      "Epoch 193/200\n",
      "23/23 [==============================] - 1s 25ms/step - loss: 0.3673 - accuracy: 0.8710 - val_loss: 1.2612 - val_accuracy: 0.7276\n",
      "Epoch 194/200\n",
      "23/23 [==============================] - 1s 26ms/step - loss: 0.3901 - accuracy: 0.8656 - val_loss: 1.2498 - val_accuracy: 0.7384\n",
      "Epoch 195/200\n",
      "23/23 [==============================] - 1s 26ms/step - loss: 0.4079 - accuracy: 0.8468 - val_loss: 1.3035 - val_accuracy: 0.7204\n",
      "Epoch 196/200\n",
      "23/23 [==============================] - 1s 25ms/step - loss: 0.4253 - accuracy: 0.8414 - val_loss: 1.2922 - val_accuracy: 0.7348\n",
      "Epoch 197/200\n",
      "23/23 [==============================] - 1s 25ms/step - loss: 0.3979 - accuracy: 0.8504 - val_loss: 1.3347 - val_accuracy: 0.7348\n",
      "Epoch 198/200\n",
      "23/23 [==============================] - 1s 25ms/step - loss: 0.4258 - accuracy: 0.8459 - val_loss: 1.2905 - val_accuracy: 0.7312\n",
      "Epoch 199/200\n",
      "23/23 [==============================] - 1s 25ms/step - loss: 0.3893 - accuracy: 0.8674 - val_loss: 1.3392 - val_accuracy: 0.7133\n",
      "Epoch 200/200\n",
      "23/23 [==============================] - 1s 25ms/step - loss: 0.3741 - accuracy: 0.8674 - val_loss: 1.2973 - val_accuracy: 0.7312\n"
     ]
    }
   ],
   "source": [
    "history = model.fit(X_train, y_train, epochs = 200, batch_size = 50, verbose = 1, validation_split=0.2)"
   ]
  },
  {
   "cell_type": "code",
   "execution_count": 114,
   "metadata": {},
   "outputs": [
    {
     "data": {
      "text/plain": [
       "<matplotlib.legend.Legend at 0x296a55a8710>"
      ]
     },
     "execution_count": 114,
     "metadata": {},
     "output_type": "execute_result"
    },
    {
     "data": {
      "image/png": "[encoded data removed]",
      "text/plain": [
       "<Figure size 432x288 with 1 Axes>"
      ]
     },
     "metadata": {
      "needs_background": "light"
     },
     "output_type": "display_data"
    }
   ],
   "source": [
    "plt.plot(history.history['accuracy'], label='accuracy')\n",
    "plt.plot(history.history['val_accuracy'], label = 'val_accuracy')\n",
    "plt.legend(loc='lower right')"
   ]
  },
  {
   "cell_type": "code",
   "execution_count": 115,
   "metadata": {},
   "outputs": [
    {
     "data": {
      "text/plain": [
       "<matplotlib.legend.Legend at 0x2969bfc51d0>"
      ]
     },
     "execution_count": 115,
     "metadata": {},
     "output_type": "execute_result"
    },
    {
     "data": {
      "image/png": "[encoded data removed]",
      "text/plain": [
       "<Figure size 432x288 with 1 Axes>"
      ]
     },
     "metadata": {
      "needs_background": "light"
     },
     "output_type": "display_data"
    }
   ],
   "source": [
    "plt.plot(history.history['loss'], label='loss')\n",
    "plt.plot(history.history['val_loss'], label = 'val_loss')\n",
    "plt.legend(loc='lower right')"
   ]
  },
  {
   "cell_type": "code",
   "execution_count": 116,
   "metadata": {
    "colab": {
     "base_uri": "https://localhost:8080/"
    },
    "executionInfo": {
     "elapsed": 114176,
     "status": "ok",
     "timestamp": 1604888546008,
     "user": {
      "displayName": "Buomsoo Kim",
      "photoUrl": "",
      "userId": "18268696804115368229"
     },
     "user_tz": 420
    },
    "id": "AaKxqlcizJbu",
    "outputId": "d6fff989-b241-4c14-87ff-c1c9660e0f11"
   },
   "outputs": [],
   "source": [
    "y_pred = model.predict(X_test)"
   ]
  },
  {
   "cell_type": "code",
   "execution_count": 117,
   "metadata": {},
   "outputs": [],
   "source": [
    "y_pred_ = np.argmax(y_pred, axis = 1)"
   ]
  },
  {
   "cell_type": "code",
   "execution_count": 118,
   "metadata": {},
   "outputs": [],
   "source": [
    "y_test_ = np.argmax(y_test, axis = 1)"
   ]
  },
  {
   "cell_type": "code",
   "execution_count": 119,
   "metadata": {
    "colab": {
     "base_uri": "https://localhost:8080/"
    },
    "executionInfo": {
     "elapsed": 114166,
     "status": "ok",
     "timestamp": 1604888546009,
     "user": {
      "displayName": "Buomsoo Kim",
      "photoUrl": "",
      "userId": "18268696804115368229"
     },
     "user_tz": 420
    },
    "id": "i7p5bZt5zJbw",
    "outputId": "ffb320de-44eb-4d6f-c23e-2e1f76fa1151"
   },
   "outputs": [
    {
     "name": "stdout",
     "output_type": "stream",
     "text": [
      "0.7312186978297162\n"
     ]
    }
   ],
   "source": [
    "print(accuracy_score(y_pred_, y_test_))"
   ]
  },
  {
   "cell_type": "markdown",
   "metadata": {
    "id": "eZobLnzdzJb1"
   },
   "source": [
    "## 3. LSTM\n",
    "- LSTM (long short-term memory) is an improved structure to solve the problem of long-term dependencies\n",
    "\n",
    "<img src=\"http://colah.github.io/posts/2015-08-Understanding-LSTMs/img/LSTM3-chain.png\" style=\"width: 600px\"/>"
   ]
  },
  {
   "cell_type": "code",
   "execution_count": 120,
   "metadata": {
    "executionInfo": {
     "elapsed": 425,
     "status": "ok",
     "timestamp": 1604888546438,
     "user": {
      "displayName": "Buomsoo Kim",
      "photoUrl": "",
      "userId": "18268696804115368229"
     },
     "user_tz": 420
    },
    "id": "LnV8mAdGzJb2"
   },
   "outputs": [],
   "source": [
    "from tensorflow.keras.layers import LSTM"
   ]
  },
  {
   "cell_type": "code",
   "execution_count": 121,
   "metadata": {
    "executionInfo": {
     "elapsed": 545,
     "status": "ok",
     "timestamp": 1604888546571,
     "user": {
      "displayName": "Buomsoo Kim",
      "photoUrl": "",
      "userId": "18268696804115368229"
     },
     "user_tz": 420
    },
    "id": "PwzGZ2vjzJb4"
   },
   "outputs": [],
   "source": [
    "def lstm():\n",
    "    model = Sequential()\n",
    "    model.add(LSTM(50, input_shape = (49,1), return_sequences = False))\n",
    "    model.add(Dense(46))\n",
    "    model.add(Activation('softmax'))\n",
    "    \n",
    "    adam = optimizers.Adam(learning_rate = 0.001)\n",
    "    model.compile(loss = 'categorical_crossentropy', optimizer = adam, metrics = ['accuracy'])\n",
    "    \n",
    "    return model"
   ]
  },
  {
   "cell_type": "code",
   "execution_count": 122,
   "metadata": {
    "executionInfo": {
     "elapsed": 544,
     "status": "ok",
     "timestamp": 1604888546573,
     "user": {
      "displayName": "Buomsoo Kim",
      "photoUrl": "",
      "userId": "18268696804115368229"
     },
     "user_tz": 420
    },
    "id": "s4GJrIdJzJcC"
   },
   "outputs": [],
   "source": [
    "model = lstm()"
   ]
  },
  {
   "cell_type": "code",
   "execution_count": 123,
   "metadata": {
    "colab": {
     "base_uri": "https://localhost:8080/"
    },
    "executionInfo": {
     "elapsed": 134515,
     "status": "ok",
     "timestamp": 1604888680548,
     "user": {
      "displayName": "Buomsoo Kim",
      "photoUrl": "",
      "userId": "18268696804115368229"
     },
     "user_tz": 420
    },
    "id": "BktDBXVezJcF",
    "outputId": "96e930d7-a6cd-4197-a937-de1c23ac9b9a"
   },
   "outputs": [
    {
     "name": "stdout",
     "output_type": "stream",
     "text": [
      "Epoch 1/200\n",
      "23/23 [==============================] - 4s 66ms/step - loss: 3.1221 - accuracy: 0.6559 - val_loss: 1.7158 - val_accuracy: 0.7240\n",
      "Epoch 2/200\n",
      "23/23 [==============================] - 1s 36ms/step - loss: 1.4323 - accuracy: 0.7124 - val_loss: 1.1943 - val_accuracy: 0.7240\n",
      "Epoch 3/200\n",
      "23/23 [==============================] - 1s 35ms/step - loss: 1.2283 - accuracy: 0.7124 - val_loss: 1.1275 - val_accuracy: 0.7240\n",
      "Epoch 4/200\n",
      "23/23 [==============================] - 1s 35ms/step - loss: 1.1870 - accuracy: 0.7124 - val_loss: 1.0965 - val_accuracy: 0.7240\n",
      "Epoch 5/200\n",
      "23/23 [==============================] - 1s 35ms/step - loss: 1.1562 - accuracy: 0.7124 - val_loss: 1.0634 - val_accuracy: 0.7240\n",
      "Epoch 6/200\n",
      "23/23 [==============================] - 1s 35ms/step - loss: 1.1032 - accuracy: 0.7124 - val_loss: 1.0013 - val_accuracy: 0.7240\n",
      "Epoch 7/200\n",
      "23/23 [==============================] - 1s 36ms/step - loss: 1.0414 - accuracy: 0.7124 - val_loss: 0.9472 - val_accuracy: 0.7240\n",
      "Epoch 8/200\n",
      "23/23 [==============================] - 1s 35ms/step - loss: 0.9942 - accuracy: 0.7491 - val_loss: 0.9189 - val_accuracy: 0.7993\n",
      "Epoch 9/200\n",
      "23/23 [==============================] - 1s 34ms/step - loss: 0.9933 - accuracy: 0.7464 - val_loss: 0.8865 - val_accuracy: 0.7885\n",
      "Epoch 10/200\n",
      "23/23 [==============================] - 1s 36ms/step - loss: 0.9554 - accuracy: 0.7625 - val_loss: 0.8709 - val_accuracy: 0.7957\n",
      "Epoch 11/200\n",
      "23/23 [==============================] - 1s 35ms/step - loss: 0.9290 - accuracy: 0.7778 - val_loss: 0.8724 - val_accuracy: 0.7993\n",
      "Epoch 12/200\n",
      "23/23 [==============================] - 1s 36ms/step - loss: 0.9183 - accuracy: 0.7661 - val_loss: 0.8310 - val_accuracy: 0.8100\n",
      "Epoch 13/200\n",
      "23/23 [==============================] - 1s 35ms/step - loss: 0.9260 - accuracy: 0.7643 - val_loss: 0.8446 - val_accuracy: 0.8208\n",
      "Epoch 14/200\n",
      "23/23 [==============================] - 1s 36ms/step - loss: 0.8864 - accuracy: 0.7921 - val_loss: 0.8262 - val_accuracy: 0.8136\n",
      "Epoch 15/200\n",
      "23/23 [==============================] - 1s 35ms/step - loss: 0.8812 - accuracy: 0.7876 - val_loss: 0.8035 - val_accuracy: 0.8315\n",
      "Epoch 16/200\n",
      "23/23 [==============================] - 1s 36ms/step - loss: 0.8646 - accuracy: 0.7984 - val_loss: 0.7853 - val_accuracy: 0.8315\n",
      "Epoch 17/200\n",
      "23/23 [==============================] - 1s 36ms/step - loss: 0.8457 - accuracy: 0.7957 - val_loss: 0.7646 - val_accuracy: 0.8387\n",
      "Epoch 18/200\n",
      "23/23 [==============================] - 1s 34ms/step - loss: 0.8260 - accuracy: 0.8011 - val_loss: 0.7528 - val_accuracy: 0.8351\n",
      "Epoch 19/200\n",
      "23/23 [==============================] - 1s 38ms/step - loss: 0.8192 - accuracy: 0.8109 - val_loss: 0.7596 - val_accuracy: 0.8387\n",
      "Epoch 20/200\n",
      "23/23 [==============================] - 1s 35ms/step - loss: 0.8331 - accuracy: 0.8100 - val_loss: 0.7596 - val_accuracy: 0.8423\n",
      "Epoch 21/200\n",
      "23/23 [==============================] - 1s 34ms/step - loss: 0.8494 - accuracy: 0.8011 - val_loss: 0.7489 - val_accuracy: 0.8495\n",
      "Epoch 22/200\n",
      "23/23 [==============================] - 1s 34ms/step - loss: 0.8316 - accuracy: 0.7903 - val_loss: 0.7753 - val_accuracy: 0.8172\n",
      "Epoch 23/200\n",
      "23/23 [==============================] - 1s 36ms/step - loss: 0.8026 - accuracy: 0.8065 - val_loss: 0.7504 - val_accuracy: 0.8423\n",
      "Epoch 24/200\n",
      "23/23 [==============================] - 1s 34ms/step - loss: 0.7975 - accuracy: 0.8002 - val_loss: 0.7576 - val_accuracy: 0.8244\n",
      "Epoch 25/200\n",
      "23/23 [==============================] - 1s 35ms/step - loss: 0.7765 - accuracy: 0.8136 - val_loss: 0.7318 - val_accuracy: 0.8351\n",
      "Epoch 26/200\n",
      "23/23 [==============================] - 1s 36ms/step - loss: 0.7525 - accuracy: 0.8262 - val_loss: 0.7190 - val_accuracy: 0.8387\n",
      "Epoch 27/200\n",
      "23/23 [==============================] - 1s 36ms/step - loss: 0.7855 - accuracy: 0.8136 - val_loss: 0.7366 - val_accuracy: 0.8459\n",
      "Epoch 28/200\n",
      "23/23 [==============================] - 1s 36ms/step - loss: 0.7511 - accuracy: 0.8226 - val_loss: 0.7192 - val_accuracy: 0.8423\n",
      "Epoch 29/200\n",
      "23/23 [==============================] - 1s 37ms/step - loss: 0.7416 - accuracy: 0.8271 - val_loss: 0.7625 - val_accuracy: 0.8244\n",
      "Epoch 30/200\n",
      "23/23 [==============================] - 1s 38ms/step - loss: 0.7568 - accuracy: 0.8136 - val_loss: 0.7120 - val_accuracy: 0.8423\n",
      "Epoch 31/200\n",
      "23/23 [==============================] - 1s 34ms/step - loss: 0.7507 - accuracy: 0.8208 - val_loss: 0.7201 - val_accuracy: 0.8423\n",
      "Epoch 32/200\n",
      "23/23 [==============================] - 1s 35ms/step - loss: 0.7302 - accuracy: 0.8306 - val_loss: 0.7157 - val_accuracy: 0.8459\n",
      "Epoch 33/200\n",
      "23/23 [==============================] - 1s 35ms/step - loss: 0.7242 - accuracy: 0.8315 - val_loss: 0.7090 - val_accuracy: 0.8459\n",
      "Epoch 34/200\n",
      "23/23 [==============================] - 1s 36ms/step - loss: 0.7167 - accuracy: 0.8333 - val_loss: 0.7124 - val_accuracy: 0.8351\n",
      "Epoch 35/200\n",
      "23/23 [==============================] - 1s 36ms/step - loss: 0.7452 - accuracy: 0.8226 - val_loss: 0.7308 - val_accuracy: 0.8315\n",
      "Epoch 36/200\n",
      "23/23 [==============================] - 1s 35ms/step - loss: 0.7808 - accuracy: 0.8235 - val_loss: 0.7344 - val_accuracy: 0.8423\n",
      "Epoch 37/200\n",
      "23/23 [==============================] - 1s 34ms/step - loss: 0.7276 - accuracy: 0.8280 - val_loss: 0.7254 - val_accuracy: 0.8459\n",
      "Epoch 38/200\n",
      "23/23 [==============================] - 1s 38ms/step - loss: 0.7276 - accuracy: 0.8271 - val_loss: 0.7407 - val_accuracy: 0.8459\n",
      "Epoch 39/200\n",
      "23/23 [==============================] - 1s 35ms/step - loss: 0.7473 - accuracy: 0.8199 - val_loss: 0.7117 - val_accuracy: 0.8495\n",
      "Epoch 40/200\n",
      "23/23 [==============================] - 1s 36ms/step - loss: 0.7221 - accuracy: 0.8306 - val_loss: 0.7315 - val_accuracy: 0.8315\n",
      "Epoch 41/200\n",
      "23/23 [==============================] - 1s 35ms/step - loss: 0.7052 - accuracy: 0.8306 - val_loss: 0.6976 - val_accuracy: 0.8423\n",
      "Epoch 42/200\n",
      "23/23 [==============================] - 1s 35ms/step - loss: 0.7093 - accuracy: 0.8297 - val_loss: 0.7294 - val_accuracy: 0.8351\n",
      "Epoch 43/200\n",
      "23/23 [==============================] - 1s 36ms/step - loss: 0.7092 - accuracy: 0.8297 - val_loss: 0.7070 - val_accuracy: 0.8459\n",
      "Epoch 44/200\n",
      "23/23 [==============================] - 1s 36ms/step - loss: 0.6942 - accuracy: 0.8360 - val_loss: 0.6966 - val_accuracy: 0.8459\n",
      "Epoch 45/200\n",
      "23/23 [==============================] - 1s 35ms/step - loss: 0.6903 - accuracy: 0.8324 - val_loss: 0.6932 - val_accuracy: 0.8423\n",
      "Epoch 46/200\n",
      "23/23 [==============================] - 1s 36ms/step - loss: 0.6893 - accuracy: 0.8306 - val_loss: 0.6941 - val_accuracy: 0.8495\n",
      "Epoch 47/200\n",
      "23/23 [==============================] - 1s 37ms/step - loss: 0.6824 - accuracy: 0.8342 - val_loss: 0.6920 - val_accuracy: 0.8387\n",
      "Epoch 48/200\n",
      "23/23 [==============================] - 1s 36ms/step - loss: 0.6733 - accuracy: 0.8360 - val_loss: 0.7001 - val_accuracy: 0.8387\n",
      "Epoch 49/200\n",
      "23/23 [==============================] - 1s 37ms/step - loss: 0.6774 - accuracy: 0.8351 - val_loss: 0.6896 - val_accuracy: 0.8423\n",
      "Epoch 50/200\n",
      "23/23 [==============================] - 1s 37ms/step - loss: 0.7056 - accuracy: 0.8235 - val_loss: 0.6958 - val_accuracy: 0.8387\n",
      "Epoch 51/200\n",
      "23/23 [==============================] - 1s 36ms/step - loss: 0.7020 - accuracy: 0.8280 - val_loss: 0.6990 - val_accuracy: 0.8351\n",
      "Epoch 52/200\n",
      "23/23 [==============================] - 1s 37ms/step - loss: 0.6726 - accuracy: 0.8351 - val_loss: 0.6845 - val_accuracy: 0.8459\n",
      "Epoch 53/200\n",
      "23/23 [==============================] - 1s 36ms/step - loss: 0.6681 - accuracy: 0.8315 - val_loss: 0.6890 - val_accuracy: 0.8387\n",
      "Epoch 54/200\n",
      "23/23 [==============================] - 1s 35ms/step - loss: 0.6612 - accuracy: 0.8306 - val_loss: 0.6827 - val_accuracy: 0.8423\n",
      "Epoch 55/200\n",
      "23/23 [==============================] - 1s 36ms/step - loss: 0.6517 - accuracy: 0.8315 - val_loss: 0.6829 - val_accuracy: 0.8423\n",
      "Epoch 56/200\n",
      "23/23 [==============================] - 1s 34ms/step - loss: 0.6639 - accuracy: 0.8333 - val_loss: 0.6963 - val_accuracy: 0.8351\n",
      "Epoch 57/200\n",
      "23/23 [==============================] - 1s 36ms/step - loss: 0.6556 - accuracy: 0.8324 - val_loss: 0.6851 - val_accuracy: 0.8459\n",
      "Epoch 58/200\n"
     ]
    },
    {
     "name": "stdout",
     "output_type": "stream",
     "text": [
      "23/23 [==============================] - 1s 37ms/step - loss: 0.6478 - accuracy: 0.8297 - val_loss: 0.6915 - val_accuracy: 0.8530\n",
      "Epoch 59/200\n",
      "23/23 [==============================] - 1s 36ms/step - loss: 0.6475 - accuracy: 0.8297 - val_loss: 0.6827 - val_accuracy: 0.8495\n",
      "Epoch 60/200\n",
      "23/23 [==============================] - 1s 37ms/step - loss: 0.6428 - accuracy: 0.8342 - val_loss: 0.6839 - val_accuracy: 0.8495\n",
      "Epoch 61/200\n",
      "23/23 [==============================] - 1s 36ms/step - loss: 0.6589 - accuracy: 0.8342 - val_loss: 0.6809 - val_accuracy: 0.8423\n",
      "Epoch 62/200\n",
      "23/23 [==============================] - 1s 37ms/step - loss: 0.6341 - accuracy: 0.8369 - val_loss: 0.6823 - val_accuracy: 0.8530\n",
      "Epoch 63/200\n",
      "23/23 [==============================] - 1s 36ms/step - loss: 0.6330 - accuracy: 0.8378 - val_loss: 0.6837 - val_accuracy: 0.8459\n",
      "Epoch 64/200\n",
      "23/23 [==============================] - 1s 37ms/step - loss: 0.6354 - accuracy: 0.8360 - val_loss: 0.6785 - val_accuracy: 0.8351\n",
      "Epoch 65/200\n",
      "23/23 [==============================] - 1s 37ms/step - loss: 0.6492 - accuracy: 0.8342 - val_loss: 0.6708 - val_accuracy: 0.8530\n",
      "Epoch 66/200\n",
      "23/23 [==============================] - 1s 38ms/step - loss: 0.6309 - accuracy: 0.8351 - val_loss: 0.6784 - val_accuracy: 0.8459\n",
      "Epoch 67/200\n",
      "23/23 [==============================] - 1s 36ms/step - loss: 0.6173 - accuracy: 0.8405 - val_loss: 0.6752 - val_accuracy: 0.8423\n",
      "Epoch 68/200\n",
      "23/23 [==============================] - 1s 37ms/step - loss: 0.6252 - accuracy: 0.8396 - val_loss: 0.7040 - val_accuracy: 0.8351\n",
      "Epoch 69/200\n",
      "23/23 [==============================] - 1s 36ms/step - loss: 0.6553 - accuracy: 0.8351 - val_loss: 0.6873 - val_accuracy: 0.8387\n",
      "Epoch 70/200\n",
      "23/23 [==============================] - 1s 36ms/step - loss: 0.6275 - accuracy: 0.8342 - val_loss: 0.6839 - val_accuracy: 0.8459\n",
      "Epoch 71/200\n",
      "23/23 [==============================] - 1s 36ms/step - loss: 0.6177 - accuracy: 0.8432 - val_loss: 0.6750 - val_accuracy: 0.8459\n",
      "Epoch 72/200\n",
      "23/23 [==============================] - 1s 37ms/step - loss: 0.6032 - accuracy: 0.8414 - val_loss: 0.6662 - val_accuracy: 0.8530\n",
      "Epoch 73/200\n",
      "23/23 [==============================] - 1s 38ms/step - loss: 0.6209 - accuracy: 0.8387 - val_loss: 0.6796 - val_accuracy: 0.8530\n",
      "Epoch 74/200\n",
      "23/23 [==============================] - 1s 36ms/step - loss: 0.6084 - accuracy: 0.8432 - val_loss: 0.6734 - val_accuracy: 0.8530\n",
      "Epoch 75/200\n",
      "23/23 [==============================] - 1s 36ms/step - loss: 0.6004 - accuracy: 0.8468 - val_loss: 0.6668 - val_accuracy: 0.8530\n",
      "Epoch 76/200\n",
      "23/23 [==============================] - 1s 36ms/step - loss: 0.5971 - accuracy: 0.8423 - val_loss: 0.6660 - val_accuracy: 0.8459\n",
      "Epoch 77/200\n",
      "23/23 [==============================] - 1s 36ms/step - loss: 0.5865 - accuracy: 0.8459 - val_loss: 0.6704 - val_accuracy: 0.8459\n",
      "Epoch 78/200\n",
      "23/23 [==============================] - 1s 37ms/step - loss: 0.5857 - accuracy: 0.8441 - val_loss: 0.6630 - val_accuracy: 0.8495\n",
      "Epoch 79/200\n",
      "23/23 [==============================] - 1s 37ms/step - loss: 0.5948 - accuracy: 0.8450 - val_loss: 0.6719 - val_accuracy: 0.8495\n",
      "Epoch 80/200\n",
      "23/23 [==============================] - 1s 37ms/step - loss: 0.6106 - accuracy: 0.8459 - val_loss: 0.6603 - val_accuracy: 0.8638\n",
      "Epoch 81/200\n",
      "23/23 [==============================] - 1s 36ms/step - loss: 0.6140 - accuracy: 0.8369 - val_loss: 0.6670 - val_accuracy: 0.8495\n",
      "Epoch 82/200\n",
      "23/23 [==============================] - 1s 40ms/step - loss: 0.6447 - accuracy: 0.8324 - val_loss: 0.6708 - val_accuracy: 0.8495\n",
      "Epoch 83/200\n",
      "23/23 [==============================] - 1s 36ms/step - loss: 0.5972 - accuracy: 0.8477 - val_loss: 0.6473 - val_accuracy: 0.8602\n",
      "Epoch 84/200\n",
      "23/23 [==============================] - 1s 38ms/step - loss: 0.5761 - accuracy: 0.8477 - val_loss: 0.6614 - val_accuracy: 0.8530\n",
      "Epoch 85/200\n",
      "23/23 [==============================] - 1s 37ms/step - loss: 0.5731 - accuracy: 0.8486 - val_loss: 0.6480 - val_accuracy: 0.8602\n",
      "Epoch 86/200\n",
      "23/23 [==============================] - 1s 35ms/step - loss: 0.5641 - accuracy: 0.8522 - val_loss: 0.6408 - val_accuracy: 0.8495\n",
      "Epoch 87/200\n",
      "23/23 [==============================] - 1s 35ms/step - loss: 0.5710 - accuracy: 0.8477 - val_loss: 0.6552 - val_accuracy: 0.8495\n",
      "Epoch 88/200\n",
      "23/23 [==============================] - 1s 34ms/step - loss: 0.5690 - accuracy: 0.8530 - val_loss: 0.6729 - val_accuracy: 0.8459\n",
      "Epoch 89/200\n",
      "23/23 [==============================] - 1s 34ms/step - loss: 0.5674 - accuracy: 0.8441 - val_loss: 0.6552 - val_accuracy: 0.8530\n",
      "Epoch 90/200\n",
      "23/23 [==============================] - 1s 36ms/step - loss: 0.5703 - accuracy: 0.8495 - val_loss: 0.6539 - val_accuracy: 0.8530\n",
      "Epoch 91/200\n",
      "23/23 [==============================] - 1s 35ms/step - loss: 0.5633 - accuracy: 0.8504 - val_loss: 0.6408 - val_accuracy: 0.8530\n",
      "Epoch 92/200\n",
      "23/23 [==============================] - 1s 35ms/step - loss: 0.5563 - accuracy: 0.8486 - val_loss: 0.6407 - val_accuracy: 0.8602\n",
      "Epoch 93/200\n",
      "23/23 [==============================] - 1s 36ms/step - loss: 0.5868 - accuracy: 0.8423 - val_loss: 0.6591 - val_accuracy: 0.8530\n",
      "Epoch 94/200\n",
      "23/23 [==============================] - 1s 37ms/step - loss: 0.5784 - accuracy: 0.8486 - val_loss: 0.6463 - val_accuracy: 0.8602\n",
      "Epoch 95/200\n",
      "23/23 [==============================] - 1s 34ms/step - loss: 0.5756 - accuracy: 0.8513 - val_loss: 0.6456 - val_accuracy: 0.8566\n",
      "Epoch 96/200\n",
      "23/23 [==============================] - 1s 36ms/step - loss: 0.5675 - accuracy: 0.8459 - val_loss: 0.6921 - val_accuracy: 0.8423\n",
      "Epoch 97/200\n",
      "23/23 [==============================] - 1s 35ms/step - loss: 0.5679 - accuracy: 0.8459 - val_loss: 0.6573 - val_accuracy: 0.8566\n",
      "Epoch 98/200\n",
      "23/23 [==============================] - 1s 36ms/step - loss: 0.5689 - accuracy: 0.8539 - val_loss: 0.6324 - val_accuracy: 0.8566\n",
      "Epoch 99/200\n",
      "23/23 [==============================] - 1s 34ms/step - loss: 0.5502 - accuracy: 0.8513 - val_loss: 0.6462 - val_accuracy: 0.8530\n",
      "Epoch 100/200\n",
      "23/23 [==============================] - 1s 36ms/step - loss: 0.5362 - accuracy: 0.8548 - val_loss: 0.6442 - val_accuracy: 0.8566\n",
      "Epoch 101/200\n",
      "23/23 [==============================] - 1s 35ms/step - loss: 0.5241 - accuracy: 0.8593 - val_loss: 0.6284 - val_accuracy: 0.8566\n",
      "Epoch 102/200\n",
      "23/23 [==============================] - 1s 35ms/step - loss: 0.5182 - accuracy: 0.8593 - val_loss: 0.6663 - val_accuracy: 0.8423\n",
      "Epoch 103/200\n",
      "23/23 [==============================] - 1s 35ms/step - loss: 0.5540 - accuracy: 0.8432 - val_loss: 0.7268 - val_accuracy: 0.8315\n",
      "Epoch 104/200\n",
      "23/23 [==============================] - 1s 35ms/step - loss: 0.6007 - accuracy: 0.8459 - val_loss: 0.6970 - val_accuracy: 0.8387\n",
      "Epoch 105/200\n",
      "23/23 [==============================] - 1s 34ms/step - loss: 0.5696 - accuracy: 0.8530 - val_loss: 0.6881 - val_accuracy: 0.8530\n",
      "Epoch 106/200\n",
      "23/23 [==============================] - 1s 34ms/step - loss: 0.5791 - accuracy: 0.8441 - val_loss: 0.6427 - val_accuracy: 0.8530\n",
      "Epoch 107/200\n",
      "23/23 [==============================] - 1s 34ms/step - loss: 0.5599 - accuracy: 0.8566 - val_loss: 0.6576 - val_accuracy: 0.8387\n",
      "Epoch 108/200\n",
      "23/23 [==============================] - 1s 35ms/step - loss: 0.5639 - accuracy: 0.8495 - val_loss: 0.6257 - val_accuracy: 0.8638\n",
      "Epoch 109/200\n",
      "23/23 [==============================] - 1s 35ms/step - loss: 0.5729 - accuracy: 0.8459 - val_loss: 0.6733 - val_accuracy: 0.8602\n",
      "Epoch 110/200\n",
      "23/23 [==============================] - 1s 37ms/step - loss: 0.5480 - accuracy: 0.8513 - val_loss: 0.6206 - val_accuracy: 0.8566\n",
      "Epoch 111/200\n",
      "23/23 [==============================] - 1s 36ms/step - loss: 0.5173 - accuracy: 0.8620 - val_loss: 0.6067 - val_accuracy: 0.8602\n",
      "Epoch 112/200\n",
      "23/23 [==============================] - 1s 35ms/step - loss: 0.5031 - accuracy: 0.8638 - val_loss: 0.6109 - val_accuracy: 0.8602\n",
      "Epoch 113/200\n",
      "23/23 [==============================] - 1s 35ms/step - loss: 0.5457 - accuracy: 0.8513 - val_loss: 0.6942 - val_accuracy: 0.8387\n",
      "Epoch 114/200\n",
      "23/23 [==============================] - 1s 34ms/step - loss: 0.5443 - accuracy: 0.8522 - val_loss: 0.6055 - val_accuracy: 0.8674\n",
      "Epoch 115/200\n"
     ]
    },
    {
     "name": "stdout",
     "output_type": "stream",
     "text": [
      "23/23 [==============================] - 1s 34ms/step - loss: 0.5396 - accuracy: 0.8504 - val_loss: 0.6249 - val_accuracy: 0.8674\n",
      "Epoch 116/200\n",
      "23/23 [==============================] - 1s 36ms/step - loss: 0.5119 - accuracy: 0.8548 - val_loss: 0.5983 - val_accuracy: 0.8710\n",
      "Epoch 117/200\n",
      "23/23 [==============================] - 1s 36ms/step - loss: 0.5833 - accuracy: 0.8495 - val_loss: 0.6401 - val_accuracy: 0.8602\n",
      "Epoch 118/200\n",
      "23/23 [==============================] - 1s 35ms/step - loss: 0.5235 - accuracy: 0.8611 - val_loss: 0.6135 - val_accuracy: 0.8602\n",
      "Epoch 119/200\n",
      "23/23 [==============================] - 1s 36ms/step - loss: 0.4981 - accuracy: 0.8611 - val_loss: 0.6023 - val_accuracy: 0.8781\n",
      "Epoch 120/200\n",
      "23/23 [==============================] - 1s 35ms/step - loss: 0.4903 - accuracy: 0.8701 - val_loss: 0.6317 - val_accuracy: 0.8566\n",
      "Epoch 121/200\n",
      "23/23 [==============================] - 1s 35ms/step - loss: 0.5141 - accuracy: 0.8602 - val_loss: 0.6176 - val_accuracy: 0.8746\n",
      "Epoch 122/200\n",
      "23/23 [==============================] - 1s 34ms/step - loss: 0.4969 - accuracy: 0.8728 - val_loss: 0.6120 - val_accuracy: 0.8638\n",
      "Epoch 123/200\n",
      "23/23 [==============================] - 1s 34ms/step - loss: 0.5271 - accuracy: 0.8575 - val_loss: 0.6427 - val_accuracy: 0.8530\n",
      "Epoch 124/200\n",
      "23/23 [==============================] - 1s 35ms/step - loss: 0.5201 - accuracy: 0.8584 - val_loss: 0.6045 - val_accuracy: 0.8746\n",
      "Epoch 125/200\n",
      "23/23 [==============================] - 1s 34ms/step - loss: 0.4981 - accuracy: 0.8710 - val_loss: 0.6218 - val_accuracy: 0.8638\n",
      "Epoch 126/200\n",
      "23/23 [==============================] - 1s 35ms/step - loss: 0.4928 - accuracy: 0.8647 - val_loss: 0.6155 - val_accuracy: 0.8638\n",
      "Epoch 127/200\n",
      "23/23 [==============================] - 1s 36ms/step - loss: 0.4937 - accuracy: 0.8647 - val_loss: 0.5886 - val_accuracy: 0.8817\n",
      "Epoch 128/200\n",
      "23/23 [==============================] - 1s 37ms/step - loss: 0.5001 - accuracy: 0.8620 - val_loss: 0.5918 - val_accuracy: 0.8674\n",
      "Epoch 129/200\n",
      "23/23 [==============================] - 1s 36ms/step - loss: 0.5012 - accuracy: 0.8665 - val_loss: 0.5959 - val_accuracy: 0.8817\n",
      "Epoch 130/200\n",
      "23/23 [==============================] - 1s 34ms/step - loss: 0.4889 - accuracy: 0.8602 - val_loss: 0.6098 - val_accuracy: 0.8781\n",
      "Epoch 131/200\n",
      "23/23 [==============================] - 1s 34ms/step - loss: 0.4961 - accuracy: 0.8620 - val_loss: 0.6023 - val_accuracy: 0.8817\n",
      "Epoch 132/200\n",
      "23/23 [==============================] - 1s 36ms/step - loss: 0.4645 - accuracy: 0.8754 - val_loss: 0.5807 - val_accuracy: 0.8710\n",
      "Epoch 133/200\n",
      "23/23 [==============================] - 1s 36ms/step - loss: 0.4599 - accuracy: 0.8754 - val_loss: 0.5830 - val_accuracy: 0.8781\n",
      "Epoch 134/200\n",
      "23/23 [==============================] - 1s 36ms/step - loss: 0.4541 - accuracy: 0.8799 - val_loss: 0.6688 - val_accuracy: 0.8459\n",
      "Epoch 135/200\n",
      "23/23 [==============================] - 1s 37ms/step - loss: 0.4662 - accuracy: 0.8710 - val_loss: 0.5778 - val_accuracy: 0.8817\n",
      "Epoch 136/200\n",
      "23/23 [==============================] - 1s 39ms/step - loss: 0.4565 - accuracy: 0.8719 - val_loss: 0.5829 - val_accuracy: 0.8781\n",
      "Epoch 137/200\n",
      "23/23 [==============================] - 1s 34ms/step - loss: 0.4471 - accuracy: 0.8763 - val_loss: 0.5763 - val_accuracy: 0.8781\n",
      "Epoch 138/200\n",
      "23/23 [==============================] - 1s 35ms/step - loss: 0.4611 - accuracy: 0.8674 - val_loss: 0.6018 - val_accuracy: 0.8710\n",
      "Epoch 139/200\n",
      "23/23 [==============================] - 1s 36ms/step - loss: 0.4500 - accuracy: 0.8763 - val_loss: 0.5876 - val_accuracy: 0.8746\n",
      "Epoch 140/200\n",
      "23/23 [==============================] - 1s 34ms/step - loss: 0.4681 - accuracy: 0.8692 - val_loss: 0.6083 - val_accuracy: 0.8710\n",
      "Epoch 141/200\n",
      "23/23 [==============================] - 1s 34ms/step - loss: 0.4318 - accuracy: 0.8772 - val_loss: 0.5843 - val_accuracy: 0.8853\n",
      "Epoch 142/200\n",
      "23/23 [==============================] - 1s 36ms/step - loss: 0.4399 - accuracy: 0.8746 - val_loss: 0.6049 - val_accuracy: 0.8746\n",
      "Epoch 143/200\n",
      "23/23 [==============================] - 1s 35ms/step - loss: 0.4376 - accuracy: 0.8781 - val_loss: 0.5753 - val_accuracy: 0.8781\n",
      "Epoch 144/200\n",
      "23/23 [==============================] - 1s 34ms/step - loss: 0.4328 - accuracy: 0.8781 - val_loss: 0.5842 - val_accuracy: 0.8817\n",
      "Epoch 145/200\n",
      "23/23 [==============================] - 1s 35ms/step - loss: 0.4229 - accuracy: 0.8790 - val_loss: 0.5862 - val_accuracy: 0.8710\n",
      "Epoch 146/200\n",
      "23/23 [==============================] - 1s 35ms/step - loss: 0.4246 - accuracy: 0.8853 - val_loss: 0.6401 - val_accuracy: 0.8674\n",
      "Epoch 147/200\n",
      "23/23 [==============================] - 1s 35ms/step - loss: 0.4530 - accuracy: 0.8772 - val_loss: 0.5950 - val_accuracy: 0.8746\n",
      "Epoch 148/200\n",
      "23/23 [==============================] - 1s 36ms/step - loss: 0.4199 - accuracy: 0.8844 - val_loss: 0.5594 - val_accuracy: 0.8817\n",
      "Epoch 149/200\n",
      "23/23 [==============================] - 1s 36ms/step - loss: 0.4103 - accuracy: 0.8844 - val_loss: 0.6130 - val_accuracy: 0.8817\n",
      "Epoch 150/200\n",
      "23/23 [==============================] - 1s 36ms/step - loss: 0.5303 - accuracy: 0.8468 - val_loss: 0.6486 - val_accuracy: 0.8853\n",
      "Epoch 151/200\n",
      "23/23 [==============================] - 1s 35ms/step - loss: 0.4706 - accuracy: 0.8781 - val_loss: 0.6100 - val_accuracy: 0.8817\n",
      "Epoch 152/200\n",
      "23/23 [==============================] - 1s 36ms/step - loss: 0.4243 - accuracy: 0.8799 - val_loss: 0.5920 - val_accuracy: 0.8781\n",
      "Epoch 153/200\n",
      "23/23 [==============================] - 1s 35ms/step - loss: 0.4013 - accuracy: 0.8844 - val_loss: 0.5910 - val_accuracy: 0.8925\n",
      "Epoch 154/200\n",
      "23/23 [==============================] - 1s 36ms/step - loss: 0.3852 - accuracy: 0.8934 - val_loss: 0.5807 - val_accuracy: 0.8925\n",
      "Epoch 155/200\n",
      "23/23 [==============================] - 1s 34ms/step - loss: 0.3913 - accuracy: 0.8898 - val_loss: 0.5733 - val_accuracy: 0.8889\n",
      "Epoch 156/200\n",
      "23/23 [==============================] - 1s 35ms/step - loss: 0.3871 - accuracy: 0.8916 - val_loss: 0.6044 - val_accuracy: 0.8853\n",
      "Epoch 157/200\n",
      "23/23 [==============================] - 1s 36ms/step - loss: 0.4087 - accuracy: 0.8817 - val_loss: 0.5979 - val_accuracy: 0.8710\n",
      "Epoch 158/200\n",
      "23/23 [==============================] - 1s 36ms/step - loss: 0.3932 - accuracy: 0.8907 - val_loss: 0.5883 - val_accuracy: 0.8889\n",
      "Epoch 159/200\n",
      "23/23 [==============================] - 1s 36ms/step - loss: 0.4099 - accuracy: 0.8835 - val_loss: 0.5803 - val_accuracy: 0.8817\n",
      "Epoch 160/200\n",
      "23/23 [==============================] - 1s 35ms/step - loss: 0.3890 - accuracy: 0.8889 - val_loss: 0.5740 - val_accuracy: 0.8853\n",
      "Epoch 161/200\n",
      "23/23 [==============================] - 1s 35ms/step - loss: 0.4024 - accuracy: 0.8853 - val_loss: 0.5784 - val_accuracy: 0.8925\n",
      "Epoch 162/200\n",
      "23/23 [==============================] - 1s 36ms/step - loss: 0.3800 - accuracy: 0.8925 - val_loss: 0.5746 - val_accuracy: 0.8853\n",
      "Epoch 163/200\n",
      "23/23 [==============================] - 1s 35ms/step - loss: 0.3701 - accuracy: 0.8907 - val_loss: 0.5772 - val_accuracy: 0.8746\n",
      "Epoch 164/200\n",
      "23/23 [==============================] - 1s 34ms/step - loss: 0.3718 - accuracy: 0.8943 - val_loss: 0.5611 - val_accuracy: 0.8853\n",
      "Epoch 165/200\n",
      "23/23 [==============================] - 1s 34ms/step - loss: 0.3642 - accuracy: 0.8925 - val_loss: 0.5684 - val_accuracy: 0.8817\n",
      "Epoch 166/200\n",
      "23/23 [==============================] - 1s 36ms/step - loss: 0.3711 - accuracy: 0.8952 - val_loss: 0.6190 - val_accuracy: 0.8710\n",
      "Epoch 167/200\n",
      "23/23 [==============================] - 1s 36ms/step - loss: 0.4110 - accuracy: 0.8799 - val_loss: 0.6330 - val_accuracy: 0.8638\n",
      "Epoch 168/200\n",
      "23/23 [==============================] - 1s 36ms/step - loss: 0.4041 - accuracy: 0.8826 - val_loss: 0.6062 - val_accuracy: 0.8746\n",
      "Epoch 169/200\n",
      "23/23 [==============================] - 1s 36ms/step - loss: 0.4047 - accuracy: 0.8808 - val_loss: 0.5709 - val_accuracy: 0.8781\n",
      "Epoch 170/200\n",
      "23/23 [==============================] - 1s 36ms/step - loss: 0.3523 - accuracy: 0.8987 - val_loss: 0.5853 - val_accuracy: 0.8889\n",
      "Epoch 171/200\n",
      "23/23 [==============================] - 1s 35ms/step - loss: 0.3535 - accuracy: 0.8978 - val_loss: 0.5630 - val_accuracy: 0.8889\n"
     ]
    },
    {
     "name": "stdout",
     "output_type": "stream",
     "text": [
      "Epoch 172/200\n",
      "23/23 [==============================] - 1s 35ms/step - loss: 0.3577 - accuracy: 0.8925 - val_loss: 0.5627 - val_accuracy: 0.8781\n",
      "Epoch 173/200\n",
      "23/23 [==============================] - 1s 36ms/step - loss: 0.3422 - accuracy: 0.8996 - val_loss: 0.5713 - val_accuracy: 0.8853\n",
      "Epoch 174/200\n",
      "23/23 [==============================] - 1s 37ms/step - loss: 0.3385 - accuracy: 0.9032 - val_loss: 0.5507 - val_accuracy: 0.8889\n",
      "Epoch 175/200\n",
      "23/23 [==============================] - 1s 35ms/step - loss: 0.3783 - accuracy: 0.8880 - val_loss: 0.5882 - val_accuracy: 0.8710\n",
      "Epoch 176/200\n",
      "23/23 [==============================] - 1s 35ms/step - loss: 0.3553 - accuracy: 0.8934 - val_loss: 0.5654 - val_accuracy: 0.8781\n",
      "Epoch 177/200\n",
      "23/23 [==============================] - 1s 35ms/step - loss: 0.3358 - accuracy: 0.8996 - val_loss: 0.5641 - val_accuracy: 0.8817\n",
      "Epoch 178/200\n",
      "23/23 [==============================] - 1s 36ms/step - loss: 0.3271 - accuracy: 0.9086 - val_loss: 0.5595 - val_accuracy: 0.8889\n",
      "Epoch 179/200\n",
      "23/23 [==============================] - 1s 36ms/step - loss: 0.3248 - accuracy: 0.9023 - val_loss: 0.5793 - val_accuracy: 0.8710\n",
      "Epoch 180/200\n",
      "23/23 [==============================] - 1s 36ms/step - loss: 0.3379 - accuracy: 0.9014 - val_loss: 0.5784 - val_accuracy: 0.8710\n",
      "Epoch 181/200\n",
      "23/23 [==============================] - 1s 35ms/step - loss: 0.3221 - accuracy: 0.9032 - val_loss: 0.6065 - val_accuracy: 0.8746\n",
      "Epoch 182/200\n",
      "23/23 [==============================] - 1s 35ms/step - loss: 0.3343 - accuracy: 0.9023 - val_loss: 0.5971 - val_accuracy: 0.8746\n",
      "Epoch 183/200\n",
      "23/23 [==============================] - 1s 37ms/step - loss: 0.3497 - accuracy: 0.9023 - val_loss: 0.5737 - val_accuracy: 0.8746\n",
      "Epoch 184/200\n",
      "23/23 [==============================] - 1s 34ms/step - loss: 0.3570 - accuracy: 0.8970 - val_loss: 0.5722 - val_accuracy: 0.8817\n",
      "Epoch 185/200\n",
      "23/23 [==============================] - 1s 35ms/step - loss: 0.3231 - accuracy: 0.9023 - val_loss: 0.6076 - val_accuracy: 0.8746\n",
      "Epoch 186/200\n",
      "23/23 [==============================] - 1s 35ms/step - loss: 0.3485 - accuracy: 0.8943 - val_loss: 0.5781 - val_accuracy: 0.8853\n",
      "Epoch 187/200\n",
      "23/23 [==============================] - 1s 35ms/step - loss: 0.3743 - accuracy: 0.8916 - val_loss: 0.6381 - val_accuracy: 0.8746\n",
      "Epoch 188/200\n",
      "23/23 [==============================] - 1s 35ms/step - loss: 0.4158 - accuracy: 0.8790 - val_loss: 0.5880 - val_accuracy: 0.8746\n",
      "Epoch 189/200\n",
      "23/23 [==============================] - 1s 36ms/step - loss: 0.4059 - accuracy: 0.8754 - val_loss: 0.6431 - val_accuracy: 0.8781\n",
      "Epoch 190/200\n",
      "23/23 [==============================] - 1s 35ms/step - loss: 0.3971 - accuracy: 0.8835 - val_loss: 0.6061 - val_accuracy: 0.8781\n",
      "Epoch 191/200\n",
      "23/23 [==============================] - 1s 35ms/step - loss: 0.3646 - accuracy: 0.8907 - val_loss: 0.5728 - val_accuracy: 0.8853\n",
      "Epoch 192/200\n",
      "23/23 [==============================] - 1s 36ms/step - loss: 0.3357 - accuracy: 0.9023 - val_loss: 0.5777 - val_accuracy: 0.8781\n",
      "Epoch 193/200\n",
      "23/23 [==============================] - 1s 37ms/step - loss: 0.3050 - accuracy: 0.9077 - val_loss: 0.5634 - val_accuracy: 0.8853\n",
      "Epoch 194/200\n",
      "23/23 [==============================] - 1s 37ms/step - loss: 0.2924 - accuracy: 0.9122 - val_loss: 0.5578 - val_accuracy: 0.8817\n",
      "Epoch 195/200\n",
      "23/23 [==============================] - 1s 37ms/step - loss: 0.2912 - accuracy: 0.9167 - val_loss: 0.5729 - val_accuracy: 0.8781\n",
      "Epoch 196/200\n",
      "23/23 [==============================] - 1s 34ms/step - loss: 0.2923 - accuracy: 0.9176 - val_loss: 0.5652 - val_accuracy: 0.8817\n",
      "Epoch 197/200\n",
      "23/23 [==============================] - 1s 38ms/step - loss: 0.2878 - accuracy: 0.9203 - val_loss: 0.5642 - val_accuracy: 0.8817\n",
      "Epoch 198/200\n",
      "23/23 [==============================] - 1s 37ms/step - loss: 0.2943 - accuracy: 0.9131 - val_loss: 0.5851 - val_accuracy: 0.8710\n",
      "Epoch 199/200\n",
      "23/23 [==============================] - 1s 36ms/step - loss: 0.2809 - accuracy: 0.9158 - val_loss: 0.5669 - val_accuracy: 0.8817\n",
      "Epoch 200/200\n",
      "23/23 [==============================] - 1s 35ms/step - loss: 0.2872 - accuracy: 0.9131 - val_loss: 0.5762 - val_accuracy: 0.8817\n"
     ]
    }
   ],
   "source": [
    "history = model.fit(X_train, y_train, epochs = 200, batch_size = 50, verbose = 1, validation_split=0.2)"
   ]
  },
  {
   "cell_type": "code",
   "execution_count": 124,
   "metadata": {},
   "outputs": [
    {
     "data": {
      "text/plain": [
       "<matplotlib.legend.Legend at 0x296a627c198>"
      ]
     },
     "execution_count": 124,
     "metadata": {},
     "output_type": "execute_result"
    },
    {
     "data": {
      "image/png": "[encoded data removed]",
      "text/plain": [
       "<Figure size 432x288 with 1 Axes>"
      ]
     },
     "metadata": {
      "needs_background": "light"
     },
     "output_type": "display_data"
    }
   ],
   "source": [
    "plt.plot(history.history['accuracy'], label='accuracy')\n",
    "plt.plot(history.history['val_accuracy'], label = 'val_accuracy')\n",
    "plt.legend(loc='lower right')"
   ]
  },
  {
   "cell_type": "code",
   "execution_count": 127,
   "metadata": {},
   "outputs": [
    {
     "data": {
      "text/plain": [
       "<matplotlib.legend.Legend at 0x29690850fd0>"
      ]
     },
     "execution_count": 127,
     "metadata": {},
     "output_type": "execute_result"
    },
    {
     "data": {
      "image/png": "[encoded data removed]",
      "text/plain": [
       "<Figure size 432x288 with 1 Axes>"
      ]
     },
     "metadata": {
      "needs_background": "light"
     },
     "output_type": "display_data"
    }
   ],
   "source": [
    "plt.plot(history.history['loss'], label='loss')\n",
    "plt.plot(history.history['val_loss'], label = 'val_loss')\n",
    "plt.legend(loc='upper right')"
   ]
  },
  {
   "cell_type": "code",
   "execution_count": 128,
   "metadata": {
    "colab": {
     "base_uri": "https://localhost:8080/"
    },
    "executionInfo": {
     "elapsed": 134951,
     "status": "ok",
     "timestamp": 1604888680998,
     "user": {
      "displayName": "Buomsoo Kim",
      "photoUrl": "",
      "userId": "18268696804115368229"
     },
     "user_tz": 420
    },
    "id": "6JZgqCRGzJcI",
    "outputId": "89fb7d61-335b-4a27-a570-f88d7d657c9e"
   },
   "outputs": [],
   "source": [
    "y_pred = model.predict(X_test)"
   ]
  },
  {
   "cell_type": "code",
   "execution_count": 129,
   "metadata": {},
   "outputs": [],
   "source": [
    "y_pred_ = np.argmax(y_pred, axis = 1)"
   ]
  },
  {
   "cell_type": "code",
   "execution_count": 130,
   "metadata": {
    "colab": {
     "base_uri": "https://localhost:8080/"
    },
    "executionInfo": {
     "elapsed": 134946,
     "status": "ok",
     "timestamp": 1604888680999,
     "user": {
      "displayName": "Buomsoo Kim",
      "photoUrl": "",
      "userId": "18268696804115368229"
     },
     "user_tz": 420
    },
    "id": "30zEYM6bzJcK",
    "outputId": "06db7049-9e7e-485f-bdde-94e69fe84cd0"
   },
   "outputs": [
    {
     "name": "stdout",
     "output_type": "stream",
     "text": [
      "0.8380634390651085\n"
     ]
    }
   ],
   "source": [
    "# accuracy improves by adopting LSTM structure\n",
    "print(accuracy_score(y_pred_, y_test_))"
   ]
  },
  {
   "cell_type": "markdown",
   "metadata": {
    "id": "8pYDluUmzJcM"
   },
   "source": [
    "## 4. Stacked LSTM\n",
    "- LSTM layers can be stacked as well"
   ]
  },
  {
   "cell_type": "code",
   "execution_count": 131,
   "metadata": {
    "executionInfo": {
     "elapsed": 134942,
     "status": "ok",
     "timestamp": 1604888681000,
     "user": {
      "displayName": "Buomsoo Kim",
      "photoUrl": "",
      "userId": "18268696804115368229"
     },
     "user_tz": 420
    },
    "id": "JYecsWDOzJcN"
   },
   "outputs": [],
   "source": [
    "def stacked_lstm():\n",
    "    model = Sequential()\n",
    "    model.add(LSTM(50, input_shape = (49,1), return_sequences = True))\n",
    "    model.add(LSTM(50, return_sequences = False))\n",
    "    model.add(Dense(46))\n",
    "    model.add(Activation('softmax'))\n",
    "    \n",
    "    adam = optimizers.Adam(learning_rate = 0.001)\n",
    "    model.compile(loss = 'categorical_crossentropy', optimizer = adam, metrics = ['accuracy'])\n",
    "    \n",
    "    return model"
   ]
  },
  {
   "cell_type": "code",
   "execution_count": 132,
   "metadata": {
    "executionInfo": {
     "elapsed": 134939,
     "status": "ok",
     "timestamp": 1604888681001,
     "user": {
      "displayName": "Buomsoo Kim",
      "photoUrl": "",
      "userId": "18268696804115368229"
     },
     "user_tz": 420
    },
    "id": "vHjt-dHTzJcP"
   },
   "outputs": [],
   "source": [
    "model = stacked_lstm()"
   ]
  },
  {
   "cell_type": "code",
   "execution_count": 133,
   "metadata": {
    "colab": {
     "base_uri": "https://localhost:8080/"
    },
    "executionInfo": {
     "elapsed": 425096,
     "status": "ok",
     "timestamp": 1604888971171,
     "user": {
      "displayName": "Buomsoo Kim",
      "photoUrl": "",
      "userId": "18268696804115368229"
     },
     "user_tz": 420
    },
    "id": "tDk3d2EMzJcR",
    "outputId": "3427f814-8c09-4a46-ea4f-3065bc964ede"
   },
   "outputs": [
    {
     "name": "stdout",
     "output_type": "stream",
     "text": [
      "Epoch 1/200\n",
      "23/23 [==============================] - 8s 122ms/step - loss: 2.5908 - accuracy: 0.6532 - val_loss: 1.2876 - val_accuracy: 0.7240\n",
      "Epoch 2/200\n",
      "23/23 [==============================] - 2s 71ms/step - loss: 1.2434 - accuracy: 0.7124 - val_loss: 1.1074 - val_accuracy: 0.7240\n",
      "Epoch 3/200\n",
      "23/23 [==============================] - 2s 70ms/step - loss: 1.1631 - accuracy: 0.7124 - val_loss: 1.0883 - val_accuracy: 0.7240\n",
      "Epoch 4/200\n",
      "23/23 [==============================] - 2s 71ms/step - loss: 1.1547 - accuracy: 0.7124 - val_loss: 1.1144 - val_accuracy: 0.7240\n",
      "Epoch 5/200\n",
      "23/23 [==============================] - 2s 70ms/step - loss: 1.1486 - accuracy: 0.7124 - val_loss: 1.0522 - val_accuracy: 0.7240\n",
      "Epoch 6/200\n",
      "23/23 [==============================] - 2s 74ms/step - loss: 1.1185 - accuracy: 0.7124 - val_loss: 1.0419 - val_accuracy: 0.7240\n",
      "Epoch 7/200\n",
      "23/23 [==============================] - 2s 70ms/step - loss: 1.1133 - accuracy: 0.7124 - val_loss: 1.0415 - val_accuracy: 0.7240\n",
      "Epoch 8/200\n",
      "23/23 [==============================] - 2s 70ms/step - loss: 1.0967 - accuracy: 0.7124 - val_loss: 1.0249 - val_accuracy: 0.7240\n",
      "Epoch 9/200\n",
      "23/23 [==============================] - 2s 71ms/step - loss: 1.0750 - accuracy: 0.7124 - val_loss: 1.0297 - val_accuracy: 0.7240\n",
      "Epoch 10/200\n",
      "23/23 [==============================] - 2s 72ms/step - loss: 1.0381 - accuracy: 0.7124 - val_loss: 0.9075 - val_accuracy: 0.7240\n",
      "Epoch 11/200\n",
      "23/23 [==============================] - 2s 76ms/step - loss: 0.9450 - accuracy: 0.7572 - val_loss: 1.0006 - val_accuracy: 0.6882\n",
      "Epoch 12/200\n",
      "23/23 [==============================] - 2s 74ms/step - loss: 0.9305 - accuracy: 0.7590 - val_loss: 0.8049 - val_accuracy: 0.8351\n",
      "Epoch 13/200\n",
      "23/23 [==============================] - 2s 71ms/step - loss: 0.8662 - accuracy: 0.7930 - val_loss: 0.8116 - val_accuracy: 0.8029\n",
      "Epoch 14/200\n",
      "23/23 [==============================] - 2s 71ms/step - loss: 0.8893 - accuracy: 0.7832 - val_loss: 0.7796 - val_accuracy: 0.8244\n",
      "Epoch 15/200\n",
      "23/23 [==============================] - 2s 71ms/step - loss: 0.8707 - accuracy: 0.7858 - val_loss: 0.7913 - val_accuracy: 0.8208\n",
      "Epoch 16/200\n",
      "23/23 [==============================] - 2s 71ms/step - loss: 0.8216 - accuracy: 0.8118 - val_loss: 0.7386 - val_accuracy: 0.8495\n",
      "Epoch 17/200\n",
      "23/23 [==============================] - 2s 70ms/step - loss: 0.8473 - accuracy: 0.8065 - val_loss: 0.7812 - val_accuracy: 0.8244\n",
      "Epoch 18/200\n",
      "23/23 [==============================] - 2s 70ms/step - loss: 0.8293 - accuracy: 0.8065 - val_loss: 0.7637 - val_accuracy: 0.8244\n",
      "Epoch 19/200\n",
      "23/23 [==============================] - 2s 71ms/step - loss: 0.8093 - accuracy: 0.8118 - val_loss: 0.7517 - val_accuracy: 0.8315\n",
      "Epoch 20/200\n",
      "23/23 [==============================] - 2s 73ms/step - loss: 0.7979 - accuracy: 0.8091 - val_loss: 0.7310 - val_accuracy: 0.8423\n",
      "Epoch 21/200\n",
      "23/23 [==============================] - 2s 72ms/step - loss: 0.7871 - accuracy: 0.8190 - val_loss: 0.7550 - val_accuracy: 0.8280\n",
      "Epoch 22/200\n",
      "23/23 [==============================] - 2s 73ms/step - loss: 0.7837 - accuracy: 0.8199 - val_loss: 0.7370 - val_accuracy: 0.8387\n",
      "Epoch 23/200\n",
      "23/23 [==============================] - 2s 69ms/step - loss: 0.7717 - accuracy: 0.8190 - val_loss: 0.7365 - val_accuracy: 0.8387\n",
      "Epoch 24/200\n",
      "23/23 [==============================] - 2s 72ms/step - loss: 0.7661 - accuracy: 0.8154 - val_loss: 0.7229 - val_accuracy: 0.8495\n",
      "Epoch 25/200\n",
      "23/23 [==============================] - 2s 71ms/step - loss: 0.7849 - accuracy: 0.8118 - val_loss: 0.7274 - val_accuracy: 0.8495\n",
      "Epoch 26/200\n",
      "23/23 [==============================] - 2s 74ms/step - loss: 0.7502 - accuracy: 0.8217 - val_loss: 0.7186 - val_accuracy: 0.8459\n",
      "Epoch 27/200\n",
      "23/23 [==============================] - 2s 69ms/step - loss: 0.7476 - accuracy: 0.8163 - val_loss: 0.7281 - val_accuracy: 0.8495\n",
      "Epoch 28/200\n",
      "23/23 [==============================] - 2s 70ms/step - loss: 0.7526 - accuracy: 0.8190 - val_loss: 0.7186 - val_accuracy: 0.8459\n",
      "Epoch 29/200\n",
      "23/23 [==============================] - 2s 74ms/step - loss: 0.7442 - accuracy: 0.8262 - val_loss: 0.7101 - val_accuracy: 0.8423\n",
      "Epoch 30/200\n",
      "23/23 [==============================] - 2s 74ms/step - loss: 0.7342 - accuracy: 0.8235 - val_loss: 0.7324 - val_accuracy: 0.8315\n",
      "Epoch 31/200\n",
      "23/23 [==============================] - 2s 71ms/step - loss: 0.7417 - accuracy: 0.8217 - val_loss: 0.7334 - val_accuracy: 0.8280\n",
      "Epoch 32/200\n",
      "23/23 [==============================] - 2s 71ms/step - loss: 0.7516 - accuracy: 0.8199 - val_loss: 0.7446 - val_accuracy: 0.8315\n",
      "Epoch 33/200\n",
      "23/23 [==============================] - 2s 69ms/step - loss: 0.7410 - accuracy: 0.8271 - val_loss: 0.7195 - val_accuracy: 0.8423\n",
      "Epoch 34/200\n",
      "23/23 [==============================] - 2s 71ms/step - loss: 0.7279 - accuracy: 0.8306 - val_loss: 0.7087 - val_accuracy: 0.8459\n",
      "Epoch 35/200\n",
      "23/23 [==============================] - 2s 70ms/step - loss: 0.7331 - accuracy: 0.8289 - val_loss: 0.7305 - val_accuracy: 0.8351\n",
      "Epoch 36/200\n",
      "23/23 [==============================] - 2s 74ms/step - loss: 0.7679 - accuracy: 0.8190 - val_loss: 0.7300 - val_accuracy: 0.8423\n",
      "Epoch 37/200\n",
      "23/23 [==============================] - 2s 73ms/step - loss: 0.7239 - accuracy: 0.8271 - val_loss: 0.7129 - val_accuracy: 0.8459\n",
      "Epoch 38/200\n",
      "23/23 [==============================] - 2s 71ms/step - loss: 0.7268 - accuracy: 0.8244 - val_loss: 0.7110 - val_accuracy: 0.8423\n",
      "Epoch 39/200\n",
      "23/23 [==============================] - 2s 72ms/step - loss: 0.7183 - accuracy: 0.8297 - val_loss: 0.7075 - val_accuracy: 0.8423\n",
      "Epoch 40/200\n",
      "23/23 [==============================] - 2s 70ms/step - loss: 0.7204 - accuracy: 0.8280 - val_loss: 0.7003 - val_accuracy: 0.8423\n",
      "Epoch 41/200\n",
      "23/23 [==============================] - 2s 73ms/step - loss: 0.7127 - accuracy: 0.8289 - val_loss: 0.7373 - val_accuracy: 0.8387\n",
      "Epoch 42/200\n",
      "23/23 [==============================] - 2s 74ms/step - loss: 0.7288 - accuracy: 0.8235 - val_loss: 0.7160 - val_accuracy: 0.8387\n",
      "Epoch 43/200\n",
      "23/23 [==============================] - 2s 74ms/step - loss: 0.7083 - accuracy: 0.8280 - val_loss: 0.7096 - val_accuracy: 0.8459\n",
      "Epoch 44/200\n",
      "23/23 [==============================] - 2s 74ms/step - loss: 0.7045 - accuracy: 0.8271 - val_loss: 0.7089 - val_accuracy: 0.8423\n",
      "Epoch 45/200\n",
      "23/23 [==============================] - 2s 75ms/step - loss: 0.7002 - accuracy: 0.8271 - val_loss: 0.7027 - val_accuracy: 0.8387\n",
      "Epoch 46/200\n",
      "23/23 [==============================] - 2s 73ms/step - loss: 0.7115 - accuracy: 0.8280 - val_loss: 0.7083 - val_accuracy: 0.8387\n",
      "Epoch 47/200\n",
      "23/23 [==============================] - 2s 73ms/step - loss: 0.7058 - accuracy: 0.8262 - val_loss: 0.7099 - val_accuracy: 0.8387\n",
      "Epoch 48/200\n",
      "23/23 [==============================] - 2s 77ms/step - loss: 0.7259 - accuracy: 0.8235 - val_loss: 0.9604 - val_accuracy: 0.7814\n",
      "Epoch 49/200\n",
      "23/23 [==============================] - 2s 74ms/step - loss: 0.8259 - accuracy: 0.8038 - val_loss: 0.7774 - val_accuracy: 0.8208\n",
      "Epoch 50/200\n",
      "23/23 [==============================] - 2s 76ms/step - loss: 0.7200 - accuracy: 0.8244 - val_loss: 0.7020 - val_accuracy: 0.8495\n",
      "Epoch 51/200\n",
      "23/23 [==============================] - 2s 71ms/step - loss: 0.7156 - accuracy: 0.8253 - val_loss: 0.6937 - val_accuracy: 0.8495\n",
      "Epoch 52/200\n",
      "23/23 [==============================] - 2s 72ms/step - loss: 0.7094 - accuracy: 0.8253 - val_loss: 0.7205 - val_accuracy: 0.8459\n",
      "Epoch 53/200\n",
      "23/23 [==============================] - 2s 74ms/step - loss: 0.7058 - accuracy: 0.8280 - val_loss: 0.6934 - val_accuracy: 0.8423\n",
      "Epoch 54/200\n",
      "23/23 [==============================] - 2s 72ms/step - loss: 0.6816 - accuracy: 0.8324 - val_loss: 0.6917 - val_accuracy: 0.8459\n",
      "Epoch 55/200\n",
      "23/23 [==============================] - 2s 71ms/step - loss: 0.6787 - accuracy: 0.8306 - val_loss: 0.6878 - val_accuracy: 0.8459\n",
      "Epoch 56/200\n",
      "23/23 [==============================] - 2s 75ms/step - loss: 0.6722 - accuracy: 0.8360 - val_loss: 0.6944 - val_accuracy: 0.8459\n",
      "Epoch 57/200\n",
      "23/23 [==============================] - 2s 71ms/step - loss: 0.7242 - accuracy: 0.8217 - val_loss: 0.7611 - val_accuracy: 0.8208\n",
      "Epoch 58/200\n"
     ]
    },
    {
     "name": "stdout",
     "output_type": "stream",
     "text": [
      "23/23 [==============================] - 2s 71ms/step - loss: 0.7194 - accuracy: 0.8217 - val_loss: 0.6889 - val_accuracy: 0.8459\n",
      "Epoch 59/200\n",
      "23/23 [==============================] - 2s 72ms/step - loss: 0.6769 - accuracy: 0.8297 - val_loss: 0.6966 - val_accuracy: 0.8423\n",
      "Epoch 60/200\n",
      "23/23 [==============================] - 2s 72ms/step - loss: 0.6681 - accuracy: 0.8342 - val_loss: 0.6863 - val_accuracy: 0.8387\n",
      "Epoch 61/200\n",
      "23/23 [==============================] - 2s 72ms/step - loss: 0.6652 - accuracy: 0.8351 - val_loss: 0.7094 - val_accuracy: 0.8387\n",
      "Epoch 62/200\n",
      "23/23 [==============================] - 2s 71ms/step - loss: 0.6711 - accuracy: 0.8289 - val_loss: 0.7161 - val_accuracy: 0.8423\n",
      "Epoch 63/200\n",
      "23/23 [==============================] - 2s 73ms/step - loss: 0.6614 - accuracy: 0.8306 - val_loss: 0.6862 - val_accuracy: 0.8387\n",
      "Epoch 64/200\n",
      "23/23 [==============================] - 2s 74ms/step - loss: 0.6756 - accuracy: 0.8342 - val_loss: 0.6813 - val_accuracy: 0.8459\n",
      "Epoch 65/200\n",
      "23/23 [==============================] - 2s 74ms/step - loss: 0.6513 - accuracy: 0.8342 - val_loss: 0.6876 - val_accuracy: 0.8459\n",
      "Epoch 66/200\n",
      "23/23 [==============================] - 2s 72ms/step - loss: 0.6548 - accuracy: 0.8351 - val_loss: 0.6853 - val_accuracy: 0.8459\n",
      "Epoch 67/200\n",
      "23/23 [==============================] - 2s 72ms/step - loss: 0.6704 - accuracy: 0.8253 - val_loss: 0.7382 - val_accuracy: 0.8459\n",
      "Epoch 68/200\n",
      "23/23 [==============================] - 2s 71ms/step - loss: 0.6570 - accuracy: 0.8342 - val_loss: 0.7025 - val_accuracy: 0.8387\n",
      "Epoch 69/200\n",
      "23/23 [==============================] - 2s 75ms/step - loss: 0.6595 - accuracy: 0.8369 - val_loss: 0.6828 - val_accuracy: 0.8387\n",
      "Epoch 70/200\n",
      "23/23 [==============================] - 2s 71ms/step - loss: 0.6474 - accuracy: 0.8342 - val_loss: 0.6832 - val_accuracy: 0.8459\n",
      "Epoch 71/200\n",
      "23/23 [==============================] - 2s 79ms/step - loss: 0.6440 - accuracy: 0.8351 - val_loss: 0.6985 - val_accuracy: 0.8530\n",
      "Epoch 72/200\n",
      "23/23 [==============================] - 2s 76ms/step - loss: 0.6553 - accuracy: 0.8324 - val_loss: 0.6935 - val_accuracy: 0.8315\n",
      "Epoch 73/200\n",
      "23/23 [==============================] - 2s 72ms/step - loss: 0.6642 - accuracy: 0.8289 - val_loss: 0.7113 - val_accuracy: 0.8459\n",
      "Epoch 74/200\n",
      "23/23 [==============================] - 2s 70ms/step - loss: 0.6532 - accuracy: 0.8324 - val_loss: 0.6880 - val_accuracy: 0.8495\n",
      "Epoch 75/200\n",
      "23/23 [==============================] - 2s 70ms/step - loss: 0.6703 - accuracy: 0.8369 - val_loss: 0.6979 - val_accuracy: 0.8351\n",
      "Epoch 76/200\n",
      "23/23 [==============================] - 2s 72ms/step - loss: 0.6420 - accuracy: 0.8324 - val_loss: 0.6785 - val_accuracy: 0.8495\n",
      "Epoch 77/200\n",
      "23/23 [==============================] - 2s 72ms/step - loss: 0.6403 - accuracy: 0.8333 - val_loss: 0.6832 - val_accuracy: 0.8459\n",
      "Epoch 78/200\n",
      "23/23 [==============================] - 2s 69ms/step - loss: 0.6367 - accuracy: 0.8306 - val_loss: 0.6720 - val_accuracy: 0.8495\n",
      "Epoch 79/200\n",
      "23/23 [==============================] - 2s 71ms/step - loss: 0.6337 - accuracy: 0.8432 - val_loss: 0.6871 - val_accuracy: 0.8566\n",
      "Epoch 80/200\n",
      "23/23 [==============================] - 2s 70ms/step - loss: 0.6303 - accuracy: 0.8324 - val_loss: 0.6784 - val_accuracy: 0.8495\n",
      "Epoch 81/200\n",
      "23/23 [==============================] - 2s 74ms/step - loss: 0.6217 - accuracy: 0.8369 - val_loss: 0.6704 - val_accuracy: 0.8459\n",
      "Epoch 82/200\n",
      "23/23 [==============================] - 2s 71ms/step - loss: 0.6254 - accuracy: 0.8369 - val_loss: 0.6789 - val_accuracy: 0.8459\n",
      "Epoch 83/200\n",
      "23/23 [==============================] - 2s 71ms/step - loss: 0.6139 - accuracy: 0.8396 - val_loss: 0.6728 - val_accuracy: 0.8530\n",
      "Epoch 84/200\n",
      "23/23 [==============================] - 2s 72ms/step - loss: 0.6120 - accuracy: 0.8423 - val_loss: 0.6698 - val_accuracy: 0.8423\n",
      "Epoch 85/200\n",
      "23/23 [==============================] - 2s 70ms/step - loss: 0.6234 - accuracy: 0.8378 - val_loss: 0.6773 - val_accuracy: 0.8566\n",
      "Epoch 86/200\n",
      "23/23 [==============================] - 2s 71ms/step - loss: 0.6037 - accuracy: 0.8414 - val_loss: 0.6707 - val_accuracy: 0.8459\n",
      "Epoch 87/200\n",
      "23/23 [==============================] - 2s 73ms/step - loss: 0.6033 - accuracy: 0.8459 - val_loss: 0.6646 - val_accuracy: 0.8566\n",
      "Epoch 88/200\n",
      "23/23 [==============================] - 2s 74ms/step - loss: 0.6171 - accuracy: 0.8360 - val_loss: 0.6803 - val_accuracy: 0.8459\n",
      "Epoch 89/200\n",
      "23/23 [==============================] - 2s 74ms/step - loss: 0.6588 - accuracy: 0.8324 - val_loss: 0.6676 - val_accuracy: 0.8602\n",
      "Epoch 90/200\n",
      "23/23 [==============================] - 2s 73ms/step - loss: 0.6171 - accuracy: 0.8378 - val_loss: 0.6728 - val_accuracy: 0.8495\n",
      "Epoch 91/200\n",
      "23/23 [==============================] - 2s 74ms/step - loss: 0.6112 - accuracy: 0.8387 - val_loss: 0.6754 - val_accuracy: 0.8530\n",
      "Epoch 92/200\n",
      "23/23 [==============================] - 2s 71ms/step - loss: 0.6287 - accuracy: 0.8342 - val_loss: 0.6774 - val_accuracy: 0.8459\n",
      "Epoch 93/200\n",
      "23/23 [==============================] - 2s 73ms/step - loss: 0.5870 - accuracy: 0.8486 - val_loss: 0.7218 - val_accuracy: 0.8530\n",
      "Epoch 94/200\n",
      "23/23 [==============================] - 2s 73ms/step - loss: 0.6117 - accuracy: 0.8387 - val_loss: 0.6677 - val_accuracy: 0.8530\n",
      "Epoch 95/200\n",
      "23/23 [==============================] - 2s 73ms/step - loss: 0.5899 - accuracy: 0.8495 - val_loss: 0.6625 - val_accuracy: 0.8495\n",
      "Epoch 96/200\n",
      "23/23 [==============================] - 2s 74ms/step - loss: 0.5856 - accuracy: 0.8441 - val_loss: 0.6984 - val_accuracy: 0.8387\n",
      "Epoch 97/200\n",
      "23/23 [==============================] - 2s 71ms/step - loss: 0.6258 - accuracy: 0.8405 - val_loss: 0.7509 - val_accuracy: 0.8351\n",
      "Epoch 98/200\n",
      "23/23 [==============================] - 2s 72ms/step - loss: 0.6531 - accuracy: 0.8306 - val_loss: 0.6660 - val_accuracy: 0.8423\n",
      "Epoch 99/200\n",
      "23/23 [==============================] - 2s 74ms/step - loss: 0.5992 - accuracy: 0.8405 - val_loss: 0.6494 - val_accuracy: 0.8530\n",
      "Epoch 100/200\n",
      "23/23 [==============================] - 2s 73ms/step - loss: 0.5875 - accuracy: 0.8450 - val_loss: 0.6544 - val_accuracy: 0.8495\n",
      "Epoch 101/200\n",
      "23/23 [==============================] - 2s 75ms/step - loss: 0.5660 - accuracy: 0.8513 - val_loss: 0.6749 - val_accuracy: 0.8495\n",
      "Epoch 102/200\n",
      "23/23 [==============================] - 2s 76ms/step - loss: 0.5546 - accuracy: 0.8495 - val_loss: 0.6654 - val_accuracy: 0.8566\n",
      "Epoch 103/200\n",
      "23/23 [==============================] - 2s 77ms/step - loss: 0.5659 - accuracy: 0.8477 - val_loss: 0.7022 - val_accuracy: 0.8495\n",
      "Epoch 104/200\n",
      "23/23 [==============================] - 2s 74ms/step - loss: 0.5799 - accuracy: 0.8387 - val_loss: 0.6686 - val_accuracy: 0.8495\n",
      "Epoch 105/200\n",
      "23/23 [==============================] - 2s 71ms/step - loss: 0.5508 - accuracy: 0.8495 - val_loss: 0.6554 - val_accuracy: 0.8495\n",
      "Epoch 106/200\n",
      "23/23 [==============================] - 2s 71ms/step - loss: 0.5389 - accuracy: 0.8504 - val_loss: 0.6495 - val_accuracy: 0.8530\n",
      "Epoch 107/200\n",
      "23/23 [==============================] - 2s 73ms/step - loss: 0.5423 - accuracy: 0.8495 - val_loss: 0.6431 - val_accuracy: 0.8530\n",
      "Epoch 108/200\n",
      "23/23 [==============================] - 2s 75ms/step - loss: 0.5546 - accuracy: 0.8468 - val_loss: 0.6506 - val_accuracy: 0.8566\n",
      "Epoch 109/200\n",
      "23/23 [==============================] - 2s 71ms/step - loss: 0.5466 - accuracy: 0.8486 - val_loss: 0.6497 - val_accuracy: 0.8566\n",
      "Epoch 110/200\n",
      "23/23 [==============================] - 2s 70ms/step - loss: 0.5377 - accuracy: 0.8522 - val_loss: 0.6450 - val_accuracy: 0.8459\n",
      "Epoch 111/200\n",
      "23/23 [==============================] - 2s 76ms/step - loss: 0.5408 - accuracy: 0.8486 - val_loss: 0.6598 - val_accuracy: 0.8530\n",
      "Epoch 112/200\n",
      "23/23 [==============================] - 2s 74ms/step - loss: 0.5664 - accuracy: 0.8396 - val_loss: 0.6572 - val_accuracy: 0.8602\n",
      "Epoch 113/200\n",
      "23/23 [==============================] - 2s 75ms/step - loss: 0.5422 - accuracy: 0.8468 - val_loss: 0.6431 - val_accuracy: 0.8495\n",
      "Epoch 114/200\n",
      "23/23 [==============================] - 2s 71ms/step - loss: 0.5144 - accuracy: 0.8530 - val_loss: 0.6307 - val_accuracy: 0.8566\n",
      "Epoch 115/200\n"
     ]
    },
    {
     "name": "stdout",
     "output_type": "stream",
     "text": [
      "23/23 [==============================] - 2s 74ms/step - loss: 0.5008 - accuracy: 0.8575 - val_loss: 0.6578 - val_accuracy: 0.8530\n",
      "Epoch 116/200\n",
      "23/23 [==============================] - 2s 72ms/step - loss: 0.5423 - accuracy: 0.8504 - val_loss: 0.6380 - val_accuracy: 0.8566\n",
      "Epoch 117/200\n",
      "23/23 [==============================] - 2s 73ms/step - loss: 0.5045 - accuracy: 0.8557 - val_loss: 0.6390 - val_accuracy: 0.8566\n",
      "Epoch 118/200\n",
      "23/23 [==============================] - 2s 73ms/step - loss: 0.5249 - accuracy: 0.8539 - val_loss: 0.6280 - val_accuracy: 0.8710\n",
      "Epoch 119/200\n",
      "23/23 [==============================] - 2s 73ms/step - loss: 0.4950 - accuracy: 0.8611 - val_loss: 0.6162 - val_accuracy: 0.8566\n",
      "Epoch 120/200\n",
      "23/23 [==============================] - 2s 72ms/step - loss: 0.4888 - accuracy: 0.8647 - val_loss: 0.6099 - val_accuracy: 0.8566\n",
      "Epoch 121/200\n",
      "23/23 [==============================] - 2s 70ms/step - loss: 0.5042 - accuracy: 0.8575 - val_loss: 0.6459 - val_accuracy: 0.8459\n",
      "Epoch 122/200\n",
      "23/23 [==============================] - 2s 74ms/step - loss: 0.5283 - accuracy: 0.8548 - val_loss: 0.6379 - val_accuracy: 0.8566\n",
      "Epoch 123/200\n",
      "23/23 [==============================] - 2s 72ms/step - loss: 0.5282 - accuracy: 0.8459 - val_loss: 0.6387 - val_accuracy: 0.8530\n",
      "Epoch 124/200\n",
      "23/23 [==============================] - 2s 73ms/step - loss: 0.5169 - accuracy: 0.8459 - val_loss: 0.6766 - val_accuracy: 0.8602\n",
      "Epoch 125/200\n",
      "23/23 [==============================] - 2s 70ms/step - loss: 0.4992 - accuracy: 0.8593 - val_loss: 0.6168 - val_accuracy: 0.8710\n",
      "Epoch 126/200\n",
      "23/23 [==============================] - 2s 71ms/step - loss: 0.4742 - accuracy: 0.8665 - val_loss: 0.6278 - val_accuracy: 0.8674\n",
      "Epoch 127/200\n",
      "23/23 [==============================] - 2s 73ms/step - loss: 0.4488 - accuracy: 0.8790 - val_loss: 0.6207 - val_accuracy: 0.8710\n",
      "Epoch 128/200\n",
      "23/23 [==============================] - 2s 72ms/step - loss: 0.4785 - accuracy: 0.8683 - val_loss: 0.6154 - val_accuracy: 0.8495\n",
      "Epoch 129/200\n",
      "23/23 [==============================] - 2s 73ms/step - loss: 0.4514 - accuracy: 0.8719 - val_loss: 0.6118 - val_accuracy: 0.8602\n",
      "Epoch 130/200\n",
      "23/23 [==============================] - 2s 78ms/step - loss: 0.4385 - accuracy: 0.8772 - val_loss: 0.5920 - val_accuracy: 0.8602\n",
      "Epoch 131/200\n",
      "23/23 [==============================] - 2s 76ms/step - loss: 0.4375 - accuracy: 0.8790 - val_loss: 0.5924 - val_accuracy: 0.8674\n",
      "Epoch 132/200\n",
      "23/23 [==============================] - 2s 79ms/step - loss: 0.4430 - accuracy: 0.8835 - val_loss: 0.6233 - val_accuracy: 0.8674\n",
      "Epoch 133/200\n",
      "23/23 [==============================] - 2s 83ms/step - loss: 0.4628 - accuracy: 0.8692 - val_loss: 0.6024 - val_accuracy: 0.8674\n",
      "Epoch 134/200\n",
      "23/23 [==============================] - 2s 83ms/step - loss: 0.4569 - accuracy: 0.8737 - val_loss: 0.6093 - val_accuracy: 0.8674\n",
      "Epoch 135/200\n",
      "23/23 [==============================] - 2s 81ms/step - loss: 0.4314 - accuracy: 0.8781 - val_loss: 0.6098 - val_accuracy: 0.8710\n",
      "Epoch 136/200\n",
      "23/23 [==============================] - 2s 80ms/step - loss: 0.4318 - accuracy: 0.8808 - val_loss: 0.6133 - val_accuracy: 0.8602\n",
      "Epoch 137/200\n",
      "23/23 [==============================] - 2s 78ms/step - loss: 0.4300 - accuracy: 0.8772 - val_loss: 0.6140 - val_accuracy: 0.8674\n",
      "Epoch 138/200\n",
      "23/23 [==============================] - 2s 85ms/step - loss: 0.4284 - accuracy: 0.8790 - val_loss: 0.5933 - val_accuracy: 0.8674\n",
      "Epoch 139/200\n",
      "23/23 [==============================] - 2s 81ms/step - loss: 0.4501 - accuracy: 0.8790 - val_loss: 0.6736 - val_accuracy: 0.8495\n",
      "Epoch 140/200\n",
      "23/23 [==============================] - 2s 77ms/step - loss: 0.4706 - accuracy: 0.8665 - val_loss: 0.6466 - val_accuracy: 0.8530\n",
      "Epoch 141/200\n",
      "23/23 [==============================] - 2s 77ms/step - loss: 0.4333 - accuracy: 0.8817 - val_loss: 0.6274 - val_accuracy: 0.8566\n",
      "Epoch 142/200\n",
      "23/23 [==============================] - 2s 80ms/step - loss: 0.4129 - accuracy: 0.8808 - val_loss: 0.6245 - val_accuracy: 0.8566\n",
      "Epoch 143/200\n",
      "23/23 [==============================] - 2s 77ms/step - loss: 0.4035 - accuracy: 0.8853 - val_loss: 0.5984 - val_accuracy: 0.8566\n",
      "Epoch 144/200\n",
      "23/23 [==============================] - 2s 78ms/step - loss: 0.3875 - accuracy: 0.8889 - val_loss: 0.6087 - val_accuracy: 0.8638\n",
      "Epoch 145/200\n",
      "23/23 [==============================] - 2s 77ms/step - loss: 0.3751 - accuracy: 0.8952 - val_loss: 0.5901 - val_accuracy: 0.8674\n",
      "Epoch 146/200\n",
      "23/23 [==============================] - 2s 76ms/step - loss: 0.3708 - accuracy: 0.8970 - val_loss: 0.6031 - val_accuracy: 0.8566\n",
      "Epoch 147/200\n",
      "23/23 [==============================] - 2s 77ms/step - loss: 0.4062 - accuracy: 0.8853 - val_loss: 0.6361 - val_accuracy: 0.8602\n",
      "Epoch 148/200\n",
      "23/23 [==============================] - 2s 79ms/step - loss: 0.3948 - accuracy: 0.8889 - val_loss: 0.5991 - val_accuracy: 0.8746\n",
      "Epoch 149/200\n",
      "23/23 [==============================] - 2s 76ms/step - loss: 0.3675 - accuracy: 0.8987 - val_loss: 0.6050 - val_accuracy: 0.8602\n",
      "Epoch 150/200\n",
      "23/23 [==============================] - 2s 77ms/step - loss: 0.3915 - accuracy: 0.8817 - val_loss: 0.6269 - val_accuracy: 0.8674\n",
      "Epoch 151/200\n",
      "23/23 [==============================] - 2s 75ms/step - loss: 0.4043 - accuracy: 0.8853 - val_loss: 0.6068 - val_accuracy: 0.8674\n",
      "Epoch 152/200\n",
      "23/23 [==============================] - 2s 77ms/step - loss: 0.3860 - accuracy: 0.8871 - val_loss: 0.5933 - val_accuracy: 0.8746\n",
      "Epoch 153/200\n",
      "23/23 [==============================] - 2s 78ms/step - loss: 0.3501 - accuracy: 0.9077 - val_loss: 0.6085 - val_accuracy: 0.8602\n",
      "Epoch 154/200\n",
      "23/23 [==============================] - 2s 80ms/step - loss: 0.3514 - accuracy: 0.9014 - val_loss: 0.6010 - val_accuracy: 0.8602\n",
      "Epoch 155/200\n",
      "23/23 [==============================] - 2s 76ms/step - loss: 0.3513 - accuracy: 0.8996 - val_loss: 0.6113 - val_accuracy: 0.8602\n",
      "Epoch 156/200\n",
      "23/23 [==============================] - 2s 75ms/step - loss: 0.3614 - accuracy: 0.9014 - val_loss: 0.6021 - val_accuracy: 0.8710\n",
      "Epoch 157/200\n",
      "23/23 [==============================] - 2s 75ms/step - loss: 0.3537 - accuracy: 0.9023 - val_loss: 0.5874 - val_accuracy: 0.8674\n",
      "Epoch 158/200\n",
      "23/23 [==============================] - 2s 77ms/step - loss: 0.3408 - accuracy: 0.9023 - val_loss: 0.6173 - val_accuracy: 0.8566\n",
      "Epoch 159/200\n",
      "23/23 [==============================] - 2s 75ms/step - loss: 0.3391 - accuracy: 0.9059 - val_loss: 0.5892 - val_accuracy: 0.8638\n",
      "Epoch 160/200\n",
      "23/23 [==============================] - 2s 75ms/step - loss: 0.3434 - accuracy: 0.9041 - val_loss: 0.6420 - val_accuracy: 0.8674\n",
      "Epoch 161/200\n",
      "23/23 [==============================] - 2s 77ms/step - loss: 0.3597 - accuracy: 0.8970 - val_loss: 0.6083 - val_accuracy: 0.8566\n",
      "Epoch 162/200\n",
      "23/23 [==============================] - 2s 81ms/step - loss: 0.3281 - accuracy: 0.9086 - val_loss: 0.5914 - val_accuracy: 0.8710\n",
      "Epoch 163/200\n",
      "23/23 [==============================] - 2s 76ms/step - loss: 0.3204 - accuracy: 0.9158 - val_loss: 0.6129 - val_accuracy: 0.8710\n",
      "Epoch 164/200\n",
      "23/23 [==============================] - 2s 78ms/step - loss: 0.3849 - accuracy: 0.8889 - val_loss: 0.6724 - val_accuracy: 0.8495\n",
      "Epoch 165/200\n",
      "23/23 [==============================] - 2s 76ms/step - loss: 0.4718 - accuracy: 0.8593 - val_loss: 0.6998 - val_accuracy: 0.8459\n",
      "Epoch 166/200\n",
      "23/23 [==============================] - 2s 77ms/step - loss: 0.4952 - accuracy: 0.8629 - val_loss: 0.6846 - val_accuracy: 0.8459\n",
      "Epoch 167/200\n",
      "23/23 [==============================] - 2s 75ms/step - loss: 0.4249 - accuracy: 0.8817 - val_loss: 0.6431 - val_accuracy: 0.8602\n",
      "Epoch 168/200\n",
      "23/23 [==============================] - 2s 78ms/step - loss: 0.3676 - accuracy: 0.8978 - val_loss: 0.5921 - val_accuracy: 0.8674\n",
      "Epoch 169/200\n",
      "23/23 [==============================] - 2s 78ms/step - loss: 0.3663 - accuracy: 0.8987 - val_loss: 0.5852 - val_accuracy: 0.8638\n",
      "Epoch 170/200\n",
      "23/23 [==============================] - 2s 81ms/step - loss: 0.3287 - accuracy: 0.9077 - val_loss: 0.6313 - val_accuracy: 0.8674\n",
      "Epoch 171/200\n",
      "23/23 [==============================] - 2s 79ms/step - loss: 0.3099 - accuracy: 0.9149 - val_loss: 0.6020 - val_accuracy: 0.8602\n"
     ]
    },
    {
     "name": "stdout",
     "output_type": "stream",
     "text": [
      "Epoch 172/200\n",
      "23/23 [==============================] - 2s 76ms/step - loss: 0.2973 - accuracy: 0.9167 - val_loss: 0.6138 - val_accuracy: 0.8638\n",
      "Epoch 173/200\n",
      "23/23 [==============================] - 2s 77ms/step - loss: 0.2906 - accuracy: 0.9203 - val_loss: 0.6140 - val_accuracy: 0.8602\n",
      "Epoch 174/200\n",
      "23/23 [==============================] - 2s 77ms/step - loss: 0.2976 - accuracy: 0.9158 - val_loss: 0.6337 - val_accuracy: 0.8746\n",
      "Epoch 175/200\n",
      "23/23 [==============================] - 2s 75ms/step - loss: 0.3064 - accuracy: 0.9158 - val_loss: 0.6137 - val_accuracy: 0.8746\n",
      "Epoch 176/200\n",
      "23/23 [==============================] - 2s 77ms/step - loss: 0.3021 - accuracy: 0.9211 - val_loss: 0.6477 - val_accuracy: 0.8602\n",
      "Epoch 177/200\n",
      "23/23 [==============================] - 2s 78ms/step - loss: 0.3127 - accuracy: 0.9113 - val_loss: 0.6276 - val_accuracy: 0.8674\n",
      "Epoch 178/200\n",
      "23/23 [==============================] - 2s 77ms/step - loss: 0.2871 - accuracy: 0.9211 - val_loss: 0.6280 - val_accuracy: 0.8602\n",
      "Epoch 179/200\n",
      "23/23 [==============================] - 2s 76ms/step - loss: 0.2733 - accuracy: 0.9247 - val_loss: 0.5968 - val_accuracy: 0.8746\n",
      "Epoch 180/200\n",
      "23/23 [==============================] - 2s 78ms/step - loss: 0.2649 - accuracy: 0.9337 - val_loss: 0.6150 - val_accuracy: 0.8674\n",
      "Epoch 181/200\n",
      "23/23 [==============================] - 2s 75ms/step - loss: 0.2655 - accuracy: 0.9292 - val_loss: 0.6259 - val_accuracy: 0.8710\n",
      "Epoch 182/200\n",
      "23/23 [==============================] - 2s 78ms/step - loss: 0.2638 - accuracy: 0.9292 - val_loss: 0.6394 - val_accuracy: 0.8674\n",
      "Epoch 183/200\n",
      "23/23 [==============================] - 2s 76ms/step - loss: 0.2575 - accuracy: 0.9355 - val_loss: 0.6291 - val_accuracy: 0.8674\n",
      "Epoch 184/200\n",
      "23/23 [==============================] - 2s 75ms/step - loss: 0.2578 - accuracy: 0.9346 - val_loss: 0.6434 - val_accuracy: 0.8674\n",
      "Epoch 185/200\n",
      "23/23 [==============================] - 2s 77ms/step - loss: 0.2900 - accuracy: 0.9185 - val_loss: 0.6181 - val_accuracy: 0.8746\n",
      "Epoch 186/200\n",
      "23/23 [==============================] - 2s 77ms/step - loss: 0.2858 - accuracy: 0.9194 - val_loss: 0.6114 - val_accuracy: 0.8602\n",
      "Epoch 187/200\n",
      "23/23 [==============================] - 2s 77ms/step - loss: 0.2917 - accuracy: 0.9185 - val_loss: 0.6426 - val_accuracy: 0.8638\n",
      "Epoch 188/200\n",
      "23/23 [==============================] - 2s 79ms/step - loss: 0.3013 - accuracy: 0.9077 - val_loss: 0.6508 - val_accuracy: 0.8638\n",
      "Epoch 189/200\n",
      "23/23 [==============================] - 2s 79ms/step - loss: 0.2769 - accuracy: 0.9220 - val_loss: 0.6346 - val_accuracy: 0.8638\n",
      "Epoch 190/200\n",
      "23/23 [==============================] - 2s 79ms/step - loss: 0.2925 - accuracy: 0.9149 - val_loss: 0.6318 - val_accuracy: 0.8674\n",
      "Epoch 191/200\n",
      "23/23 [==============================] - 2s 77ms/step - loss: 0.2914 - accuracy: 0.9158 - val_loss: 0.5953 - val_accuracy: 0.8674\n",
      "Epoch 192/200\n",
      "23/23 [==============================] - 2s 78ms/step - loss: 0.2920 - accuracy: 0.9140 - val_loss: 0.6257 - val_accuracy: 0.8638\n",
      "Epoch 193/200\n",
      "23/23 [==============================] - 2s 76ms/step - loss: 0.2780 - accuracy: 0.9256 - val_loss: 0.6158 - val_accuracy: 0.8710\n",
      "Epoch 194/200\n",
      "23/23 [==============================] - 2s 78ms/step - loss: 0.2959 - accuracy: 0.9140 - val_loss: 0.6563 - val_accuracy: 0.8638\n",
      "Epoch 195/200\n",
      "23/23 [==============================] - 2s 79ms/step - loss: 0.2764 - accuracy: 0.9265 - val_loss: 0.6115 - val_accuracy: 0.8817\n",
      "Epoch 196/200\n",
      "23/23 [==============================] - 2s 78ms/step - loss: 0.2584 - accuracy: 0.9274 - val_loss: 0.6199 - val_accuracy: 0.8710\n",
      "Epoch 197/200\n",
      "23/23 [==============================] - 2s 76ms/step - loss: 0.2471 - accuracy: 0.9328 - val_loss: 0.6123 - val_accuracy: 0.8710\n",
      "Epoch 198/200\n",
      "23/23 [==============================] - 2s 76ms/step - loss: 0.2590 - accuracy: 0.9265 - val_loss: 0.6822 - val_accuracy: 0.8566\n",
      "Epoch 199/200\n",
      "23/23 [==============================] - 2s 78ms/step - loss: 0.2806 - accuracy: 0.9185 - val_loss: 0.6280 - val_accuracy: 0.8638\n",
      "Epoch 200/200\n",
      "23/23 [==============================] - 2s 77ms/step - loss: 0.2370 - accuracy: 0.9382 - val_loss: 0.6243 - val_accuracy: 0.8746\n"
     ]
    }
   ],
   "source": [
    "history = model.fit(X_train, y_train, epochs = 200, batch_size = 50, verbose = 1, validation_split=0.2)"
   ]
  },
  {
   "cell_type": "code",
   "execution_count": 134,
   "metadata": {},
   "outputs": [
    {
     "data": {
      "text/plain": [
       "<matplotlib.legend.Legend at 0x2969ad3a278>"
      ]
     },
     "execution_count": 134,
     "metadata": {},
     "output_type": "execute_result"
    },
    {
     "data": {
      "image/png": "[encoded data removed]",
      "text/plain": [
       "<Figure size 432x288 with 1 Axes>"
      ]
     },
     "metadata": {
      "needs_background": "light"
     },
     "output_type": "display_data"
    }
   ],
   "source": [
    "plt.plot(history.history['accuracy'], label='accuracy')\n",
    "plt.plot(history.history['val_accuracy'], label = 'val_accuracy')\n",
    "plt.legend(loc='lower right')"
   ]
  },
  {
   "cell_type": "code",
   "execution_count": 135,
   "metadata": {},
   "outputs": [
    {
     "data": {
      "text/plain": [
       "<matplotlib.legend.Legend at 0x296a5ad8470>"
      ]
     },
     "execution_count": 135,
     "metadata": {},
     "output_type": "execute_result"
    },
    {
     "data": {
      "image/png": "[encoded data removed]",
      "text/plain": [
       "<Figure size 432x288 with 1 Axes>"
      ]
     },
     "metadata": {
      "needs_background": "light"
     },
     "output_type": "display_data"
    }
   ],
   "source": [
    "plt.plot(history.history['loss'], label='loss')\n",
    "plt.plot(history.history['val_loss'], label = 'val_loss')\n",
    "plt.legend(loc='lower right')"
   ]
  },
  {
   "cell_type": "code",
   "execution_count": 136,
   "metadata": {
    "colab": {
     "base_uri": "https://localhost:8080/"
    },
    "executionInfo": {
     "elapsed": 425789,
     "status": "ok",
     "timestamp": 1604888971870,
     "user": {
      "displayName": "Buomsoo Kim",
      "photoUrl": "",
      "userId": "18268696804115368229"
     },
     "user_tz": 420
    },
    "id": "0JU5eZ1tzJcT",
    "outputId": "2b84607f-3816-450f-c14c-78ceeccb31d8"
   },
   "outputs": [],
   "source": [
    "y_pred = model.predict(X_test)"
   ]
  },
  {
   "cell_type": "code",
   "execution_count": 137,
   "metadata": {},
   "outputs": [],
   "source": [
    "y_pred_ = np.argmax(y_pred, axis = 1)"
   ]
  },
  {
   "cell_type": "code",
   "execution_count": 138,
   "metadata": {
    "colab": {
     "base_uri": "https://localhost:8080/"
    },
    "executionInfo": {
     "elapsed": 426014,
     "status": "ok",
     "timestamp": 1604888972100,
     "user": {
      "displayName": "Buomsoo Kim",
      "photoUrl": "",
      "userId": "18268696804115368229"
     },
     "user_tz": 420
    },
    "id": "I9la6CXyzJcV",
    "outputId": "7018f256-800f-4f28-f437-5fb822b585a0"
   },
   "outputs": [
    {
     "name": "stdout",
     "output_type": "stream",
     "text": [
      "0.8480801335559266\n"
     ]
    }
   ],
   "source": [
    "print(accuracy_score(y_pred_, y_test_))"
   ]
  },
  {
   "cell_type": "code",
   "execution_count": null,
   "metadata": {
    "id": "8jxeWrY_zZ3K"
   },
   "outputs": [],
   "source": []
  }
 ],
 "metadata": {
  "colab": {
   "name": "1-basic-rnn.ipynb",
   "provenance": []
  },
  "kernelspec": {
   "display_name": "Python 3",
   "language": "python",
   "name": "python3"
  },
  "language_info": {
   "codemirror_mode": {
    "name": "ipython",
    "version": 3
   },
   "file_extension": ".py",
   "mimetype": "text/x-python",
   "name": "python",
   "nbconvert_exporter": "python",
   "pygments_lexer": "ipython3",
   "version": "3.6.12"
  }
 },
 "nbformat": 4,
 "nbformat_minor": 1
}
